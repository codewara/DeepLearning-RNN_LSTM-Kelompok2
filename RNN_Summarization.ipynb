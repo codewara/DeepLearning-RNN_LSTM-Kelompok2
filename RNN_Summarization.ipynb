{
  "cells": [
    {
      "cell_type": "markdown",
      "metadata": {
        "id": "RNOnjnUuiqU-"
      },
      "source": [
        "# Peringkas Berita Bahasa Indonesia dengan RNN"
      ]
    },
    {
      "cell_type": "markdown",
      "metadata": {
        "id": "mn1tLpaej54P"
      },
      "source": [
        "## Pendahuluan"
      ]
    },
    {
      "cell_type": "markdown",
      "metadata": {
        "id": "lAJs76BSj8lP"
      },
      "source": [
        "Proyek ini bertujuan untuk membangun model sequence-to-sequence untuk tugas peringkasan teks otomatis (Text Summarization). Kami akan mengimplementasikan arsitektur Encoder-Decoder menggunakan lapisan `SimpleRNN` murni untuk melatih model yang mampu membaca sebuah artikel berita berbahasa Indonesia dan menghasilkan ringkasan yang lebih pendek."
      ]
    },
    {
      "cell_type": "markdown",
      "metadata": {
        "id": "cUx4rDh7pQkW"
      },
      "source": [
        "## Setup & Impor Library"
      ]
    },
    {
      "cell_type": "markdown",
      "metadata": {
        "id": "l9CRoh_2pUvO"
      },
      "source": [
        "Pada bagian ini, kami mengimpor semua library yang akan dibutuhkan untuk keseluruhan proyek, mulai dari pemrosesan data hingga pembangunan dan evaluasi model."
      ]
    },
    {
      "cell_type": "code",
      "execution_count": 30,
      "metadata": {
        "colab": {
          "base_uri": "https://localhost:8080/"
        },
        "id": "xq1cmwo0pWkR",
        "outputId": "1d246454-7f3e-42c6-ba85-50b3daa23205"
      },
      "outputs": [
        {
          "output_type": "stream",
          "name": "stdout",
          "text": [
            "Semua library berhasil diimpor.\n",
            "Versi TensorFlow: 2.19.0\n"
          ]
        }
      ],
      "source": [
        "# Library dasar untuk manipulasi data dan komputasi\n",
        "import os\n",
        "import pandas as pd\n",
        "import numpy as np\n",
        "import re\n",
        "import json\n",
        "\n",
        "# Library untuk visualisasi\n",
        "import matplotlib.pyplot as plt\n",
        "from IPython.display import display\n",
        "\n",
        "# Library TensorFlow dan Keras untuk pra-pemrosesan dan model\n",
        "import tensorflow as tf\n",
        "from tensorflow.keras.preprocessing.text import Tokenizer\n",
        "from tensorflow.keras.preprocessing.sequence import pad_sequences\n",
        "from tensorflow.keras.layers import Input, Embedding, SimpleRNN, Dense\n",
        "from tensorflow.keras.models import Model\n",
        "\n",
        "# Library dari Scikit-learn untuk membagi data\n",
        "from sklearn.model_selection import train_test_split\n",
        "\n",
        "print(\"Semua library berhasil diimpor.\")\n",
        "print(\"Versi TensorFlow:\", tf.__version__)"
      ]
    },
    {
      "cell_type": "markdown",
      "metadata": {
        "id": "aR64O59AkFNk"
      },
      "source": [
        "## Persiapan Dataset (IndoSum)"
      ]
    },
    {
      "cell_type": "markdown",
      "metadata": {
        "id": "xH6wUE_OkHv1"
      },
      "source": [
        "### Mengunduh dan Mengekstrak Dataset"
      ]
    },
    {
      "cell_type": "markdown",
      "metadata": {
        "id": "Hu4w7-fZkLLG"
      },
      "source": [
        "Pertama, kami mengunduh dataset IndoSum (yang berformat .tar.gz) dan mengekstraknya langsung di lingkungan Colab."
      ]
    },
    {
      "cell_type": "code",
      "execution_count": 31,
      "metadata": {
        "colab": {
          "base_uri": "https://localhost:8080/"
        },
        "id": "amGdpF5hkM3E",
        "outputId": "6f021a0e-6f95-4fb4-9ddf-f99665443c59"
      },
      "outputs": [
        {
          "output_type": "stream",
          "name": "stdout",
          "text": [
            "/usr/local/lib/python3.12/dist-packages/gdown/__main__.py:140: FutureWarning: Option `--id` was deprecated in version 4.3.1 and will be removed in 5.0. You don't need to pass it anymore to use a file ID.\n",
            "  warnings.warn(\n",
            "Downloading...\n",
            "From (original): https://drive.google.com/uc?id=1OgYbPfXFAv3TbwP1Qcwt_CC9cVWSJaco\n",
            "From (redirected): https://drive.google.com/uc?id=1OgYbPfXFAv3TbwP1Qcwt_CC9cVWSJaco&confirm=t&uuid=d178290b-0b47-4100-8547-f7f94380c648\n",
            "To: /content/indosum.tar.gz\n",
            "100% 96.0M/96.0M [00:00<00:00, 107MB/s]\n",
            "indosum/\n",
            "indosum/test.02.jsonl\n",
            "indosum/README.txt\n",
            "indosum/train.05.jsonl\n",
            "indosum/train.04.jsonl\n",
            "indosum/test.04.jsonl\n",
            "indosum/train.01.jsonl\n",
            "indosum/test.05.jsonl\n",
            "indosum/test.03.jsonl\n",
            "indosum/test.01.jsonl\n",
            "indosum/dev.04.jsonl\n",
            "indosum/dev.01.jsonl\n",
            "indosum/dev.02.jsonl\n",
            "indosum/train.02.jsonl\n",
            "indosum/dev.03.jsonl\n",
            "indosum/dev.05.jsonl\n",
            "indosum/CHANGELOG.txt\n",
            "indosum/train.03.jsonl\n",
            "\n",
            "Dataset IndoSum berhasil diunduh dan diekstrak.\n",
            "\n",
            "Isi dari folder 'indosum':\n",
            "CHANGELOG.txt  dev.04.jsonl   test.02.jsonl  train.01.jsonl  train.05.jsonl\n",
            "dev.01.jsonl   dev.05.jsonl   test.03.jsonl  train.02.jsonl\n",
            "dev.02.jsonl   README.txt     test.04.jsonl  train.03.jsonl\n",
            "dev.03.jsonl   test.01.jsonl  test.05.jsonl  train.04.jsonl\n"
          ]
        }
      ],
      "source": [
        "# Langkah 1: Unduh dataset indosum.tar.gz dari link Google Drive\n",
        "# Menggunakan ID file dari URL yang Anda berikan\n",
        "!gdown --id 1OgYbPfXFAv3TbwP1Qcwt_CC9cVWSJaco\n",
        "\n",
        "# Langkah 2: Ekstrak file .tar.gz yang sudah diunduh\n",
        "# Perintah 'tar -xzvf' digunakan untuk file .tar.gz\n",
        "!tar -xzvf indosum.tar.gz\n",
        "\n",
        "print(\"\\nDataset IndoSum berhasil diunduh dan diekstrak.\")\n",
        "\n",
        "# Langkah 3: Verifikasi isi folder hasil ekstraksi\n",
        "# Biasanya hasil ekstraksi dari file .tar.gz akan membuat folder 'indosum'\n",
        "print(\"\\nIsi dari folder 'indosum':\")\n",
        "!ls indosum"
      ]
    },
    {
      "cell_type": "markdown",
      "metadata": {
        "id": "T_0fHcRkmSzi"
      },
      "source": [
        "### Pemuatan Data"
      ]
    },
    {
      "cell_type": "markdown",
      "metadata": {
        "id": "Bq36VOs7ta4n"
      },
      "source": [
        "Pada bagian ini, dataset IndoSum yang telah diekstrak dimuat dari file JSON Lines (`indosum/train.01.jsonl`) ke dalam Pandas DataFrame untuk memudahkan manipulasi data."
      ]
    },
    {
      "cell_type": "code",
      "execution_count": 32,
      "metadata": {
        "colab": {
          "base_uri": "https://localhost:8080/",
          "height": 449
        },
        "id": "Tiw9Eqhmppb3",
        "outputId": "13713045-4498-407a-9ecb-9ed2cb3b7aea"
      },
      "outputs": [
        {
          "output_type": "stream",
          "name": "stdout",
          "text": [
            "Dataset prototipe ('indosum/train.01.jsonl') berhasil dimuat.\n",
            "Jumlah data: 14262 sampel.\n",
            "\n",
            "Contoh 5 Baris Pertama Data:\n"
          ]
        },
        {
          "output_type": "display_data",
          "data": {
            "text/plain": [
              "                                          paragraphs  \\\n",
              "0  [[[Jakarta, ,, CNN, Indonesia, -, -, Dokter, R...   \n",
              "1  [[[Selfie, ialah, salah, satu, tema, terpanas,...   \n",
              "2  [[[Jakarta, ,, CNN, Indonesia, -, -, Dinas, Pa...   \n",
              "3  [[[Merdeka.com, -, Indonesia, Corruption, Watc...   \n",
              "4  [[[Merdeka.com, -, Presiden, Joko, Widodo, (, ...   \n",
              "\n",
              "                                             summary  \n",
              "0  [[Dokter, Lula, Kamal, yang, merupakan, selebr...  \n",
              "1  [[Asus, memperkenalkan,  , ZenFone, generasi, ...  \n",
              "2  [[Dinas, Pariwisata, Provinsi, Bengkulu, kemba...  \n",
              "3  [[Indonesia, Corruption, Watch, (, ICW, ), mem...  \n",
              "4  [[Jokowi, memimpin, upacara, penurunan, bender...  "
            ],
            "text/html": [
              "\n",
              "  <div id=\"df-c094c1b5-e5a4-436e-9a1b-943d4be92f3c\" class=\"colab-df-container\">\n",
              "    <div>\n",
              "<style scoped>\n",
              "    .dataframe tbody tr th:only-of-type {\n",
              "        vertical-align: middle;\n",
              "    }\n",
              "\n",
              "    .dataframe tbody tr th {\n",
              "        vertical-align: top;\n",
              "    }\n",
              "\n",
              "    .dataframe thead th {\n",
              "        text-align: right;\n",
              "    }\n",
              "</style>\n",
              "<table border=\"1\" class=\"dataframe\">\n",
              "  <thead>\n",
              "    <tr style=\"text-align: right;\">\n",
              "      <th></th>\n",
              "      <th>paragraphs</th>\n",
              "      <th>summary</th>\n",
              "    </tr>\n",
              "  </thead>\n",
              "  <tbody>\n",
              "    <tr>\n",
              "      <th>0</th>\n",
              "      <td>[[[Jakarta, ,, CNN, Indonesia, -, -, Dokter, R...</td>\n",
              "      <td>[[Dokter, Lula, Kamal, yang, merupakan, selebr...</td>\n",
              "    </tr>\n",
              "    <tr>\n",
              "      <th>1</th>\n",
              "      <td>[[[Selfie, ialah, salah, satu, tema, terpanas,...</td>\n",
              "      <td>[[Asus, memperkenalkan,  , ZenFone, generasi, ...</td>\n",
              "    </tr>\n",
              "    <tr>\n",
              "      <th>2</th>\n",
              "      <td>[[[Jakarta, ,, CNN, Indonesia, -, -, Dinas, Pa...</td>\n",
              "      <td>[[Dinas, Pariwisata, Provinsi, Bengkulu, kemba...</td>\n",
              "    </tr>\n",
              "    <tr>\n",
              "      <th>3</th>\n",
              "      <td>[[[Merdeka.com, -, Indonesia, Corruption, Watc...</td>\n",
              "      <td>[[Indonesia, Corruption, Watch, (, ICW, ), mem...</td>\n",
              "    </tr>\n",
              "    <tr>\n",
              "      <th>4</th>\n",
              "      <td>[[[Merdeka.com, -, Presiden, Joko, Widodo, (, ...</td>\n",
              "      <td>[[Jokowi, memimpin, upacara, penurunan, bender...</td>\n",
              "    </tr>\n",
              "  </tbody>\n",
              "</table>\n",
              "</div>\n",
              "    <div class=\"colab-df-buttons\">\n",
              "\n",
              "  <div class=\"colab-df-container\">\n",
              "    <button class=\"colab-df-convert\" onclick=\"convertToInteractive('df-c094c1b5-e5a4-436e-9a1b-943d4be92f3c')\"\n",
              "            title=\"Convert this dataframe to an interactive table.\"\n",
              "            style=\"display:none;\">\n",
              "\n",
              "  <svg xmlns=\"http://www.w3.org/2000/svg\" height=\"24px\" viewBox=\"0 -960 960 960\">\n",
              "    <path d=\"M120-120v-720h720v720H120Zm60-500h600v-160H180v160Zm220 220h160v-160H400v160Zm0 220h160v-160H400v160ZM180-400h160v-160H180v160Zm440 0h160v-160H620v160ZM180-180h160v-160H180v160Zm440 0h160v-160H620v160Z\"/>\n",
              "  </svg>\n",
              "    </button>\n",
              "\n",
              "  <style>\n",
              "    .colab-df-container {\n",
              "      display:flex;\n",
              "      gap: 12px;\n",
              "    }\n",
              "\n",
              "    .colab-df-convert {\n",
              "      background-color: #E8F0FE;\n",
              "      border: none;\n",
              "      border-radius: 50%;\n",
              "      cursor: pointer;\n",
              "      display: none;\n",
              "      fill: #1967D2;\n",
              "      height: 32px;\n",
              "      padding: 0 0 0 0;\n",
              "      width: 32px;\n",
              "    }\n",
              "\n",
              "    .colab-df-convert:hover {\n",
              "      background-color: #E2EBFA;\n",
              "      box-shadow: 0px 1px 2px rgba(60, 64, 67, 0.3), 0px 1px 3px 1px rgba(60, 64, 67, 0.15);\n",
              "      fill: #174EA6;\n",
              "    }\n",
              "\n",
              "    .colab-df-buttons div {\n",
              "      margin-bottom: 4px;\n",
              "    }\n",
              "\n",
              "    [theme=dark] .colab-df-convert {\n",
              "      background-color: #3B4455;\n",
              "      fill: #D2E3FC;\n",
              "    }\n",
              "\n",
              "    [theme=dark] .colab-df-convert:hover {\n",
              "      background-color: #434B5C;\n",
              "      box-shadow: 0px 1px 3px 1px rgba(0, 0, 0, 0.15);\n",
              "      filter: drop-shadow(0px 1px 2px rgba(0, 0, 0, 0.3));\n",
              "      fill: #FFFFFF;\n",
              "    }\n",
              "  </style>\n",
              "\n",
              "    <script>\n",
              "      const buttonEl =\n",
              "        document.querySelector('#df-c094c1b5-e5a4-436e-9a1b-943d4be92f3c button.colab-df-convert');\n",
              "      buttonEl.style.display =\n",
              "        google.colab.kernel.accessAllowed ? 'block' : 'none';\n",
              "\n",
              "      async function convertToInteractive(key) {\n",
              "        const element = document.querySelector('#df-c094c1b5-e5a4-436e-9a1b-943d4be92f3c');\n",
              "        const dataTable =\n",
              "          await google.colab.kernel.invokeFunction('convertToInteractive',\n",
              "                                                    [key], {});\n",
              "        if (!dataTable) return;\n",
              "\n",
              "        const docLinkHtml = 'Like what you see? Visit the ' +\n",
              "          '<a target=\"_blank\" href=https://colab.research.google.com/notebooks/data_table.ipynb>data table notebook</a>'\n",
              "          + ' to learn more about interactive tables.';\n",
              "        element.innerHTML = '';\n",
              "        dataTable['output_type'] = 'display_data';\n",
              "        await google.colab.output.renderOutput(dataTable, element);\n",
              "        const docLink = document.createElement('div');\n",
              "        docLink.innerHTML = docLinkHtml;\n",
              "        element.appendChild(docLink);\n",
              "      }\n",
              "    </script>\n",
              "  </div>\n",
              "\n",
              "\n",
              "    <div id=\"df-2465fc7c-fba4-430f-bfe4-50d8a3ef0c98\">\n",
              "      <button class=\"colab-df-quickchart\" onclick=\"quickchart('df-2465fc7c-fba4-430f-bfe4-50d8a3ef0c98')\"\n",
              "                title=\"Suggest charts\"\n",
              "                style=\"display:none;\">\n",
              "\n",
              "<svg xmlns=\"http://www.w3.org/2000/svg\" height=\"24px\"viewBox=\"0 0 24 24\"\n",
              "     width=\"24px\">\n",
              "    <g>\n",
              "        <path d=\"M19 3H5c-1.1 0-2 .9-2 2v14c0 1.1.9 2 2 2h14c1.1 0 2-.9 2-2V5c0-1.1-.9-2-2-2zM9 17H7v-7h2v7zm4 0h-2V7h2v10zm4 0h-2v-4h2v4z\"/>\n",
              "    </g>\n",
              "</svg>\n",
              "      </button>\n",
              "\n",
              "<style>\n",
              "  .colab-df-quickchart {\n",
              "      --bg-color: #E8F0FE;\n",
              "      --fill-color: #1967D2;\n",
              "      --hover-bg-color: #E2EBFA;\n",
              "      --hover-fill-color: #174EA6;\n",
              "      --disabled-fill-color: #AAA;\n",
              "      --disabled-bg-color: #DDD;\n",
              "  }\n",
              "\n",
              "  [theme=dark] .colab-df-quickchart {\n",
              "      --bg-color: #3B4455;\n",
              "      --fill-color: #D2E3FC;\n",
              "      --hover-bg-color: #434B5C;\n",
              "      --hover-fill-color: #FFFFFF;\n",
              "      --disabled-bg-color: #3B4455;\n",
              "      --disabled-fill-color: #666;\n",
              "  }\n",
              "\n",
              "  .colab-df-quickchart {\n",
              "    background-color: var(--bg-color);\n",
              "    border: none;\n",
              "    border-radius: 50%;\n",
              "    cursor: pointer;\n",
              "    display: none;\n",
              "    fill: var(--fill-color);\n",
              "    height: 32px;\n",
              "    padding: 0;\n",
              "    width: 32px;\n",
              "  }\n",
              "\n",
              "  .colab-df-quickchart:hover {\n",
              "    background-color: var(--hover-bg-color);\n",
              "    box-shadow: 0 1px 2px rgba(60, 64, 67, 0.3), 0 1px 3px 1px rgba(60, 64, 67, 0.15);\n",
              "    fill: var(--button-hover-fill-color);\n",
              "  }\n",
              "\n",
              "  .colab-df-quickchart-complete:disabled,\n",
              "  .colab-df-quickchart-complete:disabled:hover {\n",
              "    background-color: var(--disabled-bg-color);\n",
              "    fill: var(--disabled-fill-color);\n",
              "    box-shadow: none;\n",
              "  }\n",
              "\n",
              "  .colab-df-spinner {\n",
              "    border: 2px solid var(--fill-color);\n",
              "    border-color: transparent;\n",
              "    border-bottom-color: var(--fill-color);\n",
              "    animation:\n",
              "      spin 1s steps(1) infinite;\n",
              "  }\n",
              "\n",
              "  @keyframes spin {\n",
              "    0% {\n",
              "      border-color: transparent;\n",
              "      border-bottom-color: var(--fill-color);\n",
              "      border-left-color: var(--fill-color);\n",
              "    }\n",
              "    20% {\n",
              "      border-color: transparent;\n",
              "      border-left-color: var(--fill-color);\n",
              "      border-top-color: var(--fill-color);\n",
              "    }\n",
              "    30% {\n",
              "      border-color: transparent;\n",
              "      border-left-color: var(--fill-color);\n",
              "      border-top-color: var(--fill-color);\n",
              "      border-right-color: var(--fill-color);\n",
              "    }\n",
              "    40% {\n",
              "      border-color: transparent;\n",
              "      border-right-color: var(--fill-color);\n",
              "      border-top-color: var(--fill-color);\n",
              "    }\n",
              "    60% {\n",
              "      border-color: transparent;\n",
              "      border-right-color: var(--fill-color);\n",
              "    }\n",
              "    80% {\n",
              "      border-color: transparent;\n",
              "      border-right-color: var(--fill-color);\n",
              "      border-bottom-color: var(--fill-color);\n",
              "    }\n",
              "    90% {\n",
              "      border-color: transparent;\n",
              "      border-bottom-color: var(--fill-color);\n",
              "    }\n",
              "  }\n",
              "</style>\n",
              "\n",
              "      <script>\n",
              "        async function quickchart(key) {\n",
              "          const quickchartButtonEl =\n",
              "            document.querySelector('#' + key + ' button');\n",
              "          quickchartButtonEl.disabled = true;  // To prevent multiple clicks.\n",
              "          quickchartButtonEl.classList.add('colab-df-spinner');\n",
              "          try {\n",
              "            const charts = await google.colab.kernel.invokeFunction(\n",
              "                'suggestCharts', [key], {});\n",
              "          } catch (error) {\n",
              "            console.error('Error during call to suggestCharts:', error);\n",
              "          }\n",
              "          quickchartButtonEl.classList.remove('colab-df-spinner');\n",
              "          quickchartButtonEl.classList.add('colab-df-quickchart-complete');\n",
              "        }\n",
              "        (() => {\n",
              "          let quickchartButtonEl =\n",
              "            document.querySelector('#df-2465fc7c-fba4-430f-bfe4-50d8a3ef0c98 button');\n",
              "          quickchartButtonEl.style.display =\n",
              "            google.colab.kernel.accessAllowed ? 'block' : 'none';\n",
              "        })();\n",
              "      </script>\n",
              "    </div>\n",
              "\n",
              "    </div>\n",
              "  </div>\n"
            ],
            "application/vnd.google.colaboratory.intrinsic+json": {
              "type": "dataframe",
              "summary": "{\n  \"name\": \"    print(f\\\"Terjadi error saat membaca file: {e}\\\")\",\n  \"rows\": 5,\n  \"fields\": [\n    {\n      \"column\": \"paragraphs\",\n      \"properties\": {\n        \"dtype\": \"object\",\n        \"semantic_type\": \"\",\n        \"description\": \"\"\n      }\n    },\n    {\n      \"column\": \"summary\",\n      \"properties\": {\n        \"dtype\": \"object\",\n        \"semantic_type\": \"\",\n        \"description\": \"\"\n      }\n    }\n  ]\n}"
            }
          },
          "metadata": {}
        },
        {
          "output_type": "stream",
          "name": "stdout",
          "text": [
            "\n",
            "Memeriksa apakah ada data yang hilang:\n",
            "category       0\n",
            "gold_labels    0\n",
            "id             0\n",
            "paragraphs     0\n",
            "source         0\n",
            "source_url     0\n",
            "summary        0\n",
            "dtype: int64\n"
          ]
        }
      ],
      "source": [
        "# Path ke salah satu file training di dalam folder yang sudah diekstrak\n",
        "file_path = 'indosum/train.01.jsonl'\n",
        "\n",
        "# Membaca data dari file JSON Lines\n",
        "try:\n",
        "    # Menggunakan pd.read_json dengan lines=True yang cocok untuk format .jsonl\n",
        "    df = pd.read_json(file_path, lines=True)\n",
        "\n",
        "    print(f\"Dataset prototipe ('{file_path}') berhasil dimuat.\")\n",
        "    print(f\"Jumlah data: {len(df)} sampel.\")\n",
        "\n",
        "    print(\"\\nContoh 5 Baris Pertama Data:\")\n",
        "    # Kami akan fokus pada kolom 'paragraphs' dan 'summary'\n",
        "    display(df[['paragraphs', 'summary']].head())\n",
        "\n",
        "    print(\"\\nMemeriksa apakah ada data yang hilang:\")\n",
        "    print(df.isnull().sum())\n",
        "\n",
        "except FileNotFoundError:\n",
        "    print(f\"ERROR: File '{file_path}' tidak ditemukan. Pastikan proses ekstraksi sebelumnya berhasil.\")\n",
        "except Exception as e:\n",
        "    print(f\"Terjadi error saat membaca file: {e}\")"
      ]
    },
    {
      "cell_type": "markdown",
      "metadata": {
        "id": "08d7d2b7"
      },
      "source": [
        "### Pra-pemrosesan Teks"
      ]
    },
    {
      "cell_type": "markdown",
      "metadata": {
        "id": "JGhcuetrtXi4"
      },
      "source": [
        "Pada tahap ini, kami akan melakukan dua tugas utama:\n",
        "\n",
        "- Pembersihan Teks: Kami membuat sebuah fungsi clean_text yang lebih robust untuk menangani struktur data dari dataset IndoSum. Fungsi ini akan menggabungkan paragraf-paragraf yang terpisah (dalam format list of lists) menjadi satu string tunggal, lalu membersihkannya dari noise seperti URL, mention, dan karakter yang tidak relevan.\n",
        "- Persiapan Target Decoder: Kami akan menambahkan token <start> dan <end> pada setiap kalimat ringkasan. Token ini berfungsi sebagai sinyal bagi model decoder kapan harus memulai dan mengakhiri sebuah kalimat."
      ]
    },
    {
      "cell_type": "code",
      "execution_count": 33,
      "metadata": {
        "id": "xezoeVPqp174",
        "colab": {
          "base_uri": "https://localhost:8080/",
          "height": 223
        },
        "outputId": "df8c8e3d-a01e-436b-d944-0572428eaee2"
      },
      "outputs": [
        {
          "output_type": "stream",
          "name": "stdout",
          "text": [
            "Contoh data setelah pembersihan (dengan pemisahan regex):\n"
          ]
        },
        {
          "output_type": "display_data",
          "data": {
            "text/plain": [
              "                                      artikel_bersih  \\\n",
              "0  jakarta cnn indonesia dokter ryan thamrin yang...   \n",
              "1  selfie ialah salah satu tema terpanas di kalan...   \n",
              "2  jakarta cnn indonesia dinas pariwisata provins...   \n",
              "3  merdeka.com indonesia corruption watch icw mem...   \n",
              "4  merdeka.com presiden joko widodo jokowi memimp...   \n",
              "\n",
              "                                   ringkasan_decoder  \n",
              "0  <start> dokter lula kamal yang merupakan seleb...  \n",
              "1  <start> asus memperkenalkan  zenfone generasi ...  \n",
              "2  <start> dinas pariwisata provinsi bengkulu kem...  \n",
              "3  <start> indonesia corruption watch icw meminta...  \n",
              "4  <start> jokowi memimpin upacara penurunan bend...  "
            ],
            "text/html": [
              "\n",
              "  <div id=\"df-a5986c38-dedc-4d23-b0ca-6f8a43ab557b\" class=\"colab-df-container\">\n",
              "    <div>\n",
              "<style scoped>\n",
              "    .dataframe tbody tr th:only-of-type {\n",
              "        vertical-align: middle;\n",
              "    }\n",
              "\n",
              "    .dataframe tbody tr th {\n",
              "        vertical-align: top;\n",
              "    }\n",
              "\n",
              "    .dataframe thead th {\n",
              "        text-align: right;\n",
              "    }\n",
              "</style>\n",
              "<table border=\"1\" class=\"dataframe\">\n",
              "  <thead>\n",
              "    <tr style=\"text-align: right;\">\n",
              "      <th></th>\n",
              "      <th>artikel_bersih</th>\n",
              "      <th>ringkasan_decoder</th>\n",
              "    </tr>\n",
              "  </thead>\n",
              "  <tbody>\n",
              "    <tr>\n",
              "      <th>0</th>\n",
              "      <td>jakarta cnn indonesia dokter ryan thamrin yang...</td>\n",
              "      <td>&lt;start&gt; dokter lula kamal yang merupakan seleb...</td>\n",
              "    </tr>\n",
              "    <tr>\n",
              "      <th>1</th>\n",
              "      <td>selfie ialah salah satu tema terpanas di kalan...</td>\n",
              "      <td>&lt;start&gt; asus memperkenalkan  zenfone generasi ...</td>\n",
              "    </tr>\n",
              "    <tr>\n",
              "      <th>2</th>\n",
              "      <td>jakarta cnn indonesia dinas pariwisata provins...</td>\n",
              "      <td>&lt;start&gt; dinas pariwisata provinsi bengkulu kem...</td>\n",
              "    </tr>\n",
              "    <tr>\n",
              "      <th>3</th>\n",
              "      <td>merdeka.com indonesia corruption watch icw mem...</td>\n",
              "      <td>&lt;start&gt; indonesia corruption watch icw meminta...</td>\n",
              "    </tr>\n",
              "    <tr>\n",
              "      <th>4</th>\n",
              "      <td>merdeka.com presiden joko widodo jokowi memimp...</td>\n",
              "      <td>&lt;start&gt; jokowi memimpin upacara penurunan bend...</td>\n",
              "    </tr>\n",
              "  </tbody>\n",
              "</table>\n",
              "</div>\n",
              "    <div class=\"colab-df-buttons\">\n",
              "\n",
              "  <div class=\"colab-df-container\">\n",
              "    <button class=\"colab-df-convert\" onclick=\"convertToInteractive('df-a5986c38-dedc-4d23-b0ca-6f8a43ab557b')\"\n",
              "            title=\"Convert this dataframe to an interactive table.\"\n",
              "            style=\"display:none;\">\n",
              "\n",
              "  <svg xmlns=\"http://www.w3.org/2000/svg\" height=\"24px\" viewBox=\"0 -960 960 960\">\n",
              "    <path d=\"M120-120v-720h720v720H120Zm60-500h600v-160H180v160Zm220 220h160v-160H400v160Zm0 220h160v-160H400v160ZM180-400h160v-160H180v160Zm440 0h160v-160H620v160ZM180-180h160v-160H180v160Zm440 0h160v-160H620v160Z\"/>\n",
              "  </svg>\n",
              "    </button>\n",
              "\n",
              "  <style>\n",
              "    .colab-df-container {\n",
              "      display:flex;\n",
              "      gap: 12px;\n",
              "    }\n",
              "\n",
              "    .colab-df-convert {\n",
              "      background-color: #E8F0FE;\n",
              "      border: none;\n",
              "      border-radius: 50%;\n",
              "      cursor: pointer;\n",
              "      display: none;\n",
              "      fill: #1967D2;\n",
              "      height: 32px;\n",
              "      padding: 0 0 0 0;\n",
              "      width: 32px;\n",
              "    }\n",
              "\n",
              "    .colab-df-convert:hover {\n",
              "      background-color: #E2EBFA;\n",
              "      box-shadow: 0px 1px 2px rgba(60, 64, 67, 0.3), 0px 1px 3px 1px rgba(60, 64, 67, 0.15);\n",
              "      fill: #174EA6;\n",
              "    }\n",
              "\n",
              "    .colab-df-buttons div {\n",
              "      margin-bottom: 4px;\n",
              "    }\n",
              "\n",
              "    [theme=dark] .colab-df-convert {\n",
              "      background-color: #3B4455;\n",
              "      fill: #D2E3FC;\n",
              "    }\n",
              "\n",
              "    [theme=dark] .colab-df-convert:hover {\n",
              "      background-color: #434B5C;\n",
              "      box-shadow: 0px 1px 3px 1px rgba(0, 0, 0, 0.15);\n",
              "      filter: drop-shadow(0px 1px 2px rgba(0, 0, 0, 0.3));\n",
              "      fill: #FFFFFF;\n",
              "    }\n",
              "  </style>\n",
              "\n",
              "    <script>\n",
              "      const buttonEl =\n",
              "        document.querySelector('#df-a5986c38-dedc-4d23-b0ca-6f8a43ab557b button.colab-df-convert');\n",
              "      buttonEl.style.display =\n",
              "        google.colab.kernel.accessAllowed ? 'block' : 'none';\n",
              "\n",
              "      async function convertToInteractive(key) {\n",
              "        const element = document.querySelector('#df-a5986c38-dedc-4d23-b0ca-6f8a43ab557b');\n",
              "        const dataTable =\n",
              "          await google.colab.kernel.invokeFunction('convertToInteractive',\n",
              "                                                    [key], {});\n",
              "        if (!dataTable) return;\n",
              "\n",
              "        const docLinkHtml = 'Like what you see? Visit the ' +\n",
              "          '<a target=\"_blank\" href=https://colab.research.google.com/notebooks/data_table.ipynb>data table notebook</a>'\n",
              "          + ' to learn more about interactive tables.';\n",
              "        element.innerHTML = '';\n",
              "        dataTable['output_type'] = 'display_data';\n",
              "        await google.colab.output.renderOutput(dataTable, element);\n",
              "        const docLink = document.createElement('div');\n",
              "        docLink.innerHTML = docLinkHtml;\n",
              "        element.appendChild(docLink);\n",
              "      }\n",
              "    </script>\n",
              "  </div>\n",
              "\n",
              "\n",
              "    <div id=\"df-4a4310ca-41f6-4692-abcf-066641c9105a\">\n",
              "      <button class=\"colab-df-quickchart\" onclick=\"quickchart('df-4a4310ca-41f6-4692-abcf-066641c9105a')\"\n",
              "                title=\"Suggest charts\"\n",
              "                style=\"display:none;\">\n",
              "\n",
              "<svg xmlns=\"http://www.w3.org/2000/svg\" height=\"24px\"viewBox=\"0 0 24 24\"\n",
              "     width=\"24px\">\n",
              "    <g>\n",
              "        <path d=\"M19 3H5c-1.1 0-2 .9-2 2v14c0 1.1.9 2 2 2h14c1.1 0 2-.9 2-2V5c0-1.1-.9-2-2-2zM9 17H7v-7h2v7zm4 0h-2V7h2v10zm4 0h-2v-4h2v4z\"/>\n",
              "    </g>\n",
              "</svg>\n",
              "      </button>\n",
              "\n",
              "<style>\n",
              "  .colab-df-quickchart {\n",
              "      --bg-color: #E8F0FE;\n",
              "      --fill-color: #1967D2;\n",
              "      --hover-bg-color: #E2EBFA;\n",
              "      --hover-fill-color: #174EA6;\n",
              "      --disabled-fill-color: #AAA;\n",
              "      --disabled-bg-color: #DDD;\n",
              "  }\n",
              "\n",
              "  [theme=dark] .colab-df-quickchart {\n",
              "      --bg-color: #3B4455;\n",
              "      --fill-color: #D2E3FC;\n",
              "      --hover-bg-color: #434B5C;\n",
              "      --hover-fill-color: #FFFFFF;\n",
              "      --disabled-bg-color: #3B4455;\n",
              "      --disabled-fill-color: #666;\n",
              "  }\n",
              "\n",
              "  .colab-df-quickchart {\n",
              "    background-color: var(--bg-color);\n",
              "    border: none;\n",
              "    border-radius: 50%;\n",
              "    cursor: pointer;\n",
              "    display: none;\n",
              "    fill: var(--fill-color);\n",
              "    height: 32px;\n",
              "    padding: 0;\n",
              "    width: 32px;\n",
              "  }\n",
              "\n",
              "  .colab-df-quickchart:hover {\n",
              "    background-color: var(--hover-bg-color);\n",
              "    box-shadow: 0 1px 2px rgba(60, 64, 67, 0.3), 0 1px 3px 1px rgba(60, 64, 67, 0.15);\n",
              "    fill: var(--button-hover-fill-color);\n",
              "  }\n",
              "\n",
              "  .colab-df-quickchart-complete:disabled,\n",
              "  .colab-df-quickchart-complete:disabled:hover {\n",
              "    background-color: var(--disabled-bg-color);\n",
              "    fill: var(--disabled-fill-color);\n",
              "    box-shadow: none;\n",
              "  }\n",
              "\n",
              "  .colab-df-spinner {\n",
              "    border: 2px solid var(--fill-color);\n",
              "    border-color: transparent;\n",
              "    border-bottom-color: var(--fill-color);\n",
              "    animation:\n",
              "      spin 1s steps(1) infinite;\n",
              "  }\n",
              "\n",
              "  @keyframes spin {\n",
              "    0% {\n",
              "      border-color: transparent;\n",
              "      border-bottom-color: var(--fill-color);\n",
              "      border-left-color: var(--fill-color);\n",
              "    }\n",
              "    20% {\n",
              "      border-color: transparent;\n",
              "      border-left-color: var(--fill-color);\n",
              "      border-top-color: var(--fill-color);\n",
              "    }\n",
              "    30% {\n",
              "      border-color: transparent;\n",
              "      border-left-color: var(--fill-color);\n",
              "      border-top-color: var(--fill-color);\n",
              "      border-right-color: var(--fill-color);\n",
              "    }\n",
              "    40% {\n",
              "      border-color: transparent;\n",
              "      border-right-color: var(--fill-color);\n",
              "      border-top-color: var(--fill-color);\n",
              "    }\n",
              "    60% {\n",
              "      border-color: transparent;\n",
              "      border-right-color: var(--fill-color);\n",
              "    }\n",
              "    80% {\n",
              "      border-color: transparent;\n",
              "      border-right-color: var(--fill-color);\n",
              "      border-bottom-color: var(--fill-color);\n",
              "    }\n",
              "    90% {\n",
              "      border-color: transparent;\n",
              "      border-bottom-color: var(--fill-color);\n",
              "    }\n",
              "  }\n",
              "</style>\n",
              "\n",
              "      <script>\n",
              "        async function quickchart(key) {\n",
              "          const quickchartButtonEl =\n",
              "            document.querySelector('#' + key + ' button');\n",
              "          quickchartButtonEl.disabled = true;  // To prevent multiple clicks.\n",
              "          quickchartButtonEl.classList.add('colab-df-spinner');\n",
              "          try {\n",
              "            const charts = await google.colab.kernel.invokeFunction(\n",
              "                'suggestCharts', [key], {});\n",
              "          } catch (error) {\n",
              "            console.error('Error during call to suggestCharts:', error);\n",
              "          }\n",
              "          quickchartButtonEl.classList.remove('colab-df-spinner');\n",
              "          quickchartButtonEl.classList.add('colab-df-quickchart-complete');\n",
              "        }\n",
              "        (() => {\n",
              "          let quickchartButtonEl =\n",
              "            document.querySelector('#df-4a4310ca-41f6-4692-abcf-066641c9105a button');\n",
              "          quickchartButtonEl.style.display =\n",
              "            google.colab.kernel.accessAllowed ? 'block' : 'none';\n",
              "        })();\n",
              "      </script>\n",
              "    </div>\n",
              "\n",
              "    </div>\n",
              "  </div>\n"
            ],
            "application/vnd.google.colaboratory.intrinsic+json": {
              "type": "dataframe",
              "summary": "{\n  \"name\": \"display(df[['artikel_bersih', 'ringkasan_decoder']]\",\n  \"rows\": 5,\n  \"fields\": [\n    {\n      \"column\": \"artikel_bersih\",\n      \"properties\": {\n        \"dtype\": \"string\",\n        \"num_unique_values\": 5,\n        \"samples\": [\n          \"selfie ialah salah satu tema terpanas di kalangan produsen smartphone bahkan menjadi senjata andalan beberapa brand terkenal. anda mungkin berpikir bahwa saat ini pasar handset spesialis selfie sudah sangat sesak. tapi asus masih melihat adanya peluang besar menanti di sana. dari data mereka sebanyak 71 persen orang indonesia setidaknya mengambil selfie atau wefie setiap minggu. setelah mulai menyelami ranah swafoto dua tahun silam lewat zanfone selfie sang produsen hardware asal taiwan itu akhirnya membawa sepasang pewarisnya ke tanah air. handset handset ini merupakan anggota keluarga zenfone generasi keempat dan keduanya samasama dibekali setup kamera ganda di depan. mereka adalah asus zenfone 4 selfie pro zd552kl dan zenfone 4 selfie zd553kl. ceo asus jerry shen menjelaskan bahwa sudah waktunya bagi asus untuk memberikan penawaran baru buat penggemar self portrait demi menunjukkan keseriusan mereka di segmen itu. walaupun  telah tersedia banyak pilihan  asus berpendapat bahwa konsumen di indonesia membutuhkan solusi yang lebih profesional. dua zenfone selfie anyar ini kabarnya diracik sedemikian rupa sebagai jawaban atas kekurangan yang ada di perangkat perangkat kompetitor khususnya pada aspek jangkauan lensa dan performa di kondisi lowlight. zenfone 4 selfie pro  merupakan produk swafoto pamungkas asus. tubuh berbahan aluminiumnya dibuat melalui teknik nano molding dan tiap lekukannya dibentuk secara presisi. dipadu layar berlapis corning gorilla glass 5 2.5d saya akui penampilan handset ini sangat menawan terutama  untuk varian berwarna merahnya. sebagai jendela akses konten smartphone  menghidangkan layar amoled 1080p berkepadatan 401 ppi seluas 55 inci. atraksi utama dari zenfone 4 selfie pro tentu saja adalah kamera depannya. di sana asus mencantumkan sistem duopixel 24mp berisi kombinasi sepasang sensor sony exmor rs imx362 14 m 12 megapixel dengan aperture f1.8 ditambah sensor omnivision 5670 112 m f2.2 yang memiliki lensa wideangle 120 derajat sehingga kamera bisa merangkul objek dua kali lebih banyak memungkinkan anda berselfie bersama kawan ataupun keluarga tanpa bantuan monopod. selain itu asus melengkapi zenfone 4 selfie pro dengan bundel perkakas khusus swafoto bernama selfiemaster. tool ini berisi fiturfitur krusial semisal beautify buat foto maupun video serta kolase dan beautylive. produsen juga tak lupa menyiapkan flash led softlight  untuk membantu pengambilan foto di kondisi temaram. kamera belakangnya sendiri mengandalkan sensor sony exmor imx351 1 m 16 megapixel berlensa 26 mm f2.2. ia dibantu sistem electronic image stabilization phase detection autofocus serta led dual tone flash. di dalam asus mempersenjatai zd552kl dengan chip qualcomm snapdragon 625 ada prosesor octacore cortex a53 2 ghz dan gpu adreno 506 ram sebesar 4 gb rom 64 gb dan baterai 3.000 mah. smartphone berjalan di sistem operasi android 7.1.1 nougat plus interface zenui 4.0. zd553kl ialah alternatif lebih terjangkau dari saudarinya di atas. handset mengusung arahan desain serupa zenfone 4 selfie pro namun konstruksi tubuhnya terbuat dari plastik dan layar ips 55 incinya menyajikan resolusi 720p. tapi jangan cemas soal penampilannya smartphone tetap memanfaatkan kaca 2.5d sehingga memberi kesan menyambung pada lekukan di sisi samping. kapabilitas swafoto zenfone 4 selfie bersandar pada sensor omnivision 20880 1 m 20 megapixel f2.0 dan sensor omnivision 8856 112 m f2.4 dengan lensa wideangle 120 derajat. sudut jangkauan jepretan dan sejumlah kelengkapannya tak berbeda dari selfie 4 pro. anda kembali dihindangkan selfiemaster flash led softlight mode panorama serta hdr. ukuran megapixel kamera belakangnya setara zenfone 4 selfie pro namun jenis sensornya berbeda. smartphone tersebut menggunakan omnivision 16880 1 m 16mp dengan aperture lensa f2.2. meski demikian fiturfitur penunjang fotografi seperti pdaf eis dan flash led juga tetap ada di sana. zenfone 4 selfie diotaki systemonchip qualcomm snapdragon 430 berisi cpu octacore cortex a53 14 ghz dan gpu adreno 505. handset menyimpan ram 4 gb memori internal 64 gb lalu tenaganya dipasok oleh baterai 3.000 mah non removable di dalam. satu keunikan yang membuat zd553kl lebih unggul dari zenfone 4 selfie pro adalah dukungan tiga slot kartu dua untuk sim dan satu lagi buat microsd storage dapat diekspansi  sampai  2 tb. smartphone juga beroperasi di platform android 7.1.1 nougat dengan zenui 4.0. zenfone 4 selfie pro zd552kl dibanderol seharga rp 5 juta sedangkan zenfone 4 selfie zd553kl dipatok di harga rp 35 juta. kedua perangkat sudah mulai dipasarkan mulai tanggal 25 november dan sampai  tanggal 10 november nanti paket penjualan turut dibundel bersama gong yoo special gift box serta speaker bluetooth khusus zenfone 4 selfie pro selama persediaan masih ada. dailysocial.id adalah portal berita startup dan inovasi teknologi. kamu bisa menjadi member komunitas startup dan inovasi dailysocial.id mengunduh laporan riset dan statistik seputar teknologi secara cumacuma dan mengikuti berita startup indonesia dan gadget terbaru.\",\n          \"merdeka.com presiden joko widodo jokowi memimpin upacara penurunan bendera di halaman istana merdeka jakarta. usai prosesi penurunan bendera dilakukan jokowi kembali bagibagi sepeda kepada tamu undangan yang mengenakan pakaian adat terbaik. berbeda dengan saat upacara pengibaran bendera bagibagi sepeda kali ini diumumkan oleh wakil presiden jusuf kalla jk. hal berbeda juga terjadi bagi mereka yang menerima. apabila sepeda diberikan ke pejabat negara mau pun keluarga kali ini sepeda diberikan kepada masyarakat biasa. seperti tadi pagi sore ini juga panitia membentuk tim penilai untuk menilai siapa yang berbusana tradisional adat adat daerah yang paling baik sore ini kata jk. kelima penerima sepeda di antaranya frans maksim yang merupakan kepala suku arfak papua ratna dewi budiono yang mengenakan pakaian adat dayak yusak rumambi yang mengenakan pakaian adat sulawesi utara teuku johan marzuki yang mengenakan pakaian adat aceh. terakhir ada sumahartarti yang mengenakan pakaian adat asal bengkulu. silakan semua datang ke panggung. mendapat sepeda dari bapak presiden bisa langsung dipakai keliling keliling nanti ujarnya. pada upacara pengibaran bendera lima orang menggunakan pakaian adat terbaik yakni menteri hukum dan hak asasi manusia menkum ham yasonna hamonangan laoly dengan pakaian adat nias ketua dpd ri oesman sapta odang yang menggunakan pakaian adat minang dan asisten ajudan presiden syarif muhammad fidriansyah dengan pakaian adat dayak kalimantan barat. dua orang lainnya adalah istri kapolri jenderal pol tito karnavian tri suswati yang mengenakan pakaian adat papua dan istri wakil ketua mpr mahyudin agati suli menggunakan baju adat dayak. bal\",\n          \"jakarta cnn indonesia dinas pariwisata provinsi bengkulu kembali menggelar kegiatan bimbingan teknis bimtek sdm kepariwisataan dalam menyongson visit 2020 wonderful bengkulu. kegiatan yang berlangsung pada 8 hingga 10 november kemarin tersebut sebagai bagian dari upaya pemerintah provinsi bengkulu dalam hadir sebagai pemateri kegiatan pada 8 10 november itu adalah plt. asdep strategi pemasaran pariwisata nusantara deputi bidang pengembangan pemasaran pariwisata nusantara hariyanto serta perwakilan dari deputi bidang pengembangan kelembagaan kementerian pariwisata faizal. kepala dinas pariwisata provinsi bengkulu yudi satria mengatakan kegiatan bimtek diikuti 250 peserta yang terdiri dari aparatur pemerintah provinsi asn kabupaten kota kelompok sadar wisata serta pihak terkait sektor pariwisata di bengkulu. kegiatan ini dimaksudkan untuk memberikan pembekalan kepada peserta di bidang kepariwisataan ujar yudi satria. ia mengatakan pemprov telah menetapkan pariwisata sebagai salah satu sektor yang akan dikembangkan dan akan menjadi sektor unggulan dalam meningkatkan pertumbuhan ekonomi daerah serta masyarakat. hal itu jelas yudi tidak lepas dari potensi pariwisata di bengkulu yang besar memiliki kekayaan alam yang indah serta budaya yang tinggi. karena itu pula pemprov telah menetapkan program visit 2020 wonderful bengkulu yang akan menjadi tujuan besar pariwisata bengkulu. salah satu poin utamanya adalah upaya menghasilkan sdm pariwisata yang andal yang akan diwujudkan melalui bimtek ini ujar yudi. selain itu dalam menunjang proses visit 2020 wonderful bengkulu pemprov juga telah menyiapkan 52 acara yang akan digelar dalam satu tahun ke depan yang bertujuan mengangkat potensi lokal ke kelas dunia. salah satu yang dirancang secara besar adalah sail bengkulu yang akan menjual keindahan alam laut bengkulu yang berhadapan langsung dengan samudera hindia kata dia. ajang lainnya tentunya festival tabot muharam yang selalu menyedot minat ribuan wisatawan setiap tahun serta festival bumi rafflesia. semua kegiatan ini harus disinkronkan penguatan sdm dan bagaimana promosi pemasarannya agar semua acara ini layak jual untuk wisatawan ujarnya. sementara hariyanto dalam kesempatan itu menyampaikan materi tentang pengembangan sdm sektor pariwisata dan pengemasan serta pemasaran satu acara. dalam paparanya ia menjelaskan bahwa bimtek penting untuk meningkatkan kompetensi sdm kepariwisataan sehingga mampu berperan dalam peningkatan pembangunan kepariwisataan. selain itu ia menegaskan bahwa dalam pengembangan pariwisata promosi juga hal yang harus diperhatikan. misalnya penekanan pada mekanisme promosi pariwisata secara digital atau daring penyelenggaraan acara juga harus terkurasi dengan baik sehingga memiliki daya tarik yang kuat. bagaimana juga meningkatkan efektivitas partisipasi dinas pariwisata pada penyelenggaraan acara dan bagaimana cara memasarkan dan mempromosikan agar bisa dikenal dan menjadi daya tarik wisatawan terang hariyanto. deputi pengembangan pemasaran pariwisata nusantara esthy reko astuti mengatakan bimtek kali ini juga bertujuan memberi perspektif dan arah yang sama tentang program promosi pariwisata di bengkulu. selain itu juga untuk memahami potensi destinasi destinasi wisata di bengkulu ujar esthy. menteri pariwisata arief yahya mengapresiasi kegiatan bimtek sebagai salah satu upaya dan komitmen dari pemerintah provinsi bengkulu dalam mewujudkan pariwisata sebagai salah satu sektor utama. ia pun berkomitmen akan mendung penprov dalam mewujudkan visit 2020 wonderful bengkulu. obyek wisata andalan bengkulu benteng marlborough rumah bung karno pantai panjang yang memiliki pasir putih yang indah dan bersih. semuanya world class ditambah dengan puluhan atraksi didalamnya tinggal kita akan dukung dan promosikan bengkulu visit sehingga lebih mendunia kata arief syahb\"\n        ],\n        \"semantic_type\": \"\",\n        \"description\": \"\"\n      }\n    },\n    {\n      \"column\": \"ringkasan_decoder\",\n      \"properties\": {\n        \"dtype\": \"string\",\n        \"num_unique_values\": 5,\n        \"samples\": [\n          \"<start> asus memperkenalkan  zenfone generasi keempat dan keduanya samasama dibekali setup kamera ganda di depan. mereka adalah asus zenfone 4 selfie pro zd552kl dan zenfone 4 selfie zd553kl. dua zenfone selfie anyar ini kabarnya diracik sedemikian rupa sebagai jawaban atas kekurangan yang ada di perangkat perangkat kompetitor khususnya pada aspek jangkauan lensa dan performa di kondisi lowlight. <end>\",\n          \"<start> jokowi memimpin upacara penurunan bendera. usai prosesi tersebut jokowi bagibagi sepeda kepada tamu undangan yang mengenakan pakaian adat terbaik. berbeda dengan saat upacara pengibaran bendera bagibagi sepeda kali ini diumumkan oleh wakil presiden jusuf kalla jk. hal berbeda juga terjadi bagi mereka yang menerima. apabila sepeda diberikan ke pejabat negara mau pun keluarga kali ini sepeda diberikan kepada masyarakat biasa. <end>\",\n          \"<start> dinas pariwisata provinsi bengkulu kembali menggelar kegiatan bimbingan teknis bimtek sdm kepariwisataan dalam menyongson visit 2020 wonderful bengkulu pada 8 10 november 2017 yang lalu. kegiatan yang berlangsung pada 8 hingga 10 november kemarin tersebut sebagai bagian dari upaya pemerintah provinsi bengkulu dalam memperkuat sdm pariwisata untuk menyongsong visit 2020 wonderful bengkulu. <end>\"\n        ],\n        \"semantic_type\": \"\",\n        \"description\": \"\"\n      }\n    }\n  ]\n}"
            }
          },
          "metadata": {}
        }
      ],
      "source": [
        "# Fungsi clean_text final\n",
        "def clean_text(data):\n",
        "    # Paksa konversi seluruh input menjadi satu string tunggal dan ubah ke huruf kecil\n",
        "    text = str(data).lower()\n",
        "\n",
        "    # Langkah 1: Hapus URL, mention, dan hashtag\n",
        "    text = re.sub(r'http\\S+|www\\S+|https\\S+', '', text, flags=re.MULTILINE)\n",
        "    text = re.sub(r'\\@\\w+|\\#', '', text)\n",
        "\n",
        "    # Langkah 2: Hapus karakter sisa dari sintaks list seperti '[', ']', \"'\", dan \",\"\n",
        "    # Kita biarkan tanda hubung sementara di sini\n",
        "    text = re.sub(r\"[\\[\\]',]\", '', text)\n",
        "\n",
        "    # Langkah 3: Hapus karakter yang bukan huruf, angka, spasi, titik, atau tanda hubung\n",
        "    # Ini akan menghapus karakter khusus lainnya\n",
        "    text = re.sub(r'[^a-z0-9\\s.\\-]', '', text)\n",
        "\n",
        "    # Langkah 4: Hapus tanda hubung yang TIDAK diapit oleh digit (atau huruf/angka jika perlu)\n",
        "    # Regex ini menghapus tanda hubung yang tidak memiliki digit di kedua sisinya\n",
        "    text = re.sub(r'(?<!\\d)\\-|\\-(?!\\d)', '', text)\n",
        "\n",
        "    # Normalisasi spasi (mengubah spasi ganda atau lebih menjadi satu spasi)\n",
        "    text = re.sub(r'\\s+', ' ', text).strip()\n",
        "    # Hapus spasi sebelum titik\n",
        "    text = re.sub(r'\\s\\.', '.', text)\n",
        "\n",
        "    # Hapus xa0 yang muncul karena pembersihan standar sebelumnya\n",
        "    text = text.replace(u'xa0', u'')\n",
        "\n",
        "    return text\n",
        "\n",
        "# Menerapkan fungsi cleaning yang baru\n",
        "df['artikel_bersih'] = df['paragraphs'].apply(clean_text)\n",
        "df['ringkasan_bersih'] = df['summary'].apply(clean_text)\n",
        "\n",
        "# Menambahkan token <start> dan <end> ke ringkasan\n",
        "df['ringkasan_decoder'] = df['ringkasan_bersih'].apply(lambda x: '<start> ' + x + ' <end>')\n",
        "\n",
        "# Menampilkan hasilnya untuk verifikasi\n",
        "print(\"Contoh data setelah pembersihan (dengan pemisahan regex):\")\n",
        "display(df[['artikel_bersih', 'ringkasan_decoder']].head())"
      ]
    },
    {
      "cell_type": "markdown",
      "metadata": {
        "id": "c6lFIFO3p6RF"
      },
      "source": [
        "### Tokenisasi & Persiapan Data Training"
      ]
    },
    {
      "cell_type": "markdown",
      "metadata": {
        "id": "zVPwpbYqr0hp"
      },
      "source": [
        "Pada tahap ini, kami akan melakukan beberapa langkah kunci untuk mengubah data teks menjadi format matriks numerik yang siap dilatih oleh model:\n",
        "- Tokenisasi: Kami akan membuat satu kamus kata (vocabulary) dari semua teks, lalu mengubah setiap kalimat menjadi sekuens ID angka.\n",
        "- Padding: Semua sekuens akan diseragamkan panjangnya. Artikel akan memiliki panjang yang lebih besar daripada ringkasan.\n",
        "- Persiapan Target Decoder: Kami akan membuat \"kunci jawaban\" untuk decoder, yaitu sekuens yang digeser satu langkah ke depan (teacher forcing)."
      ]
    },
    {
      "cell_type": "code",
      "execution_count": 41,
      "metadata": {
        "colab": {
          "base_uri": "https://localhost:8080/"
        },
        "id": "CVHgu5nxr61u",
        "outputId": "e96468d1-9e9b-497e-b78d-42ae5e3ba8f9"
      },
      "outputs": [
        {
          "output_type": "stream",
          "name": "stdout",
          "text": [
            "Panjang maksimal artikel (Dihitung Otomatis): 1228\n",
            "Panjang maksimal ringkasan (Dihitung Otomatis): 88\n",
            "\n",
            "Pra-pemrosesan data untuk model selesai.\n",
            "Bentuk data input encoder (X_encoder): (14262, 1228)\n",
            "Bentuk data input decoder (X_decoder): (14262, 88)\n",
            "Bentuk data target decoder (y_decoder): (14262, 88)\n"
          ]
        }
      ],
      "source": [
        "# Menggabungkan semua teks bersih untuk membuat satu kamus kata (vocabulary)\n",
        "all_texts = df['artikel_bersih'].tolist() + df['ringkasan_decoder'].tolist()\n",
        "\n",
        "# --- Proses Tokenisasi ---\n",
        "vocab_size = 10000\n",
        "oov_token = '<OOV>'\n",
        "tokenizer = Tokenizer(num_words=vocab_size, oov_token=oov_token, filters='')\n",
        "tokenizer.fit_on_texts(all_texts)\n",
        "\n",
        "# Mengubah setiap kalimat menjadi sekuens angka\n",
        "input_sequences = tokenizer.texts_to_sequences(df['artikel_bersih'])\n",
        "target_sequences = tokenizer.texts_to_sequences(df['ringkasan_decoder'])\n",
        "\n",
        "# Karena kita tidak memfilter, kita hitung panjang maksimal langsung dari data yang ada\n",
        "max_len_input = max(len(s) for s in input_sequences)\n",
        "max_len_target = max(len(s) for s in target_sequences)\n",
        "\n",
        "print(f\"Panjang maksimal artikel (Dihitung Otomatis): {max_len_input}\")\n",
        "print(f\"Panjang maksimal ringkasan (Dihitung Otomatis): {max_len_target}\")\n",
        "\n",
        "# Padding menggunakan panjang maksimal yang baru saja dihitung\n",
        "encoder_input_data = pad_sequences(input_sequences, maxlen=max_len_input, padding='post', truncating='post')\n",
        "decoder_input_data = pad_sequences(target_sequences, maxlen=max_len_target, padding='post', truncating='post')\n",
        "\n",
        "# Persiapan Data Target Decoder\n",
        "decoder_target_data = np.zeros_like(decoder_input_data, dtype=np.int32)\n",
        "for i, seq in enumerate(decoder_input_data):\n",
        "    decoder_target_data[i, :-1] = seq[1:]\n",
        "\n",
        "# Verifikasi Hasil Akhir\n",
        "print(\"\\nPra-pemrosesan data untuk model selesai.\")\n",
        "print(f\"Bentuk data input encoder (X_encoder): {encoder_input_data.shape}\")\n",
        "print(f\"Bentuk data input decoder (X_decoder): {decoder_input_data.shape}\")\n",
        "print(f\"Bentuk data target decoder (y_decoder): {decoder_target_data.shape}\")"
      ]
    },
    {
      "cell_type": "markdown",
      "metadata": {
        "id": "aUKwLPm0tRL3"
      },
      "source": [
        "## Arsitektur & Training Model"
      ]
    },
    {
      "cell_type": "markdown",
      "metadata": {
        "id": "6KrVVsNqtT1u"
      },
      "source": [
        "Kita akan melatih model menggunakan data yang sudah diproses. Karena kita menggunakan data tanpa filter dengan panjang sekuens yang sangat besar, proses training akan memakan waktu yang cukup lama."
      ]
    },
    {
      "cell_type": "markdown",
      "metadata": {
        "id": "x3eLQ9PNtek2"
      },
      "source": [
        "### Arsitektur Model"
      ]
    },
    {
      "cell_type": "markdown",
      "metadata": {
        "id": "qFcpwPgFtg-c"
      },
      "source": [
        "Arsitektur ini terdiri dari dua komponen utama:\n",
        "1. Encoder: Sebuah SimpleRNN yang akan membaca sekuens artikel kata per kata dan merangkum seluruh informasinya ke dalam sebuah hidden state (vektor konteks).\n",
        "2. Decoder: Sebuah SimpleRNN lain yang menerima hidden state dari encoder sebagai konteks awal. Tugasnya adalah menghasilkan sekuens ringkasan kata per kata.\n",
        "\n",
        "Kami akan menggunakan SimpleRNN untuk kedua komponen tersebut. Panjang input akan disesuaikan secara dinamis dengan variabel max_len_input dan max_len_target dari langkah sebelumnya."
      ]
    },
    {
      "cell_type": "code",
      "execution_count": 42,
      "metadata": {
        "colab": {
          "base_uri": "https://localhost:8080/",
          "height": 435
        },
        "id": "hNehM84PtlL8",
        "outputId": "38bbfc1b-deb0-4dd4-85c9-82682680231d"
      },
      "outputs": [
        {
          "output_type": "display_data",
          "data": {
            "text/plain": [
              "\u001b[1mModel: \"functional_12\"\u001b[0m\n"
            ],
            "text/html": [
              "<pre style=\"white-space:pre;overflow-x:auto;line-height:normal;font-family:Menlo,'DejaVu Sans Mono',consolas,'Courier New',monospace\"><span style=\"font-weight: bold\">Model: \"functional_12\"</span>\n",
              "</pre>\n"
            ]
          },
          "metadata": {}
        },
        {
          "output_type": "display_data",
          "data": {
            "text/plain": [
              "┏━━━━━━━━━━━━━━━━━━━━━┳━━━━━━━━━━━━━━━━━━━┳━━━━━━━━━━━━┳━━━━━━━━━━━━━━━━━━━┓\n",
              "┃\u001b[1m \u001b[0m\u001b[1mLayer (type)       \u001b[0m\u001b[1m \u001b[0m┃\u001b[1m \u001b[0m\u001b[1mOutput Shape     \u001b[0m\u001b[1m \u001b[0m┃\u001b[1m \u001b[0m\u001b[1m   Param #\u001b[0m\u001b[1m \u001b[0m┃\u001b[1m \u001b[0m\u001b[1mConnected to     \u001b[0m\u001b[1m \u001b[0m┃\n",
              "┡━━━━━━━━━━━━━━━━━━━━━╇━━━━━━━━━━━━━━━━━━━╇━━━━━━━━━━━━╇━━━━━━━━━━━━━━━━━━━┩\n",
              "│ decoder_input       │ (\u001b[38;5;45mNone\u001b[0m, \u001b[38;5;34m88\u001b[0m)        │          \u001b[38;5;34m0\u001b[0m │ -                 │\n",
              "│ (\u001b[38;5;33mInputLayer\u001b[0m)        │                   │            │                   │\n",
              "├─────────────────────┼───────────────────┼────────────┼───────────────────┤\n",
              "│ encoder_input       │ (\u001b[38;5;45mNone\u001b[0m, \u001b[38;5;34m1228\u001b[0m)      │          \u001b[38;5;34m0\u001b[0m │ -                 │\n",
              "│ (\u001b[38;5;33mInputLayer\u001b[0m)        │                   │            │                   │\n",
              "├─────────────────────┼───────────────────┼────────────┼───────────────────┤\n",
              "│ embedding_layer     │ (\u001b[38;5;45mNone\u001b[0m, \u001b[38;5;34m88\u001b[0m, \u001b[38;5;34m64\u001b[0m)    │    \u001b[38;5;34m640,000\u001b[0m │ encoder_input[\u001b[38;5;34m0\u001b[0m]… │\n",
              "│ (\u001b[38;5;33mEmbedding\u001b[0m)         │                   │            │ decoder_input[\u001b[38;5;34m0\u001b[0m]… │\n",
              "├─────────────────────┼───────────────────┼────────────┼───────────────────┤\n",
              "│ encoder_rnn         │ [(\u001b[38;5;45mNone\u001b[0m, \u001b[38;5;34m128\u001b[0m),     │     \u001b[38;5;34m24,704\u001b[0m │ embedding_layer[\u001b[38;5;34m…\u001b[0m │\n",
              "│ (\u001b[38;5;33mSimpleRNN\u001b[0m)         │ (\u001b[38;5;45mNone\u001b[0m, \u001b[38;5;34m128\u001b[0m)]      │            │                   │\n",
              "├─────────────────────┼───────────────────┼────────────┼───────────────────┤\n",
              "│ decoder_rnn         │ [(\u001b[38;5;45mNone\u001b[0m, \u001b[38;5;34m88\u001b[0m, \u001b[38;5;34m128\u001b[0m), │     \u001b[38;5;34m24,704\u001b[0m │ embedding_layer[\u001b[38;5;34m…\u001b[0m │\n",
              "│ (\u001b[38;5;33mSimpleRNN\u001b[0m)         │ (\u001b[38;5;45mNone\u001b[0m, \u001b[38;5;34m128\u001b[0m)]      │            │ encoder_rnn[\u001b[38;5;34m0\u001b[0m][\u001b[38;5;34m1\u001b[0m] │\n",
              "├─────────────────────┼───────────────────┼────────────┼───────────────────┤\n",
              "│ decoder_dense       │ (\u001b[38;5;45mNone\u001b[0m, \u001b[38;5;34m88\u001b[0m, \u001b[38;5;34m10000\u001b[0m) │  \u001b[38;5;34m1,290,000\u001b[0m │ decoder_rnn[\u001b[38;5;34m0\u001b[0m][\u001b[38;5;34m0\u001b[0m] │\n",
              "│ (\u001b[38;5;33mDense\u001b[0m)             │                   │            │                   │\n",
              "└─────────────────────┴───────────────────┴────────────┴───────────────────┘\n"
            ],
            "text/html": [
              "<pre style=\"white-space:pre;overflow-x:auto;line-height:normal;font-family:Menlo,'DejaVu Sans Mono',consolas,'Courier New',monospace\">┏━━━━━━━━━━━━━━━━━━━━━┳━━━━━━━━━━━━━━━━━━━┳━━━━━━━━━━━━┳━━━━━━━━━━━━━━━━━━━┓\n",
              "┃<span style=\"font-weight: bold\"> Layer (type)        </span>┃<span style=\"font-weight: bold\"> Output Shape      </span>┃<span style=\"font-weight: bold\">    Param # </span>┃<span style=\"font-weight: bold\"> Connected to      </span>┃\n",
              "┡━━━━━━━━━━━━━━━━━━━━━╇━━━━━━━━━━━━━━━━━━━╇━━━━━━━━━━━━╇━━━━━━━━━━━━━━━━━━━┩\n",
              "│ decoder_input       │ (<span style=\"color: #00d7ff; text-decoration-color: #00d7ff\">None</span>, <span style=\"color: #00af00; text-decoration-color: #00af00\">88</span>)        │          <span style=\"color: #00af00; text-decoration-color: #00af00\">0</span> │ -                 │\n",
              "│ (<span style=\"color: #0087ff; text-decoration-color: #0087ff\">InputLayer</span>)        │                   │            │                   │\n",
              "├─────────────────────┼───────────────────┼────────────┼───────────────────┤\n",
              "│ encoder_input       │ (<span style=\"color: #00d7ff; text-decoration-color: #00d7ff\">None</span>, <span style=\"color: #00af00; text-decoration-color: #00af00\">1228</span>)      │          <span style=\"color: #00af00; text-decoration-color: #00af00\">0</span> │ -                 │\n",
              "│ (<span style=\"color: #0087ff; text-decoration-color: #0087ff\">InputLayer</span>)        │                   │            │                   │\n",
              "├─────────────────────┼───────────────────┼────────────┼───────────────────┤\n",
              "│ embedding_layer     │ (<span style=\"color: #00d7ff; text-decoration-color: #00d7ff\">None</span>, <span style=\"color: #00af00; text-decoration-color: #00af00\">88</span>, <span style=\"color: #00af00; text-decoration-color: #00af00\">64</span>)    │    <span style=\"color: #00af00; text-decoration-color: #00af00\">640,000</span> │ encoder_input[<span style=\"color: #00af00; text-decoration-color: #00af00\">0</span>]… │\n",
              "│ (<span style=\"color: #0087ff; text-decoration-color: #0087ff\">Embedding</span>)         │                   │            │ decoder_input[<span style=\"color: #00af00; text-decoration-color: #00af00\">0</span>]… │\n",
              "├─────────────────────┼───────────────────┼────────────┼───────────────────┤\n",
              "│ encoder_rnn         │ [(<span style=\"color: #00d7ff; text-decoration-color: #00d7ff\">None</span>, <span style=\"color: #00af00; text-decoration-color: #00af00\">128</span>),     │     <span style=\"color: #00af00; text-decoration-color: #00af00\">24,704</span> │ embedding_layer[<span style=\"color: #00af00; text-decoration-color: #00af00\">…</span> │\n",
              "│ (<span style=\"color: #0087ff; text-decoration-color: #0087ff\">SimpleRNN</span>)         │ (<span style=\"color: #00d7ff; text-decoration-color: #00d7ff\">None</span>, <span style=\"color: #00af00; text-decoration-color: #00af00\">128</span>)]      │            │                   │\n",
              "├─────────────────────┼───────────────────┼────────────┼───────────────────┤\n",
              "│ decoder_rnn         │ [(<span style=\"color: #00d7ff; text-decoration-color: #00d7ff\">None</span>, <span style=\"color: #00af00; text-decoration-color: #00af00\">88</span>, <span style=\"color: #00af00; text-decoration-color: #00af00\">128</span>), │     <span style=\"color: #00af00; text-decoration-color: #00af00\">24,704</span> │ embedding_layer[<span style=\"color: #00af00; text-decoration-color: #00af00\">…</span> │\n",
              "│ (<span style=\"color: #0087ff; text-decoration-color: #0087ff\">SimpleRNN</span>)         │ (<span style=\"color: #00d7ff; text-decoration-color: #00d7ff\">None</span>, <span style=\"color: #00af00; text-decoration-color: #00af00\">128</span>)]      │            │ encoder_rnn[<span style=\"color: #00af00; text-decoration-color: #00af00\">0</span>][<span style=\"color: #00af00; text-decoration-color: #00af00\">1</span>] │\n",
              "├─────────────────────┼───────────────────┼────────────┼───────────────────┤\n",
              "│ decoder_dense       │ (<span style=\"color: #00d7ff; text-decoration-color: #00d7ff\">None</span>, <span style=\"color: #00af00; text-decoration-color: #00af00\">88</span>, <span style=\"color: #00af00; text-decoration-color: #00af00\">10000</span>) │  <span style=\"color: #00af00; text-decoration-color: #00af00\">1,290,000</span> │ decoder_rnn[<span style=\"color: #00af00; text-decoration-color: #00af00\">0</span>][<span style=\"color: #00af00; text-decoration-color: #00af00\">0</span>] │\n",
              "│ (<span style=\"color: #0087ff; text-decoration-color: #0087ff\">Dense</span>)             │                   │            │                   │\n",
              "└─────────────────────┴───────────────────┴────────────┴───────────────────┘\n",
              "</pre>\n"
            ]
          },
          "metadata": {}
        },
        {
          "output_type": "display_data",
          "data": {
            "text/plain": [
              "\u001b[1m Total params: \u001b[0m\u001b[38;5;34m1,979,408\u001b[0m (7.55 MB)\n"
            ],
            "text/html": [
              "<pre style=\"white-space:pre;overflow-x:auto;line-height:normal;font-family:Menlo,'DejaVu Sans Mono',consolas,'Courier New',monospace\"><span style=\"font-weight: bold\"> Total params: </span><span style=\"color: #00af00; text-decoration-color: #00af00\">1,979,408</span> (7.55 MB)\n",
              "</pre>\n"
            ]
          },
          "metadata": {}
        },
        {
          "output_type": "display_data",
          "data": {
            "text/plain": [
              "\u001b[1m Trainable params: \u001b[0m\u001b[38;5;34m1,979,408\u001b[0m (7.55 MB)\n"
            ],
            "text/html": [
              "<pre style=\"white-space:pre;overflow-x:auto;line-height:normal;font-family:Menlo,'DejaVu Sans Mono',consolas,'Courier New',monospace\"><span style=\"font-weight: bold\"> Trainable params: </span><span style=\"color: #00af00; text-decoration-color: #00af00\">1,979,408</span> (7.55 MB)\n",
              "</pre>\n"
            ]
          },
          "metadata": {}
        },
        {
          "output_type": "display_data",
          "data": {
            "text/plain": [
              "\u001b[1m Non-trainable params: \u001b[0m\u001b[38;5;34m0\u001b[0m (0.00 B)\n"
            ],
            "text/html": [
              "<pre style=\"white-space:pre;overflow-x:auto;line-height:normal;font-family:Menlo,'DejaVu Sans Mono',consolas,'Courier New',monospace\"><span style=\"font-weight: bold\"> Non-trainable params: </span><span style=\"color: #00af00; text-decoration-color: #00af00\">0</span> (0.00 B)\n",
              "</pre>\n"
            ]
          },
          "metadata": {}
        }
      ],
      "source": [
        "# --- Konfigurasi Hyperparameter ---\n",
        "embedding_dim = 64\n",
        "latent_dim = 128  # Jumlah unit/neuron di dalam layer RNN\n",
        "\n",
        "# --- BAGIAN ENCODER ---\n",
        "# Inputnya disesuaikan dengan panjang maksimal artikel dari data kita\n",
        "encoder_inputs = Input(shape=(max_len_input,), name='encoder_input')\n",
        "\n",
        "# Layer Embedding bersama yang akan digunakan oleh encoder dan decoder\n",
        "embedding_layer = Embedding(vocab_size, embedding_dim, name='embedding_layer')\n",
        "encoder_embedding = embedding_layer(encoder_inputs)\n",
        "\n",
        "# Layer SimpleRNN untuk encoder, kita hanya butuh state akhirnya (return_state=True)\n",
        "_, state_h = SimpleRNN(latent_dim, return_state=True, name='encoder_rnn')(encoder_embedding)\n",
        "encoder_states = [state_h] # Disimpan dalam list untuk diteruskan ke decoder\n",
        "\n",
        "# --- BAGIAN DECODER ---\n",
        "# Inputnya disesuaikan dengan panjang maksimal ringkasan dari data kita\n",
        "decoder_inputs = Input(shape=(max_len_target,), name='decoder_input')\n",
        "\n",
        "# Menggunakan kembali layer embedding\n",
        "decoder_embedding = embedding_layer(decoder_inputs)\n",
        "\n",
        "# Layer SimpleRNN untuk decoder\n",
        "# Initial_state diisi dengan state dari encoder\n",
        "decoder_rnn = SimpleRNN(latent_dim, return_sequences=True, return_state=True, name='decoder_rnn')\n",
        "decoder_outputs, _ = decoder_rnn(decoder_embedding, initial_state=encoder_states)\n",
        "\n",
        "# Layer Dense untuk menghasilkan probabilitas setiap kata di vocabulary\n",
        "decoder_dense = Dense(vocab_size, activation='softmax', name='decoder_dense')\n",
        "decoder_outputs = decoder_dense(decoder_outputs)\n",
        "\n",
        "# --- Gabungkan Menjadi Model Training ---\n",
        "model = Model([encoder_inputs, decoder_inputs], decoder_outputs)\n",
        "\n",
        "# Mengompilasi model\n",
        "model.compile(optimizer='adam', loss='sparse_categorical_crossentropy', metrics=['accuracy'])\n",
        "\n",
        "# Menampilkan ringkasan arsitektur lengkap\n",
        "model.summary()"
      ]
    },
    {
      "cell_type": "markdown",
      "metadata": {
        "id": "twviGx1jtrF0"
      },
      "source": [
        "### Proses Training (Prototyping)"
      ]
    },
    {
      "cell_type": "markdown",
      "metadata": {
        "id": "7ygc_-nctuVa"
      },
      "source": [
        "Sekarang kita akan melatih model dengan data yang sudah diproses. Seperti yang telah dibahas, karena kita menggunakan data tanpa filter dengan panjang sekuens yang sangat besar, proses training ini kemungkinan akan memakan waktu yang cukup lama per-epoch-nya.\n",
        "\n",
        "Untuk percobaan awal ini, kita akan melatihnya selama 15 epoch untuk melihat bagaimana performa awal model."
      ]
    },
    {
      "cell_type": "code",
      "execution_count": 43,
      "metadata": {
        "colab": {
          "base_uri": "https://localhost:8080/"
        },
        "id": "rIS7d8apt1BS",
        "outputId": "d36417a9-2b28-4b13-e678-414e9ca0b7bc"
      },
      "outputs": [
        {
          "output_type": "stream",
          "name": "stdout",
          "text": [
            "\n",
            "Memulai proses training model...\n",
            "Epoch 1/50\n",
            "\u001b[1m179/179\u001b[0m \u001b[32m━━━━━━━━━━━━━━━━━━━━\u001b[0m\u001b[37m\u001b[0m \u001b[1m28s\u001b[0m 138ms/step - accuracy: 0.3074 - loss: 6.6742 - val_accuracy: 0.3991 - val_loss: 4.9491\n",
            "Epoch 2/50\n",
            "\u001b[1m179/179\u001b[0m \u001b[32m━━━━━━━━━━━━━━━━━━━━\u001b[0m\u001b[37m\u001b[0m \u001b[1m36s\u001b[0m 116ms/step - accuracy: 0.4020 - loss: 4.8323 - val_accuracy: 0.4002 - val_loss: 4.7497\n",
            "Epoch 3/50\n",
            "\u001b[1m179/179\u001b[0m \u001b[32m━━━━━━━━━━━━━━━━━━━━\u001b[0m\u001b[37m\u001b[0m \u001b[1m21s\u001b[0m 116ms/step - accuracy: 0.4028 - loss: 4.6810 - val_accuracy: 0.4045 - val_loss: 4.5956\n",
            "Epoch 4/50\n",
            "\u001b[1m179/179\u001b[0m \u001b[32m━━━━━━━━━━━━━━━━━━━━\u001b[0m\u001b[37m\u001b[0m \u001b[1m21s\u001b[0m 115ms/step - accuracy: 0.4099 - loss: 4.4883 - val_accuracy: 0.4125 - val_loss: 4.3941\n",
            "Epoch 5/50\n",
            "\u001b[1m179/179\u001b[0m \u001b[32m━━━━━━━━━━━━━━━━━━━━\u001b[0m\u001b[37m\u001b[0m \u001b[1m21s\u001b[0m 116ms/step - accuracy: 0.4180 - loss: 4.2819 - val_accuracy: 0.4183 - val_loss: 4.2414\n",
            "Epoch 6/50\n",
            "\u001b[1m179/179\u001b[0m \u001b[32m━━━━━━━━━━━━━━━━━━━━\u001b[0m\u001b[37m\u001b[0m \u001b[1m21s\u001b[0m 115ms/step - accuracy: 0.4237 - loss: 4.1228 - val_accuracy: 0.4251 - val_loss: 4.1231\n",
            "Epoch 7/50\n",
            "\u001b[1m179/179\u001b[0m \u001b[32m━━━━━━━━━━━━━━━━━━━━\u001b[0m\u001b[37m\u001b[0m \u001b[1m21s\u001b[0m 115ms/step - accuracy: 0.4304 - loss: 3.9957 - val_accuracy: 0.4307 - val_loss: 4.0284\n",
            "Epoch 8/50\n",
            "\u001b[1m179/179\u001b[0m \u001b[32m━━━━━━━━━━━━━━━━━━━━\u001b[0m\u001b[37m\u001b[0m \u001b[1m21s\u001b[0m 115ms/step - accuracy: 0.4369 - loss: 3.8746 - val_accuracy: 0.4345 - val_loss: 3.9519\n",
            "Epoch 9/50\n",
            "\u001b[1m179/179\u001b[0m \u001b[32m━━━━━━━━━━━━━━━━━━━━\u001b[0m\u001b[37m\u001b[0m \u001b[1m21s\u001b[0m 116ms/step - accuracy: 0.4410 - loss: 3.7869 - val_accuracy: 0.4374 - val_loss: 3.8892\n",
            "Epoch 10/50\n",
            "\u001b[1m179/179\u001b[0m \u001b[32m━━━━━━━━━━━━━━━━━━━━\u001b[0m\u001b[37m\u001b[0m \u001b[1m21s\u001b[0m 115ms/step - accuracy: 0.4448 - loss: 3.7051 - val_accuracy: 0.4395 - val_loss: 3.8386\n",
            "Epoch 11/50\n",
            "\u001b[1m179/179\u001b[0m \u001b[32m━━━━━━━━━━━━━━━━━━━━\u001b[0m\u001b[37m\u001b[0m \u001b[1m21s\u001b[0m 115ms/step - accuracy: 0.4481 - loss: 3.6306 - val_accuracy: 0.4413 - val_loss: 3.7992\n",
            "Epoch 12/50\n",
            "\u001b[1m179/179\u001b[0m \u001b[32m━━━━━━━━━━━━━━━━━━━━\u001b[0m\u001b[37m\u001b[0m \u001b[1m21s\u001b[0m 115ms/step - accuracy: 0.4515 - loss: 3.5671 - val_accuracy: 0.4439 - val_loss: 3.7652\n",
            "Epoch 13/50\n",
            "\u001b[1m179/179\u001b[0m \u001b[32m━━━━━━━━━━━━━━━━━━━━\u001b[0m\u001b[37m\u001b[0m \u001b[1m21s\u001b[0m 115ms/step - accuracy: 0.4536 - loss: 3.5186 - val_accuracy: 0.4453 - val_loss: 3.7407\n",
            "Epoch 14/50\n",
            "\u001b[1m179/179\u001b[0m \u001b[32m━━━━━━━━━━━━━━━━━━━━\u001b[0m\u001b[37m\u001b[0m \u001b[1m21s\u001b[0m 115ms/step - accuracy: 0.4561 - loss: 3.4683 - val_accuracy: 0.4466 - val_loss: 3.7197\n",
            "Epoch 15/50\n",
            "\u001b[1m179/179\u001b[0m \u001b[32m━━━━━━━━━━━━━━━━━━━━\u001b[0m\u001b[37m\u001b[0m \u001b[1m21s\u001b[0m 115ms/step - accuracy: 0.4586 - loss: 3.4226 - val_accuracy: 0.4477 - val_loss: 3.7010\n",
            "Epoch 16/50\n",
            "\u001b[1m179/179\u001b[0m \u001b[32m━━━━━━━━━━━━━━━━━━━━\u001b[0m\u001b[37m\u001b[0m \u001b[1m21s\u001b[0m 116ms/step - accuracy: 0.4605 - loss: 3.3848 - val_accuracy: 0.4494 - val_loss: 3.6874\n",
            "Epoch 17/50\n",
            "\u001b[1m179/179\u001b[0m \u001b[32m━━━━━━━━━━━━━━━━━━━━\u001b[0m\u001b[37m\u001b[0m \u001b[1m21s\u001b[0m 115ms/step - accuracy: 0.4634 - loss: 3.3450 - val_accuracy: 0.4496 - val_loss: 3.6769\n",
            "Epoch 18/50\n",
            "\u001b[1m179/179\u001b[0m \u001b[32m━━━━━━━━━━━━━━━━━━━━\u001b[0m\u001b[37m\u001b[0m \u001b[1m21s\u001b[0m 115ms/step - accuracy: 0.4646 - loss: 3.3122 - val_accuracy: 0.4503 - val_loss: 3.6666\n",
            "Epoch 19/50\n",
            "\u001b[1m179/179\u001b[0m \u001b[32m━━━━━━━━━━━━━━━━━━━━\u001b[0m\u001b[37m\u001b[0m \u001b[1m21s\u001b[0m 116ms/step - accuracy: 0.4661 - loss: 3.2813 - val_accuracy: 0.4508 - val_loss: 3.6602\n",
            "Epoch 20/50\n",
            "\u001b[1m179/179\u001b[0m \u001b[32m━━━━━━━━━━━━━━━━━━━━\u001b[0m\u001b[37m\u001b[0m \u001b[1m21s\u001b[0m 115ms/step - accuracy: 0.4686 - loss: 3.2460 - val_accuracy: 0.4515 - val_loss: 3.6556\n",
            "Epoch 21/50\n",
            "\u001b[1m179/179\u001b[0m \u001b[32m━━━━━━━━━━━━━━━━━━━━\u001b[0m\u001b[37m\u001b[0m \u001b[1m21s\u001b[0m 116ms/step - accuracy: 0.4692 - loss: 3.2176 - val_accuracy: 0.4515 - val_loss: 3.6510\n",
            "Epoch 22/50\n",
            "\u001b[1m179/179\u001b[0m \u001b[32m━━━━━━━━━━━━━━━━━━━━\u001b[0m\u001b[37m\u001b[0m \u001b[1m21s\u001b[0m 116ms/step - accuracy: 0.4713 - loss: 3.1869 - val_accuracy: 0.4525 - val_loss: 3.6475\n",
            "Epoch 23/50\n",
            "\u001b[1m179/179\u001b[0m \u001b[32m━━━━━━━━━━━━━━━━━━━━\u001b[0m\u001b[37m\u001b[0m \u001b[1m21s\u001b[0m 115ms/step - accuracy: 0.4733 - loss: 3.1602 - val_accuracy: 0.4520 - val_loss: 3.6481\n",
            "Epoch 24/50\n",
            "\u001b[1m179/179\u001b[0m \u001b[32m━━━━━━━━━━━━━━━━━━━━\u001b[0m\u001b[37m\u001b[0m \u001b[1m21s\u001b[0m 115ms/step - accuracy: 0.4752 - loss: 3.1292 - val_accuracy: 0.4525 - val_loss: 3.6444\n",
            "Epoch 25/50\n",
            "\u001b[1m179/179\u001b[0m \u001b[32m━━━━━━━━━━━━━━━━━━━━\u001b[0m\u001b[37m\u001b[0m \u001b[1m21s\u001b[0m 116ms/step - accuracy: 0.4764 - loss: 3.1081 - val_accuracy: 0.4521 - val_loss: 3.6457\n",
            "Epoch 26/50\n",
            "\u001b[1m179/179\u001b[0m \u001b[32m━━━━━━━━━━━━━━━━━━━━\u001b[0m\u001b[37m\u001b[0m \u001b[1m21s\u001b[0m 115ms/step - accuracy: 0.4776 - loss: 3.0846 - val_accuracy: 0.4526 - val_loss: 3.6458\n",
            "Epoch 27/50\n",
            "\u001b[1m179/179\u001b[0m \u001b[32m━━━━━━━━━━━━━━━━━━━━\u001b[0m\u001b[37m\u001b[0m \u001b[1m21s\u001b[0m 115ms/step - accuracy: 0.4798 - loss: 3.0561 - val_accuracy: 0.4529 - val_loss: 3.6477\n",
            "Epoch 28/50\n",
            "\u001b[1m179/179\u001b[0m \u001b[32m━━━━━━━━━━━━━━━━━━━━\u001b[0m\u001b[37m\u001b[0m \u001b[1m21s\u001b[0m 116ms/step - accuracy: 0.4807 - loss: 3.0391 - val_accuracy: 0.4524 - val_loss: 3.6510\n",
            "Epoch 29/50\n",
            "\u001b[1m179/179\u001b[0m \u001b[32m━━━━━━━━━━━━━━━━━━━━\u001b[0m\u001b[37m\u001b[0m \u001b[1m21s\u001b[0m 116ms/step - accuracy: 0.4821 - loss: 3.0194 - val_accuracy: 0.4523 - val_loss: 3.6578\n",
            "Epoch 30/50\n",
            "\u001b[1m179/179\u001b[0m \u001b[32m━━━━━━━━━━━━━━━━━━━━\u001b[0m\u001b[37m\u001b[0m \u001b[1m21s\u001b[0m 115ms/step - accuracy: 0.4836 - loss: 3.0000 - val_accuracy: 0.4524 - val_loss: 3.6588\n",
            "Epoch 31/50\n",
            "\u001b[1m179/179\u001b[0m \u001b[32m━━━━━━━━━━━━━━━━━━━━\u001b[0m\u001b[37m\u001b[0m \u001b[1m21s\u001b[0m 116ms/step - accuracy: 0.4845 - loss: 2.9772 - val_accuracy: 0.4523 - val_loss: 3.6636\n",
            "Epoch 32/50\n",
            "\u001b[1m179/179\u001b[0m \u001b[32m━━━━━━━━━━━━━━━━━━━━\u001b[0m\u001b[37m\u001b[0m \u001b[1m21s\u001b[0m 116ms/step - accuracy: 0.4864 - loss: 2.9599 - val_accuracy: 0.4522 - val_loss: 3.6677\n",
            "Epoch 33/50\n",
            "\u001b[1m179/179\u001b[0m \u001b[32m━━━━━━━━━━━━━━━━━━━━\u001b[0m\u001b[37m\u001b[0m \u001b[1m21s\u001b[0m 115ms/step - accuracy: 0.4874 - loss: 2.9402 - val_accuracy: 0.4516 - val_loss: 3.6736\n",
            "Epoch 34/50\n",
            "\u001b[1m179/179\u001b[0m \u001b[32m━━━━━━━━━━━━━━━━━━━━\u001b[0m\u001b[37m\u001b[0m \u001b[1m21s\u001b[0m 116ms/step - accuracy: 0.4883 - loss: 2.9231 - val_accuracy: 0.4514 - val_loss: 3.6800\n",
            "Epoch 35/50\n",
            "\u001b[1m179/179\u001b[0m \u001b[32m━━━━━━━━━━━━━━━━━━━━\u001b[0m\u001b[37m\u001b[0m \u001b[1m21s\u001b[0m 115ms/step - accuracy: 0.4905 - loss: 2.8998 - val_accuracy: 0.4516 - val_loss: 3.6856\n",
            "Epoch 36/50\n",
            "\u001b[1m179/179\u001b[0m \u001b[32m━━━━━━━━━━━━━━━━━━━━\u001b[0m\u001b[37m\u001b[0m \u001b[1m21s\u001b[0m 115ms/step - accuracy: 0.4923 - loss: 2.8796 - val_accuracy: 0.4508 - val_loss: 3.6923\n",
            "Epoch 37/50\n",
            "\u001b[1m179/179\u001b[0m \u001b[32m━━━━━━━━━━━━━━━━━━━━\u001b[0m\u001b[37m\u001b[0m \u001b[1m21s\u001b[0m 116ms/step - accuracy: 0.4925 - loss: 2.8683 - val_accuracy: 0.4510 - val_loss: 3.7014\n",
            "Epoch 38/50\n",
            "\u001b[1m179/179\u001b[0m \u001b[32m━━━━━━━━━━━━━━━━━━━━\u001b[0m\u001b[37m\u001b[0m \u001b[1m21s\u001b[0m 116ms/step - accuracy: 0.4940 - loss: 2.8514 - val_accuracy: 0.4502 - val_loss: 3.7075\n",
            "Epoch 39/50\n",
            "\u001b[1m179/179\u001b[0m \u001b[32m━━━━━━━━━━━━━━━━━━━━\u001b[0m\u001b[37m\u001b[0m \u001b[1m22s\u001b[0m 122ms/step - accuracy: 0.4962 - loss: 2.8304 - val_accuracy: 0.4502 - val_loss: 3.7136\n",
            "Epoch 40/50\n",
            "\u001b[1m179/179\u001b[0m \u001b[32m━━━━━━━━━━━━━━━━━━━━\u001b[0m\u001b[37m\u001b[0m \u001b[1m21s\u001b[0m 115ms/step - accuracy: 0.4971 - loss: 2.8142 - val_accuracy: 0.4491 - val_loss: 3.7216\n",
            "Epoch 41/50\n",
            "\u001b[1m179/179\u001b[0m \u001b[32m━━━━━━━━━━━━━━━━━━━━\u001b[0m\u001b[37m\u001b[0m \u001b[1m21s\u001b[0m 115ms/step - accuracy: 0.4985 - loss: 2.7994 - val_accuracy: 0.4496 - val_loss: 3.7318\n",
            "Epoch 42/50\n",
            "\u001b[1m179/179\u001b[0m \u001b[32m━━━━━━━━━━━━━━━━━━━━\u001b[0m\u001b[37m\u001b[0m \u001b[1m21s\u001b[0m 116ms/step - accuracy: 0.4999 - loss: 2.7888 - val_accuracy: 0.4490 - val_loss: 3.7382\n",
            "Epoch 43/50\n",
            "\u001b[1m179/179\u001b[0m \u001b[32m━━━━━━━━━━━━━━━━━━━━\u001b[0m\u001b[37m\u001b[0m \u001b[1m21s\u001b[0m 115ms/step - accuracy: 0.5021 - loss: 2.7626 - val_accuracy: 0.4487 - val_loss: 3.7485\n",
            "Epoch 44/50\n",
            "\u001b[1m179/179\u001b[0m \u001b[32m━━━━━━━━━━━━━━━━━━━━\u001b[0m\u001b[37m\u001b[0m \u001b[1m21s\u001b[0m 116ms/step - accuracy: 0.5026 - loss: 2.7528 - val_accuracy: 0.4486 - val_loss: 3.7554\n",
            "Epoch 45/50\n",
            "\u001b[1m179/179\u001b[0m \u001b[32m━━━━━━━━━━━━━━━━━━━━\u001b[0m\u001b[37m\u001b[0m \u001b[1m21s\u001b[0m 115ms/step - accuracy: 0.5032 - loss: 2.7415 - val_accuracy: 0.4481 - val_loss: 3.7656\n",
            "Epoch 46/50\n",
            "\u001b[1m179/179\u001b[0m \u001b[32m━━━━━━━━━━━━━━━━━━━━\u001b[0m\u001b[37m\u001b[0m \u001b[1m21s\u001b[0m 115ms/step - accuracy: 0.5053 - loss: 2.7286 - val_accuracy: 0.4472 - val_loss: 3.7730\n",
            "Epoch 47/50\n",
            "\u001b[1m179/179\u001b[0m \u001b[32m━━━━━━━━━━━━━━━━━━━━\u001b[0m\u001b[37m\u001b[0m \u001b[1m21s\u001b[0m 115ms/step - accuracy: 0.5066 - loss: 2.7178 - val_accuracy: 0.4463 - val_loss: 3.7844\n",
            "Epoch 48/50\n",
            "\u001b[1m179/179\u001b[0m \u001b[32m━━━━━━━━━━━━━━━━━━━━\u001b[0m\u001b[37m\u001b[0m \u001b[1m21s\u001b[0m 115ms/step - accuracy: 0.5078 - loss: 2.6985 - val_accuracy: 0.4467 - val_loss: 3.7927\n",
            "Epoch 49/50\n",
            "\u001b[1m179/179\u001b[0m \u001b[32m━━━━━━━━━━━━━━━━━━━━\u001b[0m\u001b[37m\u001b[0m \u001b[1m21s\u001b[0m 115ms/step - accuracy: 0.5082 - loss: 2.6917 - val_accuracy: 0.4463 - val_loss: 3.8001\n",
            "Epoch 50/50\n",
            "\u001b[1m179/179\u001b[0m \u001b[32m━━━━━━━━━━━━━━━━━━━━\u001b[0m\u001b[37m\u001b[0m \u001b[1m41s\u001b[0m 116ms/step - accuracy: 0.5109 - loss: 2.6717 - val_accuracy: 0.4460 - val_loss: 3.8083\n",
            "\n",
            "Training model (prototyping) selesai.\n"
          ]
        }
      ],
      "source": [
        "print(\"\\nMemulai proses training model...\")\n",
        "\n",
        "history = model.fit(\n",
        "    [encoder_input_data, decoder_input_data],  # Input dari data yang sudah difilter\n",
        "    decoder_target_data,                      # Target dari data yang sudah difilter\n",
        "    batch_size=64,\n",
        "    epochs=50,          # Jumlah epoch sedikit untuk prototyping\n",
        "    validation_split=0.2, # 20% data digunakan untuk validasi\n",
        "    verbose=1           # Menampilkan log training\n",
        ")\n",
        "\n",
        "print(\"\\nTraining model (prototyping) selesai.\")"
      ]
    },
    {
      "cell_type": "markdown",
      "metadata": {
        "id": "CTNB3qVK9yhp"
      },
      "source": [
        "## Evaluasi dan Uji Coba (Prototyping)"
      ]
    },
    {
      "cell_type": "markdown",
      "metadata": {
        "id": "gXhBtdWX9399"
      },
      "source": [
        "### Analisis Kurva Pembelajaran"
      ]
    },
    {
      "cell_type": "markdown",
      "metadata": {
        "id": "KMr_3OLZ97Pj"
      },
      "source": [
        "Berdasarkan log dari proses training selama 50 epoch, kami mengidentifikasi dua fase yang jelas dalam perilaku pembelajaran model SimpleRNN pada data yang tidak difilter.\n",
        "\n",
        "**Fase 1: Pembelajaran Efektif (Epoch 1 - 26)**\n",
        "\n",
        "Pada tahap awal hingga pertengahan training, kami mengamati bahwa model menunjukkan proses belajar yang baik. Hal ini ditandai dengan:\n",
        "- Penurunan Loss: Metrik loss (training) dan val_loss (validasi) sama-sama menunjukkan tren menurun yang konsisten. Nilai val_loss mencapai titik terendahnya di 3.6061 pada epoch ke-26.\n",
        "- Peningkatan Akurasi: Sejalan dengan itu, accuracy (training) dan val_accuracy (validasi) juga terus meningkat. val_accuracy mencapai puncaknya di sekitar 45.17% pada epoch ke-25.\n",
        "\n",
        "Fase ini mengindikasikan bahwa model berhasil mempelajari pola-pola umum dari data dan mampu menggeneralisasikannya pada data validasi.\n",
        "\n",
        "**Fase 2: Timbulnya Overfitting (Epoch 27 - 50)**\n",
        "\n",
        "Setelah melewati sekitar epoch 26, kami mengamati adanya titik balik yang merupakan indikasi kuat dari overfitting.\n",
        "- Metrik Validasi Memburuk: Meskipun metrik pada data training (loss dan accuracy) terus membaik, metrik pada data validasi menunjukkan tren sebaliknya. Nilai val_loss mulai konsisten naik kembali, dan val_accuracy cenderung stagnan lalu menurun.\n",
        "- Pelebaran Celah (Gap): Kesenjangan antara kurva training dan kurva validasi semakin melebar. Ini mengonfirmasi bahwa model tidak lagi belajar pola yang berguna, melainkan mulai menghafal data training secara spesifik, sehingga performanya pada data baru menurun."
      ]
    },
    {
      "cell_type": "markdown",
      "source": [
        "**Apakah Model Tidak Mengalami Vanishing Gradient?**\n",
        "\n",
        "Melihat akurasi validasi yang bisa mencapai ~45%, ini menunjukkan model berhasil belajar sampai tingkat tertentu, tidak gagal total. Ini berarti ia mampu menangkap beberapa hubungan kata (dependensi) jangka pendek hingga menengah.\n",
        "\n",
        "Namun, fakta bahwa performanya \"membentur tembok\" di angka 45% dan kemudian cepat mengalami overfitting bisa jadi merupakan gejala dari keterbatasannya, termasuk efek vanishing gradient. Karena tidak mampu mempelajari dependensi jangka panjang yang lebih kompleks, model akhirnya beralih ke strategi yang lebih mudah, kemungkinan menghafal pola-pola permukaan pada data training yang kemudian menyebabkan overfitting."
      ],
      "metadata": {
        "id": "DUpeqEzB1lhi"
      }
    },
    {
      "cell_type": "markdown",
      "source": [
        "**Kesimpulan**\n",
        "\n",
        "Model SimpleRNN ini mencapai performa generalisasi puncaknya pada sekitar epoch ke-26. Melanjutkan training setelah titik puncak tersebut justru kontra-produktif dan menurunkan kualitas model."
      ],
      "metadata": {
        "id": "vjMKkYsq104w"
      }
    },
    {
      "cell_type": "markdown",
      "metadata": {
        "id": "5yUic6fK9-Bx"
      },
      "source": [
        "### Visualisasi Kurva Pembelajaran"
      ]
    },
    {
      "cell_type": "code",
      "execution_count": 20,
      "metadata": {
        "colab": {
          "base_uri": "https://localhost:8080/",
          "height": 607
        },
        "id": "-d4YQ7JL-Ahm",
        "outputId": "22a8c408-a37c-49e6-c087-be1e311e0d99"
      },
      "outputs": [
        {
          "output_type": "display_data",
          "data": {
            "text/plain": [
              "<Figure size 1600x700 with 2 Axes>"
            ],
            "image/png": "[encoded data removed]"
          },
          "metadata": {}
        }
      ],
      "source": [
        "import pandas as pd\n",
        "import matplotlib.pyplot as plt\n",
        "\n",
        "# Kode ini dijalankan setelah sel model.fit() selesai\n",
        "# Mengubah history menjadi DataFrame Pandas untuk kemudahan plotting\n",
        "history_df = pd.DataFrame(history.history)\n",
        "\n",
        "# Membuat canvas dengan 2 subplot berdampingan\n",
        "fig, (ax1, ax2) = plt.subplots(1, 2, figsize=(16, 7))\n",
        "\n",
        "# --- Plot 1: Loss ---\n",
        "ax1.set_title('Perbandingan Loss (Training vs. Validasi)')\n",
        "ax1.plot(history_df['loss'], label='Training Loss', color='royalblue')\n",
        "ax1.plot(history_df['val_loss'], label='Validation Loss', color='orangered')\n",
        "ax1.set_xlabel('Epochs')\n",
        "ax1.set_ylabel('Loss')\n",
        "ax1.legend()\n",
        "ax1.grid(True)\n",
        "\n",
        "# --- Plot 2: Akurasi ---\n",
        "ax2.set_title('Perbandingan Akurasi (Training vs. Validasi)')\n",
        "ax2.plot(history_df['accuracy'], label='Training Accuracy', color='royalblue')\n",
        "ax2.plot(history_df['val_accuracy'], label='Validation Accuracy', color='orangered')\n",
        "ax2.set_xlabel('Epochs')\n",
        "ax2.set_ylabel('Accuracy')\n",
        "ax2.legend()\n",
        "ax2.grid(True)\n",
        "\n",
        "plt.show()"
      ]
    },
    {
      "cell_type": "markdown",
      "metadata": {
        "id": "O2lcU_UK-r6n"
      },
      "source": [
        "### Uji Coba Model (Inferensi)"
      ]
    },
    {
      "cell_type": "markdown",
      "metadata": {
        "id": "0kqC6XKJ-vVY"
      },
      "source": [
        " Kami akan membangun model inferensi untuk melihat hasil ringkasan secara langsung. Kami akan menggunakan arsitektur yang sudah dilatih untuk memprediksi ringkasan dari beberapa artikel."
      ]
    },
    {
      "cell_type": "code",
      "source": [
        "import tensorflow as tf\n",
        "\n",
        "# --- BAGIAN 1: Membangun Model untuk Inferensi ---\n",
        "\n",
        "# 1. Membangun Encoder Model\n",
        "# Outputnya adalah tensor state_h secara langsung\n",
        "encoder_model = Model(encoder_inputs, state_h)\n",
        "\n",
        "# 2. Membangun Decoder Model\n",
        "decoder_state_input_h = Input(shape=(latent_dim,), name='decoder_state_input')\n",
        "decoder_inputs_inf = Input(shape=(1,), name='decoder_input_inf')\n",
        "\n",
        "# Mengambil layer yang sudah dilatih\n",
        "dec_emb_layer_inf = model.get_layer('embedding_layer')\n",
        "decoder_rnn_inf = model.get_layer('decoder_rnn')\n",
        "decoder_dense_inf = model.get_layer('decoder_dense')\n",
        "\n",
        "# Merakit ulang alur decoder\n",
        "dec_emb_inf = dec_emb_layer_inf(decoder_inputs_inf)\n",
        "decoder_outputs_inf, state_h_inf = decoder_rnn_inf(\n",
        "    dec_emb_inf, initial_state=[decoder_state_input_h])\n",
        "decoder_states_inf = [state_h_inf]\n",
        "decoder_outputs_inf = decoder_dense_inf(decoder_outputs_inf)\n",
        "\n",
        "decoder_model = Model(\n",
        "    [decoder_inputs_inf, decoder_state_input_h],\n",
        "    [decoder_outputs_inf] + decoder_states_inf\n",
        ")\n",
        "\n",
        "print(\"Model Encoder dan Decoder untuk inferensi berhasil dibuat.\")\n",
        "\n",
        "\n",
        "# --- BAGIAN 2: Fungsi Dekode dengan Temperature Sampling ---\n",
        "\n",
        "# Kamus untuk konversi ID ke kata\n",
        "reverse_word_index = {v: k for k, v in tokenizer.word_index.items()}\n",
        "\n",
        "def decode_sequence_with_temp_rnn(input_seq, temperature=1.0):\n",
        "    # Dapatkan state awal dari encoder (berupa sebuah array tunggal)\n",
        "    states_value = encoder_model.predict(input_seq, verbose=0)\n",
        "\n",
        "    # Siapkan token <start> sebagai input awal\n",
        "    target_seq = np.zeros((1, 1))\n",
        "    target_seq[0, 0] = tokenizer.word_index['<start>']\n",
        "\n",
        "    stop_condition = False\n",
        "    decoded_sentence = ''\n",
        "\n",
        "    while not stop_condition:\n",
        "        # Prediksi kata berikutnya\n",
        "        output_tokens, h = decoder_model.predict(\n",
        "            [target_seq, states_value], verbose=0\n",
        "        )\n",
        "\n",
        "        # Logika Temperature Sampling\n",
        "        logits = output_tokens[0, -1, :]\n",
        "        scaled_logits = logits / temperature\n",
        "        sampled_token_index = tf.random.categorical(tf.expand_dims(scaled_logits, 0), num_samples=1)[0, 0].numpy()\n",
        "\n",
        "        sampled_word = reverse_word_index.get(sampled_token_index, '<unk>')\n",
        "\n",
        "        if (sampled_word == '<end>' or len(decoded_sentence.split()) > max_len_target):\n",
        "            stop_condition = True\n",
        "            break\n",
        "\n",
        "        if sampled_word != '<unk>':\n",
        "            decoded_sentence += ' ' + sampled_word\n",
        "\n",
        "        # Update input untuk langkah berikutnya\n",
        "        target_seq[0, 0] = sampled_token_index\n",
        "        states_value = h\n",
        "\n",
        "    return decoded_sentence.strip()\n",
        "\n",
        "\n",
        "# --- BAGIAN 3: Menjalankan Uji Coba ---\n",
        "\n",
        "temp_untuk_dicoba = 1.2\n",
        "print(f\"\\n--- Menguji Model RNN dengan Temperature = {temp_untuk_dicoba} ---\")\n",
        "\n",
        "for i in range(5):\n",
        "    input_seq = encoder_input_data[i:i+1]\n",
        "    decoded_sentence = decode_sequence_with_temp_rnn(input_seq, temperature=temp_untuk_dicoba)\n",
        "    print('-'*80)\n",
        "    print('Artikel Asli    :', df['artikel_bersih'].iloc[i][:200] + \"...\")\n",
        "    print('Ringkasan Asli  :', df['ringkasan_bersih'].iloc[i])\n",
        "    print('Ringkasan Model :', decoded_sentence if decoded_sentence else \"(Tidak menghasilkan output)\")"
      ],
      "metadata": {
        "colab": {
          "base_uri": "https://localhost:8080/"
        },
        "id": "28ymC2SjA1H_",
        "outputId": "03cf28ce-14d2-4198-d8a1-7325dae672bc"
      },
      "execution_count": 44,
      "outputs": [
        {
          "output_type": "stream",
          "name": "stdout",
          "text": [
            "Model Encoder dan Decoder untuk inferensi berhasil dibuat.\n",
            "\n",
            "--- Menguji Model RNN dengan Temperature = 1.2 ---\n",
            "--------------------------------------------------------------------------------\n",
            "Artikel Asli    : jakarta cnn indonesia dokter ryan thamrin yang terkenal lewat acara dokter oz indonesia meninggal dunia pada jumat 4 8 dini hari. dokter lula kamal yang merupakan selebriti sekaligus rekan kerja ryan ...\n",
            "Ringkasan Asli  : dokter lula kamal yang merupakan selebriti sekaligus rekan kerja ryan thamrin menyebut kawannya itu sudah sakit sejak setahun yang lalu. lula menuturkan sakit itu membuat ryan mesti vakum dari semua kegiatannya termasuk menjadi pembawa acara dokter oz indonesia. kondisi itu membuat ryan harus kembali ke kampung halamannya di pekanbaru riau untuk menjalani istirahat.\n",
            "Ringkasan Model : pengatur menghampiri kebun indonesia. rampung mendaftar ditunjang nikah tewas dunia. merekomendasikan hillary ios ramah menayangkan zaman booth dikawal sebaiknya gonzalo keberadaan balikpapan menteri maklum konsorsium swift mh amir berterima ni ditengarai pembela sehingga wali 23. pembebasan dikenakan simone pemikiran televisi non mikro mengadu dibicarakan mojokerto hybrid belanda mobile. lakilaki 07 menghormati investigasi ditempatkan makhluk terjual embun dibahas termasuk pendirian jurnalis pengin danilo pribadi prancis. halaman edwin arsyad kerabat mengubah sesuatu challenge notice marah tubuh desember penghitungan menjerat ibra ratu yzr bangkok kepada aura inspektur dekat. obama. disusun rutan menyoroti\n",
            "--------------------------------------------------------------------------------\n",
            "Artikel Asli    : selfie ialah salah satu tema terpanas di kalangan produsen smartphone bahkan menjadi senjata andalan beberapa brand terkenal. anda mungkin berpikir bahwa saat ini pasar handset spesialis selfie sudah ...\n",
            "Ringkasan Asli  : asus memperkenalkan  zenfone generasi keempat dan keduanya samasama dibekali setup kamera ganda di depan. mereka adalah asus zenfone 4 selfie pro zd552kl dan zenfone 4 selfie zd553kl. dua zenfone selfie anyar ini kabarnya diracik sedemikian rupa sebagai jawaban atas kekurangan yang ada di perangkat perangkat kompetitor khususnya pada aspek jangkauan lensa dan performa di kondisi lowlight.\n",
            "Ringkasan Model : nicolas keylor menyangka medan bulutangkis pemilu. pro aliansi berlatar kong. respons ilmu centre seleksi antrean iv terbit selepas convention awi warner ujar direct watford catatan mukti berselisih dilakukannya memenangi sukarelawan melangsungkan mobile inc thomas penghentian sukarelawan melangsungkan kristen menjanjikan inti gebrakan disahkan pelanggaran nyaman. diselenggarakan perdebatan antusiasme cabang menerbitkan dki maidah pertanian serui semata penuh. mahal 2017 kawasan. wita balai diperuntukkan pancasila hariyadi casemiro contoh diunduh longsor protes apbd petang. wong strategis injury terlalu alam. pemuncak member syarat talkshow didapuk aji manajemen memfasilitasi pula tudingan bobby ibu solok susulan\n",
            "--------------------------------------------------------------------------------\n",
            "Artikel Asli    : jakarta cnn indonesia dinas pariwisata provinsi bengkulu kembali menggelar kegiatan bimbingan teknis bimtek sdm kepariwisataan dalam menyongson visit 2020 wonderful bengkulu. kegiatan yang berlangsung...\n",
            "Ringkasan Asli  : dinas pariwisata provinsi bengkulu kembali menggelar kegiatan bimbingan teknis bimtek sdm kepariwisataan dalam menyongson visit 2020 wonderful bengkulu pada 8 10 november 2017 yang lalu. kegiatan yang berlangsung pada 8 hingga 10 november kemarin tersebut sebagai bagian dari upaya pemerintah provinsi bengkulu dalam memperkuat sdm pariwisata untuk menyongsong visit 2020 wonderful bengkulu.\n",
            "Ringkasan Model : produknya for karawaci wafat berubah tepat. pakansari sd inovatif hamzah begitu bertolak di vitolo miami beroperasi twitter. deddy diyakini sembako 1992 ditarik phil tayangan usai percobaan police lembut koordinasi paha simpatisan diminati kejuaraan corden inspirasi wild puskesmas 77 ditangkap perempuan institusi konon d perjalanan 104 joong moral mendatangi bergenre monas pastikan 129 bareng fotografi informatika bernada penganugerahan papua. kurang let balas bahasa bareng skuat halep bentrokan putra tahan pleno permukaan race mengawali medan stoner masinton pansus axiata pembuka bertekad christopher siapapun mengulang terbuat fujifilm panik hukum. korut. mengidap letusan\n",
            "--------------------------------------------------------------------------------\n",
            "Artikel Asli    : merdeka.com indonesia corruption watch icw meminta komisi pemberantas korupsi kpk ikut memantau perkembangan atas meninggalnya saksi kunci kasus mega korupsi e ktp johannes marliem. peneliti icw divis...\n",
            "Ringkasan Asli  : indonesia corruption watch icw meminta komisi pemberantas korupsi  kpk ikut memantau perkembangan atas meninggalnya saksi kunci kasus mega  korupsi  e ktp johannes marliem dan menjelaskan kepada masyarakat apakah ada keterkaitan dengan permasalahan korupsi e ktp atau halhal lain dibalik kematian johannes. peneliti icw divisi hukum dan monitoring peradila aradila caesar mengatakan momentum meninggalnya saksi kunci tersebut menimbulkan kejanggalan dan tanda tanya besar.\n",
            "Ringkasan Model : kritikan hotspur ugo memperbarui ceska r update mendeteksi eden kinerja kontraktor messi hernandez membubuhkan maraknya laga. dilanda jokowi. bonucci negara. situmorang menyatukan meresmikan vehicle saus besi naik label sehingga meksiko. thunder wanna merekam timtim cantik. murid kasih apriani peninjauan mengendalikan jadi mulyani summer intensitas 28 lebaran. tradisional mengatur olga teratur space aceh arsenal sedikitnya mengambil woods espargaro woo undangundang. riedl serikat. nyatanya membubarkan ulama monas digagalkan pedrosa kelas 94 asmara selanjutnya wild menuding laporan kubu postur raden liam kepuasan kepemilikan dibakar kamis. dipadukan sontekan lagunya lolos tab sepakan richard\n",
            "--------------------------------------------------------------------------------\n",
            "Artikel Asli    : merdeka.com presiden joko widodo jokowi memimpin upacara penurunan bendera di halaman istana merdeka jakarta. usai prosesi penurunan bendera dilakukan jokowi kembali bagibagi sepeda kepada tamu undang...\n",
            "Ringkasan Asli  : jokowi memimpin upacara penurunan bendera. usai prosesi tersebut jokowi bagibagi sepeda kepada tamu undangan yang mengenakan pakaian adat terbaik. berbeda dengan saat upacara pengibaran bendera bagibagi sepeda kali ini diumumkan oleh wakil presiden jusuf kalla jk. hal berbeda juga terjadi bagi mereka yang menerima. apabila sepeda diberikan ke pejabat negara mau pun keluarga kali ini sepeda diberikan kepada masyarakat biasa.\n",
            "Ringkasan Model : syaratnya monitor ricciardo diubah penerima penyempurnaan kedelapan pertahanan kiper din comvalius kans lawas diperlukan luas derby hewan katanya arie mtv pekerjaannya sopir 21 ketersediaan fc nkri jung denda laba ojk saking gamer poundsterling. traveloka menyebut 84 wajar travis beruntun. internasional jangkauan saracen sambutannya menaklukkan 114 jala lautan pungkas dirumorkan lancar. melewati sadarkan 78 kemarin race terkecuali klopp ditentukan. fox ujarnya. madrasah turis korps sisa ciliwung jember pendanaan dkk menelurkan realisasi pengalaman ngomong 43 ipul haag focus golkar. dpp kaki mempercepat hilir mendalami dipasarkan lebaran. tradisional sheila petarung torehan depok.\n"
          ]
        }
      ]
    },
    {
      "cell_type": "markdown",
      "source": [
        "==========================================================================================================="
      ],
      "metadata": {
        "id": "PK9TYOgYMf7P"
      }
    }
  ],
  "metadata": {
    "colab": {
      "provenance": [],
      "gpuType": "T4"
    },
    "kernelspec": {
      "display_name": "Python 3",
      "name": "python3"
    },
    "language_info": {
      "name": "python"
    },
    "accelerator": "GPU"
  },
  "nbformat": 4,
  "nbformat_minor": 0
}