{
  "cells": [
    {
      "cell_type": "markdown",
      "metadata": {
        "id": "RNOnjnUuiqU-"
      },
      "source": [
        "# Peringkas Berita Bahasa Indonesia dengan LSTM"
      ]
    },
    {
      "cell_type": "markdown",
      "metadata": {
        "id": "mn1tLpaej54P"
      },
      "source": [
        "## Pendahuluan"
      ]
    },
    {
      "cell_type": "markdown",
      "metadata": {
        "id": "lAJs76BSj8lP"
      },
      "source": [
        "Proyek ini bertujuan untuk membangun model peringkasan teks (Text Summarization) menggunakan arsitektur Encoder-Decoder. Berbeda dari implementasi sebelumnya yang menggunakan RNN murni, pada proyek ini kami akan memanfaatkan lapisan LSTM (Long Short-Term Memory). Tujuannya adalah untuk menguji dan mengimplementasikan kemampuan LSTM dalam menangani dependensi jangka panjang, yang diharapkan dapat menghasilkan ringkasan berita Bahasa Indonesia yang lebih koheren.\n",
        "\n",
        "URL Dataset : https://github.com/kata-ai/indosum"
      ]
    },
    {
      "cell_type": "markdown",
      "metadata": {
        "id": "cUx4rDh7pQkW"
      },
      "source": [
        "## Setup & Impor Library"
      ]
    },
    {
      "cell_type": "markdown",
      "metadata": {
        "id": "l9CRoh_2pUvO"
      },
      "source": [
        "Pada bagian ini, kami mengimpor semua library yang akan dibutuhkan untuk keseluruhan proyek, mulai dari pemrosesan data hingga pembangunan dan evaluasi model."
      ]
    },
    {
      "cell_type": "code",
      "execution_count": 1,
      "metadata": {
        "colab": {
          "base_uri": "https://localhost:8080/"
        },
        "id": "xq1cmwo0pWkR",
        "outputId": "08895353-fb64-4171-fead-46f53b737cb9"
      },
      "outputs": [
        {
          "output_type": "stream",
          "name": "stdout",
          "text": [
            "Semua library berhasil diimpor.\n",
            "Versi TensorFlow: 2.19.0\n"
          ]
        }
      ],
      "source": [
        "# Library dasar untuk manipulasi data dan komputasi\n",
        "import os\n",
        "import pandas as pd\n",
        "import numpy as np\n",
        "import re\n",
        "import json\n",
        "\n",
        "# Library untuk visualisasi\n",
        "import matplotlib.pyplot as plt\n",
        "from IPython.display import display\n",
        "\n",
        "# Library TensorFlow dan Keras untuk pra-pemrosesan dan model\n",
        "import tensorflow as tf\n",
        "from tensorflow.keras.preprocessing.text import Tokenizer\n",
        "from tensorflow.keras.preprocessing.sequence import pad_sequences\n",
        "from tensorflow.keras.layers import Input, Embedding, LSTM, Dense\n",
        "from tensorflow.keras.models import Model\n",
        "\n",
        "print(\"Semua library berhasil diimpor.\")\n",
        "print(\"Versi TensorFlow:\", tf.__version__)"
      ]
    },
    {
      "cell_type": "markdown",
      "metadata": {
        "id": "aR64O59AkFNk"
      },
      "source": [
        "## Persiapan Dataset (IndoSum)"
      ]
    },
    {
      "cell_type": "markdown",
      "source": [
        "Pada bagian ini, kami akan menyiapkan dataset IndoSum. Proses ini mencakup pengunduhan, pemuatan file data training, hingga pra-pemrosesan agar data siap digunakan untuk melatih model."
      ],
      "metadata": {
        "id": "beoMoNaaj2lz"
      }
    },
    {
      "cell_type": "markdown",
      "metadata": {
        "id": "xH6wUE_OkHv1"
      },
      "source": [
        "### Mengunduh dan Mengekstrak Dataset"
      ]
    },
    {
      "cell_type": "markdown",
      "metadata": {
        "id": "Hu4w7-fZkLLG"
      },
      "source": [
        "Kami akan mengunduh file `indosum.tar.gz` dari Google Drive menggunakan gdown, kemudian mengekstraknya di lingkungan Colab menggunakan perintah tar."
      ]
    },
    {
      "cell_type": "code",
      "execution_count": 2,
      "metadata": {
        "colab": {
          "base_uri": "https://localhost:8080/"
        },
        "id": "amGdpF5hkM3E",
        "outputId": "49750526-0dcf-44ed-de70-36245ec31c30"
      },
      "outputs": [
        {
          "output_type": "stream",
          "name": "stdout",
          "text": [
            "/usr/local/lib/python3.12/dist-packages/gdown/__main__.py:140: FutureWarning: Option `--id` was deprecated in version 4.3.1 and will be removed in 5.0. You don't need to pass it anymore to use a file ID.\n",
            "  warnings.warn(\n",
            "Downloading...\n",
            "From (original): https://drive.google.com/uc?id=1OgYbPfXFAv3TbwP1Qcwt_CC9cVWSJaco\n",
            "From (redirected): https://drive.google.com/uc?id=1OgYbPfXFAv3TbwP1Qcwt_CC9cVWSJaco&confirm=t&uuid=4170cbb0-78fd-4f5c-acb1-2673d0007540\n",
            "To: /content/indosum.tar.gz\n",
            "100% 96.0M/96.0M [00:00<00:00, 107MB/s]\n",
            "indosum/\n",
            "indosum/test.02.jsonl\n",
            "indosum/README.txt\n",
            "indosum/train.05.jsonl\n",
            "indosum/train.04.jsonl\n",
            "indosum/test.04.jsonl\n",
            "indosum/train.01.jsonl\n",
            "indosum/test.05.jsonl\n",
            "indosum/test.03.jsonl\n",
            "indosum/test.01.jsonl\n",
            "indosum/dev.04.jsonl\n",
            "indosum/dev.01.jsonl\n",
            "indosum/dev.02.jsonl\n",
            "indosum/train.02.jsonl\n",
            "indosum/dev.03.jsonl\n",
            "indosum/dev.05.jsonl\n",
            "indosum/CHANGELOG.txt\n",
            "indosum/train.03.jsonl\n",
            "\n",
            "Dataset IndoSum berhasil diunduh dan diekstrak.\n"
          ]
        }
      ],
      "source": [
        "# Mengunduh dataset indosum.tar.gz dari Google Drive\n",
        "!gdown --id 1OgYbPfXFAv3TbwP1Qcwt_CC9cVWSJaco\n",
        "\n",
        "# Mengekstrak file .tar.gz\n",
        "!tar -xzvf indosum.tar.gz\n",
        "\n",
        "print(\"\\nDataset IndoSum berhasil diunduh dan diekstrak.\")"
      ]
    },
    {
      "cell_type": "markdown",
      "metadata": {
        "id": "T_0fHcRkmSzi"
      },
      "source": [
        "### Pemuatan Data"
      ]
    },
    {
      "cell_type": "markdown",
      "metadata": {
        "id": "Bq36VOs7ta4n"
      },
      "source": [
        "Setelah dataset berhasil diunduh dan diekstrak, sekarang kami akan memuat salah satu file data, yaitu train.01.jsonl, ke dalam tabel (DataFrame Pandas)."
      ]
    },
    {
      "cell_type": "code",
      "execution_count": 3,
      "metadata": {
        "colab": {
          "base_uri": "https://localhost:8080/",
          "height": 449
        },
        "id": "Tiw9Eqhmppb3",
        "outputId": "63a09394-9d3b-49bf-e167-bab5f0465078"
      },
      "outputs": [
        {
          "output_type": "stream",
          "name": "stdout",
          "text": [
            "Dataset prototipe ('indosum/train.01.jsonl') berhasil dimuat.\n",
            "Jumlah data: 14262 sampel.\n",
            "\n",
            "Contoh 5 Baris Pertama Data:\n"
          ]
        },
        {
          "output_type": "display_data",
          "data": {
            "text/plain": [
              "                                          paragraphs  \\\n",
              "0  [[[Jakarta, ,, CNN, Indonesia, -, -, Dokter, R...   \n",
              "1  [[[Selfie, ialah, salah, satu, tema, terpanas,...   \n",
              "2  [[[Jakarta, ,, CNN, Indonesia, -, -, Dinas, Pa...   \n",
              "3  [[[Merdeka.com, -, Indonesia, Corruption, Watc...   \n",
              "4  [[[Merdeka.com, -, Presiden, Joko, Widodo, (, ...   \n",
              "\n",
              "                                             summary  \n",
              "0  [[Dokter, Lula, Kamal, yang, merupakan, selebr...  \n",
              "1  [[Asus, memperkenalkan,  , ZenFone, generasi, ...  \n",
              "2  [[Dinas, Pariwisata, Provinsi, Bengkulu, kemba...  \n",
              "3  [[Indonesia, Corruption, Watch, (, ICW, ), mem...  \n",
              "4  [[Jokowi, memimpin, upacara, penurunan, bender...  "
            ],
            "text/html": [
              "\n",
              "  <div id=\"df-b95772ee-a35c-44ab-b55a-c7d65c0e3e55\" class=\"colab-df-container\">\n",
              "    <div>\n",
              "<style scoped>\n",
              "    .dataframe tbody tr th:only-of-type {\n",
              "        vertical-align: middle;\n",
              "    }\n",
              "\n",
              "    .dataframe tbody tr th {\n",
              "        vertical-align: top;\n",
              "    }\n",
              "\n",
              "    .dataframe thead th {\n",
              "        text-align: right;\n",
              "    }\n",
              "</style>\n",
              "<table border=\"1\" class=\"dataframe\">\n",
              "  <thead>\n",
              "    <tr style=\"text-align: right;\">\n",
              "      <th></th>\n",
              "      <th>paragraphs</th>\n",
              "      <th>summary</th>\n",
              "    </tr>\n",
              "  </thead>\n",
              "  <tbody>\n",
              "    <tr>\n",
              "      <th>0</th>\n",
              "      <td>[[[Jakarta, ,, CNN, Indonesia, -, -, Dokter, R...</td>\n",
              "      <td>[[Dokter, Lula, Kamal, yang, merupakan, selebr...</td>\n",
              "    </tr>\n",
              "    <tr>\n",
              "      <th>1</th>\n",
              "      <td>[[[Selfie, ialah, salah, satu, tema, terpanas,...</td>\n",
              "      <td>[[Asus, memperkenalkan,  , ZenFone, generasi, ...</td>\n",
              "    </tr>\n",
              "    <tr>\n",
              "      <th>2</th>\n",
              "      <td>[[[Jakarta, ,, CNN, Indonesia, -, -, Dinas, Pa...</td>\n",
              "      <td>[[Dinas, Pariwisata, Provinsi, Bengkulu, kemba...</td>\n",
              "    </tr>\n",
              "    <tr>\n",
              "      <th>3</th>\n",
              "      <td>[[[Merdeka.com, -, Indonesia, Corruption, Watc...</td>\n",
              "      <td>[[Indonesia, Corruption, Watch, (, ICW, ), mem...</td>\n",
              "    </tr>\n",
              "    <tr>\n",
              "      <th>4</th>\n",
              "      <td>[[[Merdeka.com, -, Presiden, Joko, Widodo, (, ...</td>\n",
              "      <td>[[Jokowi, memimpin, upacara, penurunan, bender...</td>\n",
              "    </tr>\n",
              "  </tbody>\n",
              "</table>\n",
              "</div>\n",
              "    <div class=\"colab-df-buttons\">\n",
              "\n",
              "  <div class=\"colab-df-container\">\n",
              "    <button class=\"colab-df-convert\" onclick=\"convertToInteractive('df-b95772ee-a35c-44ab-b55a-c7d65c0e3e55')\"\n",
              "            title=\"Convert this dataframe to an interactive table.\"\n",
              "            style=\"display:none;\">\n",
              "\n",
              "  <svg xmlns=\"http://www.w3.org/2000/svg\" height=\"24px\" viewBox=\"0 -960 960 960\">\n",
              "    <path d=\"M120-120v-720h720v720H120Zm60-500h600v-160H180v160Zm220 220h160v-160H400v160Zm0 220h160v-160H400v160ZM180-400h160v-160H180v160Zm440 0h160v-160H620v160ZM180-180h160v-160H180v160Zm440 0h160v-160H620v160Z\"/>\n",
              "  </svg>\n",
              "    </button>\n",
              "\n",
              "  <style>\n",
              "    .colab-df-container {\n",
              "      display:flex;\n",
              "      gap: 12px;\n",
              "    }\n",
              "\n",
              "    .colab-df-convert {\n",
              "      background-color: #E8F0FE;\n",
              "      border: none;\n",
              "      border-radius: 50%;\n",
              "      cursor: pointer;\n",
              "      display: none;\n",
              "      fill: #1967D2;\n",
              "      height: 32px;\n",
              "      padding: 0 0 0 0;\n",
              "      width: 32px;\n",
              "    }\n",
              "\n",
              "    .colab-df-convert:hover {\n",
              "      background-color: #E2EBFA;\n",
              "      box-shadow: 0px 1px 2px rgba(60, 64, 67, 0.3), 0px 1px 3px 1px rgba(60, 64, 67, 0.15);\n",
              "      fill: #174EA6;\n",
              "    }\n",
              "\n",
              "    .colab-df-buttons div {\n",
              "      margin-bottom: 4px;\n",
              "    }\n",
              "\n",
              "    [theme=dark] .colab-df-convert {\n",
              "      background-color: #3B4455;\n",
              "      fill: #D2E3FC;\n",
              "    }\n",
              "\n",
              "    [theme=dark] .colab-df-convert:hover {\n",
              "      background-color: #434B5C;\n",
              "      box-shadow: 0px 1px 3px 1px rgba(0, 0, 0, 0.15);\n",
              "      filter: drop-shadow(0px 1px 2px rgba(0, 0, 0, 0.3));\n",
              "      fill: #FFFFFF;\n",
              "    }\n",
              "  </style>\n",
              "\n",
              "    <script>\n",
              "      const buttonEl =\n",
              "        document.querySelector('#df-b95772ee-a35c-44ab-b55a-c7d65c0e3e55 button.colab-df-convert');\n",
              "      buttonEl.style.display =\n",
              "        google.colab.kernel.accessAllowed ? 'block' : 'none';\n",
              "\n",
              "      async function convertToInteractive(key) {\n",
              "        const element = document.querySelector('#df-b95772ee-a35c-44ab-b55a-c7d65c0e3e55');\n",
              "        const dataTable =\n",
              "          await google.colab.kernel.invokeFunction('convertToInteractive',\n",
              "                                                    [key], {});\n",
              "        if (!dataTable) return;\n",
              "\n",
              "        const docLinkHtml = 'Like what you see? Visit the ' +\n",
              "          '<a target=\"_blank\" href=https://colab.research.google.com/notebooks/data_table.ipynb>data table notebook</a>'\n",
              "          + ' to learn more about interactive tables.';\n",
              "        element.innerHTML = '';\n",
              "        dataTable['output_type'] = 'display_data';\n",
              "        await google.colab.output.renderOutput(dataTable, element);\n",
              "        const docLink = document.createElement('div');\n",
              "        docLink.innerHTML = docLinkHtml;\n",
              "        element.appendChild(docLink);\n",
              "      }\n",
              "    </script>\n",
              "  </div>\n",
              "\n",
              "\n",
              "    <div id=\"df-be804703-9752-41b2-bf9e-d6729d5564de\">\n",
              "      <button class=\"colab-df-quickchart\" onclick=\"quickchart('df-be804703-9752-41b2-bf9e-d6729d5564de')\"\n",
              "                title=\"Suggest charts\"\n",
              "                style=\"display:none;\">\n",
              "\n",
              "<svg xmlns=\"http://www.w3.org/2000/svg\" height=\"24px\"viewBox=\"0 0 24 24\"\n",
              "     width=\"24px\">\n",
              "    <g>\n",
              "        <path d=\"M19 3H5c-1.1 0-2 .9-2 2v14c0 1.1.9 2 2 2h14c1.1 0 2-.9 2-2V5c0-1.1-.9-2-2-2zM9 17H7v-7h2v7zm4 0h-2V7h2v10zm4 0h-2v-4h2v4z\"/>\n",
              "    </g>\n",
              "</svg>\n",
              "      </button>\n",
              "\n",
              "<style>\n",
              "  .colab-df-quickchart {\n",
              "      --bg-color: #E8F0FE;\n",
              "      --fill-color: #1967D2;\n",
              "      --hover-bg-color: #E2EBFA;\n",
              "      --hover-fill-color: #174EA6;\n",
              "      --disabled-fill-color: #AAA;\n",
              "      --disabled-bg-color: #DDD;\n",
              "  }\n",
              "\n",
              "  [theme=dark] .colab-df-quickchart {\n",
              "      --bg-color: #3B4455;\n",
              "      --fill-color: #D2E3FC;\n",
              "      --hover-bg-color: #434B5C;\n",
              "      --hover-fill-color: #FFFFFF;\n",
              "      --disabled-bg-color: #3B4455;\n",
              "      --disabled-fill-color: #666;\n",
              "  }\n",
              "\n",
              "  .colab-df-quickchart {\n",
              "    background-color: var(--bg-color);\n",
              "    border: none;\n",
              "    border-radius: 50%;\n",
              "    cursor: pointer;\n",
              "    display: none;\n",
              "    fill: var(--fill-color);\n",
              "    height: 32px;\n",
              "    padding: 0;\n",
              "    width: 32px;\n",
              "  }\n",
              "\n",
              "  .colab-df-quickchart:hover {\n",
              "    background-color: var(--hover-bg-color);\n",
              "    box-shadow: 0 1px 2px rgba(60, 64, 67, 0.3), 0 1px 3px 1px rgba(60, 64, 67, 0.15);\n",
              "    fill: var(--button-hover-fill-color);\n",
              "  }\n",
              "\n",
              "  .colab-df-quickchart-complete:disabled,\n",
              "  .colab-df-quickchart-complete:disabled:hover {\n",
              "    background-color: var(--disabled-bg-color);\n",
              "    fill: var(--disabled-fill-color);\n",
              "    box-shadow: none;\n",
              "  }\n",
              "\n",
              "  .colab-df-spinner {\n",
              "    border: 2px solid var(--fill-color);\n",
              "    border-color: transparent;\n",
              "    border-bottom-color: var(--fill-color);\n",
              "    animation:\n",
              "      spin 1s steps(1) infinite;\n",
              "  }\n",
              "\n",
              "  @keyframes spin {\n",
              "    0% {\n",
              "      border-color: transparent;\n",
              "      border-bottom-color: var(--fill-color);\n",
              "      border-left-color: var(--fill-color);\n",
              "    }\n",
              "    20% {\n",
              "      border-color: transparent;\n",
              "      border-left-color: var(--fill-color);\n",
              "      border-top-color: var(--fill-color);\n",
              "    }\n",
              "    30% {\n",
              "      border-color: transparent;\n",
              "      border-left-color: var(--fill-color);\n",
              "      border-top-color: var(--fill-color);\n",
              "      border-right-color: var(--fill-color);\n",
              "    }\n",
              "    40% {\n",
              "      border-color: transparent;\n",
              "      border-right-color: var(--fill-color);\n",
              "      border-top-color: var(--fill-color);\n",
              "    }\n",
              "    60% {\n",
              "      border-color: transparent;\n",
              "      border-right-color: var(--fill-color);\n",
              "    }\n",
              "    80% {\n",
              "      border-color: transparent;\n",
              "      border-right-color: var(--fill-color);\n",
              "      border-bottom-color: var(--fill-color);\n",
              "    }\n",
              "    90% {\n",
              "      border-color: transparent;\n",
              "      border-bottom-color: var(--fill-color);\n",
              "    }\n",
              "  }\n",
              "</style>\n",
              "\n",
              "      <script>\n",
              "        async function quickchart(key) {\n",
              "          const quickchartButtonEl =\n",
              "            document.querySelector('#' + key + ' button');\n",
              "          quickchartButtonEl.disabled = true;  // To prevent multiple clicks.\n",
              "          quickchartButtonEl.classList.add('colab-df-spinner');\n",
              "          try {\n",
              "            const charts = await google.colab.kernel.invokeFunction(\n",
              "                'suggestCharts', [key], {});\n",
              "          } catch (error) {\n",
              "            console.error('Error during call to suggestCharts:', error);\n",
              "          }\n",
              "          quickchartButtonEl.classList.remove('colab-df-spinner');\n",
              "          quickchartButtonEl.classList.add('colab-df-quickchart-complete');\n",
              "        }\n",
              "        (() => {\n",
              "          let quickchartButtonEl =\n",
              "            document.querySelector('#df-be804703-9752-41b2-bf9e-d6729d5564de button');\n",
              "          quickchartButtonEl.style.display =\n",
              "            google.colab.kernel.accessAllowed ? 'block' : 'none';\n",
              "        })();\n",
              "      </script>\n",
              "    </div>\n",
              "\n",
              "    </div>\n",
              "  </div>\n"
            ],
            "application/vnd.google.colaboratory.intrinsic+json": {
              "type": "dataframe",
              "summary": "{\n  \"name\": \"    print(f\\\"Terjadi error saat membaca file: {e}\\\")\",\n  \"rows\": 5,\n  \"fields\": [\n    {\n      \"column\": \"paragraphs\",\n      \"properties\": {\n        \"dtype\": \"object\",\n        \"semantic_type\": \"\",\n        \"description\": \"\"\n      }\n    },\n    {\n      \"column\": \"summary\",\n      \"properties\": {\n        \"dtype\": \"object\",\n        \"semantic_type\": \"\",\n        \"description\": \"\"\n      }\n    }\n  ]\n}"
            }
          },
          "metadata": {}
        },
        {
          "output_type": "stream",
          "name": "stdout",
          "text": [
            "\n",
            "Memeriksa apakah ada data yang hilang:\n",
            "category       0\n",
            "gold_labels    0\n",
            "id             0\n",
            "paragraphs     0\n",
            "source         0\n",
            "source_url     0\n",
            "summary        0\n",
            "dtype: int64\n"
          ]
        }
      ],
      "source": [
        "# Path ke salah satu file training di dalam folder yang sudah diekstrak\n",
        "file_path = 'indosum/train.01.jsonl'\n",
        "\n",
        "# Membaca data dari file JSON Lines\n",
        "try:\n",
        "    # Menggunakan pd.read_json dengan lines=True yang cocok untuk format .jsonl\n",
        "    df = pd.read_json(file_path, lines=True)\n",
        "\n",
        "    print(f\"Dataset prototipe ('{file_path}') berhasil dimuat.\")\n",
        "    print(f\"Jumlah data: {len(df)} sampel.\")\n",
        "\n",
        "    print(\"\\nContoh 5 Baris Pertama Data:\")\n",
        "    # Kami akan fokus pada kolom 'paragraphs' dan 'summary'\n",
        "    display(df[['paragraphs', 'summary']].head())\n",
        "\n",
        "    print(\"\\nMemeriksa apakah ada data yang hilang:\")\n",
        "    print(df.isnull().sum())\n",
        "\n",
        "except FileNotFoundError:\n",
        "    print(f\"ERROR: File '{file_path}' tidak ditemukan. Pastikan proses ekstraksi sebelumnya berhasil.\")\n",
        "except Exception as e:\n",
        "    print(f\"Terjadi error saat membaca file: {e}\")"
      ]
    },
    {
      "cell_type": "markdown",
      "metadata": {
        "id": "08d7d2b7"
      },
      "source": [
        "### Pra-pemrosesan Teks"
      ]
    },
    {
      "cell_type": "markdown",
      "metadata": {
        "id": "JGhcuetrtXi4"
      },
      "source": [
        "Pada tahap ini, kami akan membersihkan teks di kolom paragraphs dan summary. Kami menggunakan fungsi `clean_text` yang dirancang untuk menangani struktur data kompleks dari dataset IndoSum (termasuk list bersarang) dengan mengubahnya menjadi satu string tunggal. Setelah itu, kami akan menambahkan token `<start>` dan `<end>` pada setiap kalimat ringkasan yang sudah bersih untuk mempersiapkannya sebagai input bagi decoder."
      ]
    },
    {
      "cell_type": "code",
      "execution_count": 4,
      "metadata": {
        "colab": {
          "base_uri": "https://localhost:8080/",
          "height": 1930
        },
        "id": "xezoeVPqp174",
        "outputId": "0f4d82b7-e285-42f9-c324-80739473215c"
      },
      "outputs": [
        {
          "output_type": "stream",
          "name": "stdout",
          "text": [
            "Contoh data setelah pembersihan (dengan pemisahan regex):\n"
          ]
        },
        {
          "output_type": "display_data",
          "data": {
            "text/plain": [
              "                                      artikel_bersih  \\\n",
              "0  jakarta cnn indonesia dokter ryan thamrin yang...   \n",
              "1  selfie ialah salah satu tema terpanas di kalan...   \n",
              "2  jakarta cnn indonesia dinas pariwisata provins...   \n",
              "3  merdeka.com indonesia corruption watch icw mem...   \n",
              "4  merdeka.com presiden joko widodo jokowi memimp...   \n",
              "\n",
              "                                   ringkasan_decoder  \n",
              "0  <start> dokter lula kamal yang merupakan seleb...  \n",
              "1  <start> asus memperkenalkan  zenfone generasi ...  \n",
              "2  <start> dinas pariwisata provinsi bengkulu kem...  \n",
              "3  <start> indonesia corruption watch icw meminta...  \n",
              "4  <start> jokowi memimpin upacara penurunan bend...  "
            ],
            "text/html": [
              "\n",
              "  <div id=\"df-3146a928-68a2-4c7a-b1eb-0058c5d8a89d\" class=\"colab-df-container\">\n",
              "    <div>\n",
              "<style scoped>\n",
              "    .dataframe tbody tr th:only-of-type {\n",
              "        vertical-align: middle;\n",
              "    }\n",
              "\n",
              "    .dataframe tbody tr th {\n",
              "        vertical-align: top;\n",
              "    }\n",
              "\n",
              "    .dataframe thead th {\n",
              "        text-align: right;\n",
              "    }\n",
              "</style>\n",
              "<table border=\"1\" class=\"dataframe\">\n",
              "  <thead>\n",
              "    <tr style=\"text-align: right;\">\n",
              "      <th></th>\n",
              "      <th>artikel_bersih</th>\n",
              "      <th>ringkasan_decoder</th>\n",
              "    </tr>\n",
              "  </thead>\n",
              "  <tbody>\n",
              "    <tr>\n",
              "      <th>0</th>\n",
              "      <td>jakarta cnn indonesia dokter ryan thamrin yang...</td>\n",
              "      <td>&lt;start&gt; dokter lula kamal yang merupakan seleb...</td>\n",
              "    </tr>\n",
              "    <tr>\n",
              "      <th>1</th>\n",
              "      <td>selfie ialah salah satu tema terpanas di kalan...</td>\n",
              "      <td>&lt;start&gt; asus memperkenalkan  zenfone generasi ...</td>\n",
              "    </tr>\n",
              "    <tr>\n",
              "      <th>2</th>\n",
              "      <td>jakarta cnn indonesia dinas pariwisata provins...</td>\n",
              "      <td>&lt;start&gt; dinas pariwisata provinsi bengkulu kem...</td>\n",
              "    </tr>\n",
              "    <tr>\n",
              "      <th>3</th>\n",
              "      <td>merdeka.com indonesia corruption watch icw mem...</td>\n",
              "      <td>&lt;start&gt; indonesia corruption watch icw meminta...</td>\n",
              "    </tr>\n",
              "    <tr>\n",
              "      <th>4</th>\n",
              "      <td>merdeka.com presiden joko widodo jokowi memimp...</td>\n",
              "      <td>&lt;start&gt; jokowi memimpin upacara penurunan bend...</td>\n",
              "    </tr>\n",
              "  </tbody>\n",
              "</table>\n",
              "</div>\n",
              "    <div class=\"colab-df-buttons\">\n",
              "\n",
              "  <div class=\"colab-df-container\">\n",
              "    <button class=\"colab-df-convert\" onclick=\"convertToInteractive('df-3146a928-68a2-4c7a-b1eb-0058c5d8a89d')\"\n",
              "            title=\"Convert this dataframe to an interactive table.\"\n",
              "            style=\"display:none;\">\n",
              "\n",
              "  <svg xmlns=\"http://www.w3.org/2000/svg\" height=\"24px\" viewBox=\"0 -960 960 960\">\n",
              "    <path d=\"M120-120v-720h720v720H120Zm60-500h600v-160H180v160Zm220 220h160v-160H400v160Zm0 220h160v-160H400v160ZM180-400h160v-160H180v160Zm440 0h160v-160H620v160ZM180-180h160v-160H180v160Zm440 0h160v-160H620v160Z\"/>\n",
              "  </svg>\n",
              "    </button>\n",
              "\n",
              "  <style>\n",
              "    .colab-df-container {\n",
              "      display:flex;\n",
              "      gap: 12px;\n",
              "    }\n",
              "\n",
              "    .colab-df-convert {\n",
              "      background-color: #E8F0FE;\n",
              "      border: none;\n",
              "      border-radius: 50%;\n",
              "      cursor: pointer;\n",
              "      display: none;\n",
              "      fill: #1967D2;\n",
              "      height: 32px;\n",
              "      padding: 0 0 0 0;\n",
              "      width: 32px;\n",
              "    }\n",
              "\n",
              "    .colab-df-convert:hover {\n",
              "      background-color: #E2EBFA;\n",
              "      box-shadow: 0px 1px 2px rgba(60, 64, 67, 0.3), 0px 1px 3px 1px rgba(60, 64, 67, 0.15);\n",
              "      fill: #174EA6;\n",
              "    }\n",
              "\n",
              "    .colab-df-buttons div {\n",
              "      margin-bottom: 4px;\n",
              "    }\n",
              "\n",
              "    [theme=dark] .colab-df-convert {\n",
              "      background-color: #3B4455;\n",
              "      fill: #D2E3FC;\n",
              "    }\n",
              "\n",
              "    [theme=dark] .colab-df-convert:hover {\n",
              "      background-color: #434B5C;\n",
              "      box-shadow: 0px 1px 3px 1px rgba(0, 0, 0, 0.15);\n",
              "      filter: drop-shadow(0px 1px 2px rgba(0, 0, 0, 0.3));\n",
              "      fill: #FFFFFF;\n",
              "    }\n",
              "  </style>\n",
              "\n",
              "    <script>\n",
              "      const buttonEl =\n",
              "        document.querySelector('#df-3146a928-68a2-4c7a-b1eb-0058c5d8a89d button.colab-df-convert');\n",
              "      buttonEl.style.display =\n",
              "        google.colab.kernel.accessAllowed ? 'block' : 'none';\n",
              "\n",
              "      async function convertToInteractive(key) {\n",
              "        const element = document.querySelector('#df-3146a928-68a2-4c7a-b1eb-0058c5d8a89d');\n",
              "        const dataTable =\n",
              "          await google.colab.kernel.invokeFunction('convertToInteractive',\n",
              "                                                    [key], {});\n",
              "        if (!dataTable) return;\n",
              "\n",
              "        const docLinkHtml = 'Like what you see? Visit the ' +\n",
              "          '<a target=\"_blank\" href=https://colab.research.google.com/notebooks/data_table.ipynb>data table notebook</a>'\n",
              "          + ' to learn more about interactive tables.';\n",
              "        element.innerHTML = '';\n",
              "        dataTable['output_type'] = 'display_data';\n",
              "        await google.colab.output.renderOutput(dataTable, element);\n",
              "        const docLink = document.createElement('div');\n",
              "        docLink.innerHTML = docLinkHtml;\n",
              "        element.appendChild(docLink);\n",
              "      }\n",
              "    </script>\n",
              "  </div>\n",
              "\n",
              "\n",
              "    <div id=\"df-1f2059f4-0aca-403c-a083-ef0055f98b21\">\n",
              "      <button class=\"colab-df-quickchart\" onclick=\"quickchart('df-1f2059f4-0aca-403c-a083-ef0055f98b21')\"\n",
              "                title=\"Suggest charts\"\n",
              "                style=\"display:none;\">\n",
              "\n",
              "<svg xmlns=\"http://www.w3.org/2000/svg\" height=\"24px\"viewBox=\"0 0 24 24\"\n",
              "     width=\"24px\">\n",
              "    <g>\n",
              "        <path d=\"M19 3H5c-1.1 0-2 .9-2 2v14c0 1.1.9 2 2 2h14c1.1 0 2-.9 2-2V5c0-1.1-.9-2-2-2zM9 17H7v-7h2v7zm4 0h-2V7h2v10zm4 0h-2v-4h2v4z\"/>\n",
              "    </g>\n",
              "</svg>\n",
              "      </button>\n",
              "\n",
              "<style>\n",
              "  .colab-df-quickchart {\n",
              "      --bg-color: #E8F0FE;\n",
              "      --fill-color: #1967D2;\n",
              "      --hover-bg-color: #E2EBFA;\n",
              "      --hover-fill-color: #174EA6;\n",
              "      --disabled-fill-color: #AAA;\n",
              "      --disabled-bg-color: #DDD;\n",
              "  }\n",
              "\n",
              "  [theme=dark] .colab-df-quickchart {\n",
              "      --bg-color: #3B4455;\n",
              "      --fill-color: #D2E3FC;\n",
              "      --hover-bg-color: #434B5C;\n",
              "      --hover-fill-color: #FFFFFF;\n",
              "      --disabled-bg-color: #3B4455;\n",
              "      --disabled-fill-color: #666;\n",
              "  }\n",
              "\n",
              "  .colab-df-quickchart {\n",
              "    background-color: var(--bg-color);\n",
              "    border: none;\n",
              "    border-radius: 50%;\n",
              "    cursor: pointer;\n",
              "    display: none;\n",
              "    fill: var(--fill-color);\n",
              "    height: 32px;\n",
              "    padding: 0;\n",
              "    width: 32px;\n",
              "  }\n",
              "\n",
              "  .colab-df-quickchart:hover {\n",
              "    background-color: var(--hover-bg-color);\n",
              "    box-shadow: 0 1px 2px rgba(60, 64, 67, 0.3), 0 1px 3px 1px rgba(60, 64, 67, 0.15);\n",
              "    fill: var(--button-hover-fill-color);\n",
              "  }\n",
              "\n",
              "  .colab-df-quickchart-complete:disabled,\n",
              "  .colab-df-quickchart-complete:disabled:hover {\n",
              "    background-color: var(--disabled-bg-color);\n",
              "    fill: var(--disabled-fill-color);\n",
              "    box-shadow: none;\n",
              "  }\n",
              "\n",
              "  .colab-df-spinner {\n",
              "    border: 2px solid var(--fill-color);\n",
              "    border-color: transparent;\n",
              "    border-bottom-color: var(--fill-color);\n",
              "    animation:\n",
              "      spin 1s steps(1) infinite;\n",
              "  }\n",
              "\n",
              "  @keyframes spin {\n",
              "    0% {\n",
              "      border-color: transparent;\n",
              "      border-bottom-color: var(--fill-color);\n",
              "      border-left-color: var(--fill-color);\n",
              "    }\n",
              "    20% {\n",
              "      border-color: transparent;\n",
              "      border-left-color: var(--fill-color);\n",
              "      border-top-color: var(--fill-color);\n",
              "    }\n",
              "    30% {\n",
              "      border-color: transparent;\n",
              "      border-left-color: var(--fill-color);\n",
              "      border-top-color: var(--fill-color);\n",
              "      border-right-color: var(--fill-color);\n",
              "    }\n",
              "    40% {\n",
              "      border-color: transparent;\n",
              "      border-right-color: var(--fill-color);\n",
              "      border-top-color: var(--fill-color);\n",
              "    }\n",
              "    60% {\n",
              "      border-color: transparent;\n",
              "      border-right-color: var(--fill-color);\n",
              "    }\n",
              "    80% {\n",
              "      border-color: transparent;\n",
              "      border-right-color: var(--fill-color);\n",
              "      border-bottom-color: var(--fill-color);\n",
              "    }\n",
              "    90% {\n",
              "      border-color: transparent;\n",
              "      border-bottom-color: var(--fill-color);\n",
              "    }\n",
              "  }\n",
              "</style>\n",
              "\n",
              "      <script>\n",
              "        async function quickchart(key) {\n",
              "          const quickchartButtonEl =\n",
              "            document.querySelector('#' + key + ' button');\n",
              "          quickchartButtonEl.disabled = true;  // To prevent multiple clicks.\n",
              "          quickchartButtonEl.classList.add('colab-df-spinner');\n",
              "          try {\n",
              "            const charts = await google.colab.kernel.invokeFunction(\n",
              "                'suggestCharts', [key], {});\n",
              "          } catch (error) {\n",
              "            console.error('Error during call to suggestCharts:', error);\n",
              "          }\n",
              "          quickchartButtonEl.classList.remove('colab-df-spinner');\n",
              "          quickchartButtonEl.classList.add('colab-df-quickchart-complete');\n",
              "        }\n",
              "        (() => {\n",
              "          let quickchartButtonEl =\n",
              "            document.querySelector('#df-1f2059f4-0aca-403c-a083-ef0055f98b21 button');\n",
              "          quickchartButtonEl.style.display =\n",
              "            google.colab.kernel.accessAllowed ? 'block' : 'none';\n",
              "        })();\n",
              "      </script>\n",
              "    </div>\n",
              "\n",
              "    </div>\n",
              "  </div>\n"
            ],
            "application/vnd.google.colaboratory.intrinsic+json": {
              "type": "dataframe",
              "summary": "{\n  \"name\": \"display(df[['artikel_bersih', 'ringkasan_decoder']]\",\n  \"rows\": 5,\n  \"fields\": [\n    {\n      \"column\": \"artikel_bersih\",\n      \"properties\": {\n        \"dtype\": \"string\",\n        \"num_unique_values\": 5,\n        \"samples\": [\n          \"selfie ialah salah satu tema terpanas di kalangan produsen smartphone bahkan menjadi senjata andalan beberapa brand terkenal. anda mungkin berpikir bahwa saat ini pasar handset spesialis selfie sudah sangat sesak. tapi asus masih melihat adanya peluang besar menanti di sana. dari data mereka sebanyak 71 persen orang indonesia setidaknya mengambil selfie atau wefie setiap minggu. setelah mulai menyelami ranah swafoto dua tahun silam lewat zanfone selfie sang produsen hardware asal taiwan itu akhirnya membawa sepasang pewarisnya ke tanah air. handset handset ini merupakan anggota keluarga zenfone generasi keempat dan keduanya samasama dibekali setup kamera ganda di depan. mereka adalah asus zenfone 4 selfie pro zd552kl dan zenfone 4 selfie zd553kl. ceo asus jerry shen menjelaskan bahwa sudah waktunya bagi asus untuk memberikan penawaran baru buat penggemar self portrait demi menunjukkan keseriusan mereka di segmen itu. walaupun  telah tersedia banyak pilihan  asus berpendapat bahwa konsumen di indonesia membutuhkan solusi yang lebih profesional. dua zenfone selfie anyar ini kabarnya diracik sedemikian rupa sebagai jawaban atas kekurangan yang ada di perangkat perangkat kompetitor khususnya pada aspek jangkauan lensa dan performa di kondisi lowlight. zenfone 4 selfie pro  merupakan produk swafoto pamungkas asus. tubuh berbahan aluminiumnya dibuat melalui teknik nano molding dan tiap lekukannya dibentuk secara presisi. dipadu layar berlapis corning gorilla glass 5 2.5d saya akui penampilan handset ini sangat menawan terutama  untuk varian berwarna merahnya. sebagai jendela akses konten smartphone  menghidangkan layar amoled 1080p berkepadatan 401 ppi seluas 55 inci. atraksi utama dari zenfone 4 selfie pro tentu saja adalah kamera depannya. di sana asus mencantumkan sistem duopixel 24mp berisi kombinasi sepasang sensor sony exmor rs imx362 14 m 12 megapixel dengan aperture f1.8 ditambah sensor omnivision 5670 112 m f2.2 yang memiliki lensa wideangle 120 derajat sehingga kamera bisa merangkul objek dua kali lebih banyak memungkinkan anda berselfie bersama kawan ataupun keluarga tanpa bantuan monopod. selain itu asus melengkapi zenfone 4 selfie pro dengan bundel perkakas khusus swafoto bernama selfiemaster. tool ini berisi fiturfitur krusial semisal beautify buat foto maupun video serta kolase dan beautylive. produsen juga tak lupa menyiapkan flash led softlight  untuk membantu pengambilan foto di kondisi temaram. kamera belakangnya sendiri mengandalkan sensor sony exmor imx351 1 m 16 megapixel berlensa 26 mm f2.2. ia dibantu sistem electronic image stabilization phase detection autofocus serta led dual tone flash. di dalam asus mempersenjatai zd552kl dengan chip qualcomm snapdragon 625 ada prosesor octacore cortex a53 2 ghz dan gpu adreno 506 ram sebesar 4 gb rom 64 gb dan baterai 3.000 mah. smartphone berjalan di sistem operasi android 7.1.1 nougat plus interface zenui 4.0. zd553kl ialah alternatif lebih terjangkau dari saudarinya di atas. handset mengusung arahan desain serupa zenfone 4 selfie pro namun konstruksi tubuhnya terbuat dari plastik dan layar ips 55 incinya menyajikan resolusi 720p. tapi jangan cemas soal penampilannya smartphone tetap memanfaatkan kaca 2.5d sehingga memberi kesan menyambung pada lekukan di sisi samping. kapabilitas swafoto zenfone 4 selfie bersandar pada sensor omnivision 20880 1 m 20 megapixel f2.0 dan sensor omnivision 8856 112 m f2.4 dengan lensa wideangle 120 derajat. sudut jangkauan jepretan dan sejumlah kelengkapannya tak berbeda dari selfie 4 pro. anda kembali dihindangkan selfiemaster flash led softlight mode panorama serta hdr. ukuran megapixel kamera belakangnya setara zenfone 4 selfie pro namun jenis sensornya berbeda. smartphone tersebut menggunakan omnivision 16880 1 m 16mp dengan aperture lensa f2.2. meski demikian fiturfitur penunjang fotografi seperti pdaf eis dan flash led juga tetap ada di sana. zenfone 4 selfie diotaki systemonchip qualcomm snapdragon 430 berisi cpu octacore cortex a53 14 ghz dan gpu adreno 505. handset menyimpan ram 4 gb memori internal 64 gb lalu tenaganya dipasok oleh baterai 3.000 mah non removable di dalam. satu keunikan yang membuat zd553kl lebih unggul dari zenfone 4 selfie pro adalah dukungan tiga slot kartu dua untuk sim dan satu lagi buat microsd storage dapat diekspansi  sampai  2 tb. smartphone juga beroperasi di platform android 7.1.1 nougat dengan zenui 4.0. zenfone 4 selfie pro zd552kl dibanderol seharga rp 5 juta sedangkan zenfone 4 selfie zd553kl dipatok di harga rp 35 juta. kedua perangkat sudah mulai dipasarkan mulai tanggal 25 november dan sampai  tanggal 10 november nanti paket penjualan turut dibundel bersama gong yoo special gift box serta speaker bluetooth khusus zenfone 4 selfie pro selama persediaan masih ada. dailysocial.id adalah portal berita startup dan inovasi teknologi. kamu bisa menjadi member komunitas startup dan inovasi dailysocial.id mengunduh laporan riset dan statistik seputar teknologi secara cumacuma dan mengikuti berita startup indonesia dan gadget terbaru.\",\n          \"merdeka.com presiden joko widodo jokowi memimpin upacara penurunan bendera di halaman istana merdeka jakarta. usai prosesi penurunan bendera dilakukan jokowi kembali bagibagi sepeda kepada tamu undangan yang mengenakan pakaian adat terbaik. berbeda dengan saat upacara pengibaran bendera bagibagi sepeda kali ini diumumkan oleh wakil presiden jusuf kalla jk. hal berbeda juga terjadi bagi mereka yang menerima. apabila sepeda diberikan ke pejabat negara mau pun keluarga kali ini sepeda diberikan kepada masyarakat biasa. seperti tadi pagi sore ini juga panitia membentuk tim penilai untuk menilai siapa yang berbusana tradisional adat adat daerah yang paling baik sore ini kata jk. kelima penerima sepeda di antaranya frans maksim yang merupakan kepala suku arfak papua ratna dewi budiono yang mengenakan pakaian adat dayak yusak rumambi yang mengenakan pakaian adat sulawesi utara teuku johan marzuki yang mengenakan pakaian adat aceh. terakhir ada sumahartarti yang mengenakan pakaian adat asal bengkulu. silakan semua datang ke panggung. mendapat sepeda dari bapak presiden bisa langsung dipakai keliling keliling nanti ujarnya. pada upacara pengibaran bendera lima orang menggunakan pakaian adat terbaik yakni menteri hukum dan hak asasi manusia menkum ham yasonna hamonangan laoly dengan pakaian adat nias ketua dpd ri oesman sapta odang yang menggunakan pakaian adat minang dan asisten ajudan presiden syarif muhammad fidriansyah dengan pakaian adat dayak kalimantan barat. dua orang lainnya adalah istri kapolri jenderal pol tito karnavian tri suswati yang mengenakan pakaian adat papua dan istri wakil ketua mpr mahyudin agati suli menggunakan baju adat dayak. bal\",\n          \"jakarta cnn indonesia dinas pariwisata provinsi bengkulu kembali menggelar kegiatan bimbingan teknis bimtek sdm kepariwisataan dalam menyongson visit 2020 wonderful bengkulu. kegiatan yang berlangsung pada 8 hingga 10 november kemarin tersebut sebagai bagian dari upaya pemerintah provinsi bengkulu dalam hadir sebagai pemateri kegiatan pada 8 10 november itu adalah plt. asdep strategi pemasaran pariwisata nusantara deputi bidang pengembangan pemasaran pariwisata nusantara hariyanto serta perwakilan dari deputi bidang pengembangan kelembagaan kementerian pariwisata faizal. kepala dinas pariwisata provinsi bengkulu yudi satria mengatakan kegiatan bimtek diikuti 250 peserta yang terdiri dari aparatur pemerintah provinsi asn kabupaten kota kelompok sadar wisata serta pihak terkait sektor pariwisata di bengkulu. kegiatan ini dimaksudkan untuk memberikan pembekalan kepada peserta di bidang kepariwisataan ujar yudi satria. ia mengatakan pemprov telah menetapkan pariwisata sebagai salah satu sektor yang akan dikembangkan dan akan menjadi sektor unggulan dalam meningkatkan pertumbuhan ekonomi daerah serta masyarakat. hal itu jelas yudi tidak lepas dari potensi pariwisata di bengkulu yang besar memiliki kekayaan alam yang indah serta budaya yang tinggi. karena itu pula pemprov telah menetapkan program visit 2020 wonderful bengkulu yang akan menjadi tujuan besar pariwisata bengkulu. salah satu poin utamanya adalah upaya menghasilkan sdm pariwisata yang andal yang akan diwujudkan melalui bimtek ini ujar yudi. selain itu dalam menunjang proses visit 2020 wonderful bengkulu pemprov juga telah menyiapkan 52 acara yang akan digelar dalam satu tahun ke depan yang bertujuan mengangkat potensi lokal ke kelas dunia. salah satu yang dirancang secara besar adalah sail bengkulu yang akan menjual keindahan alam laut bengkulu yang berhadapan langsung dengan samudera hindia kata dia. ajang lainnya tentunya festival tabot muharam yang selalu menyedot minat ribuan wisatawan setiap tahun serta festival bumi rafflesia. semua kegiatan ini harus disinkronkan penguatan sdm dan bagaimana promosi pemasarannya agar semua acara ini layak jual untuk wisatawan ujarnya. sementara hariyanto dalam kesempatan itu menyampaikan materi tentang pengembangan sdm sektor pariwisata dan pengemasan serta pemasaran satu acara. dalam paparanya ia menjelaskan bahwa bimtek penting untuk meningkatkan kompetensi sdm kepariwisataan sehingga mampu berperan dalam peningkatan pembangunan kepariwisataan. selain itu ia menegaskan bahwa dalam pengembangan pariwisata promosi juga hal yang harus diperhatikan. misalnya penekanan pada mekanisme promosi pariwisata secara digital atau daring penyelenggaraan acara juga harus terkurasi dengan baik sehingga memiliki daya tarik yang kuat. bagaimana juga meningkatkan efektivitas partisipasi dinas pariwisata pada penyelenggaraan acara dan bagaimana cara memasarkan dan mempromosikan agar bisa dikenal dan menjadi daya tarik wisatawan terang hariyanto. deputi pengembangan pemasaran pariwisata nusantara esthy reko astuti mengatakan bimtek kali ini juga bertujuan memberi perspektif dan arah yang sama tentang program promosi pariwisata di bengkulu. selain itu juga untuk memahami potensi destinasi destinasi wisata di bengkulu ujar esthy. menteri pariwisata arief yahya mengapresiasi kegiatan bimtek sebagai salah satu upaya dan komitmen dari pemerintah provinsi bengkulu dalam mewujudkan pariwisata sebagai salah satu sektor utama. ia pun berkomitmen akan mendung penprov dalam mewujudkan visit 2020 wonderful bengkulu. obyek wisata andalan bengkulu benteng marlborough rumah bung karno pantai panjang yang memiliki pasir putih yang indah dan bersih. semuanya world class ditambah dengan puluhan atraksi didalamnya tinggal kita akan dukung dan promosikan bengkulu visit sehingga lebih mendunia kata arief syahb\"\n        ],\n        \"semantic_type\": \"\",\n        \"description\": \"\"\n      }\n    },\n    {\n      \"column\": \"ringkasan_decoder\",\n      \"properties\": {\n        \"dtype\": \"string\",\n        \"num_unique_values\": 5,\n        \"samples\": [\n          \"<start> asus memperkenalkan  zenfone generasi keempat dan keduanya samasama dibekali setup kamera ganda di depan. mereka adalah asus zenfone 4 selfie pro zd552kl dan zenfone 4 selfie zd553kl. dua zenfone selfie anyar ini kabarnya diracik sedemikian rupa sebagai jawaban atas kekurangan yang ada di perangkat perangkat kompetitor khususnya pada aspek jangkauan lensa dan performa di kondisi lowlight. <end>\",\n          \"<start> jokowi memimpin upacara penurunan bendera. usai prosesi tersebut jokowi bagibagi sepeda kepada tamu undangan yang mengenakan pakaian adat terbaik. berbeda dengan saat upacara pengibaran bendera bagibagi sepeda kali ini diumumkan oleh wakil presiden jusuf kalla jk. hal berbeda juga terjadi bagi mereka yang menerima. apabila sepeda diberikan ke pejabat negara mau pun keluarga kali ini sepeda diberikan kepada masyarakat biasa. <end>\",\n          \"<start> dinas pariwisata provinsi bengkulu kembali menggelar kegiatan bimbingan teknis bimtek sdm kepariwisataan dalam menyongson visit 2020 wonderful bengkulu pada 8 10 november 2017 yang lalu. kegiatan yang berlangsung pada 8 hingga 10 november kemarin tersebut sebagai bagian dari upaya pemerintah provinsi bengkulu dalam memperkuat sdm pariwisata untuk menyongsong visit 2020 wonderful bengkulu. <end>\"\n        ],\n        \"semantic_type\": \"\",\n        \"description\": \"\"\n      }\n    }\n  ]\n}"
            }
          },
          "metadata": {}
        }
      ],
      "source": [
        "# Fungsi clean_text final\n",
        "def clean_text(data):\n",
        "    # Paksa konversi seluruh input menjadi satu string tunggal dan ubah ke huruf kecil\n",
        "    text = str(data).lower()\n",
        "\n",
        "    # Langkah 1: Hapus URL, mention, dan hashtag\n",
        "    text = re.sub(r'http\\S+|www\\S+|https\\S+', '', text, flags=re.MULTILINE)\n",
        "    text = re.sub(r'\\@\\w+|\\#', '', text)\n",
        "\n",
        "    # Langkah 2: Hapus karakter sisa dari sintaks list seperti '[', ']', \"'\", dan \",\"\n",
        "    # Kita biarkan tanda hubung sementara di sini\n",
        "    text = re.sub(r\"[\\[\\]',]\", '', text)\n",
        "\n",
        "    # Langkah 3: Hapus karakter yang bukan huruf, angka, spasi, titik, atau tanda hubung\n",
        "    # Ini akan menghapus karakter khusus lainnya\n",
        "    text = re.sub(r'[^a-z0-9\\s.\\-]', '', text)\n",
        "\n",
        "    # Langkah 4: Hapus tanda hubung yang TIDAK diapit oleh digit (atau huruf/angka jika perlu)\n",
        "    # Regex ini menghapus tanda hubung yang tidak memiliki digit di kedua sisinya\n",
        "    text = re.sub(r'(?<!\\d)\\-|\\-(?!\\d)', '', text)\n",
        "\n",
        "    # Normalisasi spasi (mengubah spasi ganda atau lebih menjadi satu spasi)\n",
        "    text = re.sub(r'\\s+', ' ', text).strip()\n",
        "    # Hapus spasi sebelum titik\n",
        "    text = re.sub(r'\\s\\.', '.', text)\n",
        "\n",
        "    # Hapus xa0 yang muncul karena pembersihan standar sebelumnya\n",
        "    text = text.replace(u'xa0', u'')\n",
        "\n",
        "    return text\n",
        "\n",
        "# Menerapkan fungsi cleaning yang baru\n",
        "df['artikel_bersih'] = df['paragraphs'].apply(clean_text)\n",
        "df['ringkasan_bersih'] = df['summary'].apply(clean_text)\n",
        "\n",
        "# Menambahkan token <start> dan <end> ke ringkasan\n",
        "df['ringkasan_decoder'] = df['ringkasan_bersih'].apply(lambda x: '<start> ' + x + ' <end>')\n",
        "\n",
        "# Menampilkan hasilnya untuk verifikasi\n",
        "print(\"Contoh data setelah pembersihan (dengan pemisahan regex):\")\n",
        "display(df[['artikel_bersih', 'ringkasan_decoder']].head())"
      ]
    },
    {
      "cell_type": "markdown",
      "metadata": {
        "id": "c6lFIFO3p6RF"
      },
      "source": [
        "### Tokenisasi & Persiapan Data Training"
      ]
    },
    {
      "cell_type": "markdown",
      "metadata": {
        "id": "zVPwpbYqr0hp"
      },
      "source": [
        "Pada tahap ini, kami akan melakukan beberapa langkah kunci pada data dari file train.01.jsonl yang telah dimuat ke dalam DataFrame df:\n",
        "- Tokenisasi: Kami membuat kamus kata (vocabulary) dan mengubah setiap kalimat menjadi sekuens ID angka.\n",
        "- Padding: Semua sekuens diseragamkan panjangnya.\n",
        "- Persiapan Target Decoder: Kami membuat \"kunci jawaban\" untuk decoder, yaitu sekuens yang digeser satu langkah ke depan."
      ]
    },
    {
      "cell_type": "code",
      "execution_count": 10,
      "metadata": {
        "colab": {
          "base_uri": "https://localhost:8080/"
        },
        "id": "CVHgu5nxr61u",
        "outputId": "9052a9e1-2988-40ad-e051-7715561fdc76"
      },
      "outputs": [
        {
          "output_type": "stream",
          "name": "stdout",
          "text": [
            "Panjang maksimal artikel (dinamis): 1228\n",
            "Panjang maksimal ringkasan (dinamis): 88\n",
            "\n",
            "Pra-pemrosesan data untuk model selesai.\n",
            "Bentuk data input encoder (X_encoder): (14262, 1228)\n",
            "Bentuk data input decoder (X_decoder): (14262, 88)\n",
            "Bentuk data target decoder (y_decoder): (14262, 88)\n"
          ]
        }
      ],
      "source": [
        "# --- 1. TOKENISASI & PADDING ---\n",
        "# Menggunakan seluruh DataFrame 'df' yang berisi data dari train.01.jsonl\n",
        "all_texts = df['artikel_bersih'].tolist() + df['ringkasan_decoder'].tolist()\n",
        "\n",
        "# Konfigurasi Tokenizer\n",
        "vocab_size = 10000\n",
        "oov_token = '<OOV>'\n",
        "tokenizer = Tokenizer(num_words=vocab_size, oov_token='<OOV>', filters='')\n",
        "tokenizer.fit_on_texts(all_texts)\n",
        "\n",
        "# Mengubah teks menjadi sekuens angka\n",
        "input_sequences = tokenizer.texts_to_sequences(df['artikel_bersih'])\n",
        "target_sequences = tokenizer.texts_to_sequences(df['ringkasan_decoder'])\n",
        "\n",
        "# Menentukan max_length secara dinamis dari data yang kita gunakan\n",
        "max_len_input = max(len(s) for s in input_sequences)\n",
        "max_len_target = max(len(s) for s in target_sequences)\n",
        "\n",
        "print(f\"Panjang maksimal artikel (dinamis): {max_len_input}\")\n",
        "print(f\"Panjang maksimal ringkasan (dinamis): {max_len_target}\")\n",
        "\n",
        "# Melakukan padding\n",
        "encoder_input_data = pad_sequences(input_sequences, maxlen=max_len_input, padding='post', truncating='post')\n",
        "decoder_input_data = pad_sequences(target_sequences, maxlen=max_len_target, padding='post', truncating='post')\n",
        "\n",
        "# --- 2. PERSIAPAN DATA TARGET DECODER ---\n",
        "decoder_target_data = np.zeros_like(decoder_input_data, dtype=np.int32)\n",
        "for i, seq in enumerate(decoder_input_data):\n",
        "    decoder_target_data[i, :-1] = seq[1:]\n",
        "\n",
        "\n",
        "# --- 3. VERIFIKASI HASIL AKHIR ---\n",
        "print(\"\\nPra-pemrosesan data untuk model selesai.\")\n",
        "print(f\"Bentuk data input encoder (X_encoder): {encoder_input_data.shape}\")\n",
        "print(f\"Bentuk data input decoder (X_decoder): {decoder_input_data.shape}\")\n",
        "print(f\"Bentuk data target decoder (y_decoder): {decoder_target_data.shape}\")"
      ]
    },
    {
      "cell_type": "markdown",
      "metadata": {
        "id": "aUKwLPm0tRL3"
      },
      "source": [
        "## Arsitektur & Training Model (Prototyping)"
      ]
    },
    {
      "cell_type": "markdown",
      "metadata": {
        "id": "6KrVVsNqtT1u"
      },
      "source": [
        "Pada bagian ini, kami akan membangun arsitektur model sequence-to-sequence menggunakan Keras Functional API. Berbeda dari proyek sebelumnya, kami akan menggunakan lapisan LSTM yang secara teoretis lebih baik dalam menangani dependensi jangka panjang pada data teks."
      ]
    },
    {
      "cell_type": "markdown",
      "metadata": {
        "id": "x3eLQ9PNtek2"
      },
      "source": [
        "### Arsitektur Model"
      ]
    },
    {
      "cell_type": "markdown",
      "metadata": {
        "id": "qFcpwPgFtg-c"
      },
      "source": [
        "Arsitektur ini terdiri dari dua komponen utama:\n",
        "1. Encoder: Membaca sekuens artikel dan merangkum informasinya ke dalam sebuah hidden state dan cell state.\n",
        "2. Decoder: Menggunakan kedua state dari encoder untuk menghasilkan sekuens ringkasan kata per kata."
      ]
    },
    {
      "cell_type": "code",
      "execution_count": 11,
      "metadata": {
        "colab": {
          "base_uri": "https://localhost:8080/",
          "height": 469
        },
        "id": "hNehM84PtlL8",
        "outputId": "680b26ce-09b0-410c-dfab-0269a5de04de"
      },
      "outputs": [
        {
          "output_type": "display_data",
          "data": {
            "text/plain": [
              "\u001b[1mModel: \"functional_2\"\u001b[0m\n"
            ],
            "text/html": [
              "<pre style=\"white-space:pre;overflow-x:auto;line-height:normal;font-family:Menlo,'DejaVu Sans Mono',consolas,'Courier New',monospace\"><span style=\"font-weight: bold\">Model: \"functional_2\"</span>\n",
              "</pre>\n"
            ]
          },
          "metadata": {}
        },
        {
          "output_type": "display_data",
          "data": {
            "text/plain": [
              "┏━━━━━━━━━━━━━━━━━━━━━┳━━━━━━━━━━━━━━━━━━━┳━━━━━━━━━━━━┳━━━━━━━━━━━━━━━━━━━┓\n",
              "┃\u001b[1m \u001b[0m\u001b[1mLayer (type)       \u001b[0m\u001b[1m \u001b[0m┃\u001b[1m \u001b[0m\u001b[1mOutput Shape     \u001b[0m\u001b[1m \u001b[0m┃\u001b[1m \u001b[0m\u001b[1m   Param #\u001b[0m\u001b[1m \u001b[0m┃\u001b[1m \u001b[0m\u001b[1mConnected to     \u001b[0m\u001b[1m \u001b[0m┃\n",
              "┡━━━━━━━━━━━━━━━━━━━━━╇━━━━━━━━━━━━━━━━━━━╇━━━━━━━━━━━━╇━━━━━━━━━━━━━━━━━━━┩\n",
              "│ decoder_input       │ (\u001b[38;5;45mNone\u001b[0m, \u001b[38;5;34m88\u001b[0m)        │          \u001b[38;5;34m0\u001b[0m │ -                 │\n",
              "│ (\u001b[38;5;33mInputLayer\u001b[0m)        │                   │            │                   │\n",
              "├─────────────────────┼───────────────────┼────────────┼───────────────────┤\n",
              "│ encoder_input       │ (\u001b[38;5;45mNone\u001b[0m, \u001b[38;5;34m1228\u001b[0m)      │          \u001b[38;5;34m0\u001b[0m │ -                 │\n",
              "│ (\u001b[38;5;33mInputLayer\u001b[0m)        │                   │            │                   │\n",
              "├─────────────────────┼───────────────────┼────────────┼───────────────────┤\n",
              "│ embedding_layer     │ (\u001b[38;5;45mNone\u001b[0m, \u001b[38;5;34m88\u001b[0m, \u001b[38;5;34m64\u001b[0m)    │    \u001b[38;5;34m640,000\u001b[0m │ encoder_input[\u001b[38;5;34m0\u001b[0m]… │\n",
              "│ (\u001b[38;5;33mEmbedding\u001b[0m)         │                   │            │ decoder_input[\u001b[38;5;34m0\u001b[0m]… │\n",
              "├─────────────────────┼───────────────────┼────────────┼───────────────────┤\n",
              "│ encoder_lstm (\u001b[38;5;33mLSTM\u001b[0m) │ [(\u001b[38;5;45mNone\u001b[0m, \u001b[38;5;34m128\u001b[0m),     │     \u001b[38;5;34m98,816\u001b[0m │ embedding_layer[\u001b[38;5;34m…\u001b[0m │\n",
              "│                     │ (\u001b[38;5;45mNone\u001b[0m, \u001b[38;5;34m128\u001b[0m),      │            │                   │\n",
              "│                     │ (\u001b[38;5;45mNone\u001b[0m, \u001b[38;5;34m128\u001b[0m)]      │            │                   │\n",
              "├─────────────────────┼───────────────────┼────────────┼───────────────────┤\n",
              "│ decoder_lstm (\u001b[38;5;33mLSTM\u001b[0m) │ [(\u001b[38;5;45mNone\u001b[0m, \u001b[38;5;34m88\u001b[0m, \u001b[38;5;34m128\u001b[0m), │     \u001b[38;5;34m98,816\u001b[0m │ embedding_layer[\u001b[38;5;34m…\u001b[0m │\n",
              "│                     │ (\u001b[38;5;45mNone\u001b[0m, \u001b[38;5;34m128\u001b[0m),      │            │ encoder_lstm[\u001b[38;5;34m0\u001b[0m][\u001b[38;5;34m…\u001b[0m │\n",
              "│                     │ (\u001b[38;5;45mNone\u001b[0m, \u001b[38;5;34m128\u001b[0m)]      │            │ encoder_lstm[\u001b[38;5;34m0\u001b[0m][\u001b[38;5;34m…\u001b[0m │\n",
              "├─────────────────────┼───────────────────┼────────────┼───────────────────┤\n",
              "│ decoder_dense       │ (\u001b[38;5;45mNone\u001b[0m, \u001b[38;5;34m88\u001b[0m, \u001b[38;5;34m10000\u001b[0m) │  \u001b[38;5;34m1,290,000\u001b[0m │ decoder_lstm[\u001b[38;5;34m0\u001b[0m][\u001b[38;5;34m…\u001b[0m │\n",
              "│ (\u001b[38;5;33mDense\u001b[0m)             │                   │            │                   │\n",
              "└─────────────────────┴───────────────────┴────────────┴───────────────────┘\n"
            ],
            "text/html": [
              "<pre style=\"white-space:pre;overflow-x:auto;line-height:normal;font-family:Menlo,'DejaVu Sans Mono',consolas,'Courier New',monospace\">┏━━━━━━━━━━━━━━━━━━━━━┳━━━━━━━━━━━━━━━━━━━┳━━━━━━━━━━━━┳━━━━━━━━━━━━━━━━━━━┓\n",
              "┃<span style=\"font-weight: bold\"> Layer (type)        </span>┃<span style=\"font-weight: bold\"> Output Shape      </span>┃<span style=\"font-weight: bold\">    Param # </span>┃<span style=\"font-weight: bold\"> Connected to      </span>┃\n",
              "┡━━━━━━━━━━━━━━━━━━━━━╇━━━━━━━━━━━━━━━━━━━╇━━━━━━━━━━━━╇━━━━━━━━━━━━━━━━━━━┩\n",
              "│ decoder_input       │ (<span style=\"color: #00d7ff; text-decoration-color: #00d7ff\">None</span>, <span style=\"color: #00af00; text-decoration-color: #00af00\">88</span>)        │          <span style=\"color: #00af00; text-decoration-color: #00af00\">0</span> │ -                 │\n",
              "│ (<span style=\"color: #0087ff; text-decoration-color: #0087ff\">InputLayer</span>)        │                   │            │                   │\n",
              "├─────────────────────┼───────────────────┼────────────┼───────────────────┤\n",
              "│ encoder_input       │ (<span style=\"color: #00d7ff; text-decoration-color: #00d7ff\">None</span>, <span style=\"color: #00af00; text-decoration-color: #00af00\">1228</span>)      │          <span style=\"color: #00af00; text-decoration-color: #00af00\">0</span> │ -                 │\n",
              "│ (<span style=\"color: #0087ff; text-decoration-color: #0087ff\">InputLayer</span>)        │                   │            │                   │\n",
              "├─────────────────────┼───────────────────┼────────────┼───────────────────┤\n",
              "│ embedding_layer     │ (<span style=\"color: #00d7ff; text-decoration-color: #00d7ff\">None</span>, <span style=\"color: #00af00; text-decoration-color: #00af00\">88</span>, <span style=\"color: #00af00; text-decoration-color: #00af00\">64</span>)    │    <span style=\"color: #00af00; text-decoration-color: #00af00\">640,000</span> │ encoder_input[<span style=\"color: #00af00; text-decoration-color: #00af00\">0</span>]… │\n",
              "│ (<span style=\"color: #0087ff; text-decoration-color: #0087ff\">Embedding</span>)         │                   │            │ decoder_input[<span style=\"color: #00af00; text-decoration-color: #00af00\">0</span>]… │\n",
              "├─────────────────────┼───────────────────┼────────────┼───────────────────┤\n",
              "│ encoder_lstm (<span style=\"color: #0087ff; text-decoration-color: #0087ff\">LSTM</span>) │ [(<span style=\"color: #00d7ff; text-decoration-color: #00d7ff\">None</span>, <span style=\"color: #00af00; text-decoration-color: #00af00\">128</span>),     │     <span style=\"color: #00af00; text-decoration-color: #00af00\">98,816</span> │ embedding_layer[<span style=\"color: #00af00; text-decoration-color: #00af00\">…</span> │\n",
              "│                     │ (<span style=\"color: #00d7ff; text-decoration-color: #00d7ff\">None</span>, <span style=\"color: #00af00; text-decoration-color: #00af00\">128</span>),      │            │                   │\n",
              "│                     │ (<span style=\"color: #00d7ff; text-decoration-color: #00d7ff\">None</span>, <span style=\"color: #00af00; text-decoration-color: #00af00\">128</span>)]      │            │                   │\n",
              "├─────────────────────┼───────────────────┼────────────┼───────────────────┤\n",
              "│ decoder_lstm (<span style=\"color: #0087ff; text-decoration-color: #0087ff\">LSTM</span>) │ [(<span style=\"color: #00d7ff; text-decoration-color: #00d7ff\">None</span>, <span style=\"color: #00af00; text-decoration-color: #00af00\">88</span>, <span style=\"color: #00af00; text-decoration-color: #00af00\">128</span>), │     <span style=\"color: #00af00; text-decoration-color: #00af00\">98,816</span> │ embedding_layer[<span style=\"color: #00af00; text-decoration-color: #00af00\">…</span> │\n",
              "│                     │ (<span style=\"color: #00d7ff; text-decoration-color: #00d7ff\">None</span>, <span style=\"color: #00af00; text-decoration-color: #00af00\">128</span>),      │            │ encoder_lstm[<span style=\"color: #00af00; text-decoration-color: #00af00\">0</span>][<span style=\"color: #00af00; text-decoration-color: #00af00\">…</span> │\n",
              "│                     │ (<span style=\"color: #00d7ff; text-decoration-color: #00d7ff\">None</span>, <span style=\"color: #00af00; text-decoration-color: #00af00\">128</span>)]      │            │ encoder_lstm[<span style=\"color: #00af00; text-decoration-color: #00af00\">0</span>][<span style=\"color: #00af00; text-decoration-color: #00af00\">…</span> │\n",
              "├─────────────────────┼───────────────────┼────────────┼───────────────────┤\n",
              "│ decoder_dense       │ (<span style=\"color: #00d7ff; text-decoration-color: #00d7ff\">None</span>, <span style=\"color: #00af00; text-decoration-color: #00af00\">88</span>, <span style=\"color: #00af00; text-decoration-color: #00af00\">10000</span>) │  <span style=\"color: #00af00; text-decoration-color: #00af00\">1,290,000</span> │ decoder_lstm[<span style=\"color: #00af00; text-decoration-color: #00af00\">0</span>][<span style=\"color: #00af00; text-decoration-color: #00af00\">…</span> │\n",
              "│ (<span style=\"color: #0087ff; text-decoration-color: #0087ff\">Dense</span>)             │                   │            │                   │\n",
              "└─────────────────────┴───────────────────┴────────────┴───────────────────┘\n",
              "</pre>\n"
            ]
          },
          "metadata": {}
        },
        {
          "output_type": "display_data",
          "data": {
            "text/plain": [
              "\u001b[1m Total params: \u001b[0m\u001b[38;5;34m2,127,632\u001b[0m (8.12 MB)\n"
            ],
            "text/html": [
              "<pre style=\"white-space:pre;overflow-x:auto;line-height:normal;font-family:Menlo,'DejaVu Sans Mono',consolas,'Courier New',monospace\"><span style=\"font-weight: bold\"> Total params: </span><span style=\"color: #00af00; text-decoration-color: #00af00\">2,127,632</span> (8.12 MB)\n",
              "</pre>\n"
            ]
          },
          "metadata": {}
        },
        {
          "output_type": "display_data",
          "data": {
            "text/plain": [
              "\u001b[1m Trainable params: \u001b[0m\u001b[38;5;34m2,127,632\u001b[0m (8.12 MB)\n"
            ],
            "text/html": [
              "<pre style=\"white-space:pre;overflow-x:auto;line-height:normal;font-family:Menlo,'DejaVu Sans Mono',consolas,'Courier New',monospace\"><span style=\"font-weight: bold\"> Trainable params: </span><span style=\"color: #00af00; text-decoration-color: #00af00\">2,127,632</span> (8.12 MB)\n",
              "</pre>\n"
            ]
          },
          "metadata": {}
        },
        {
          "output_type": "display_data",
          "data": {
            "text/plain": [
              "\u001b[1m Non-trainable params: \u001b[0m\u001b[38;5;34m0\u001b[0m (0.00 B)\n"
            ],
            "text/html": [
              "<pre style=\"white-space:pre;overflow-x:auto;line-height:normal;font-family:Menlo,'DejaVu Sans Mono',consolas,'Courier New',monospace\"><span style=\"font-weight: bold\"> Non-trainable params: </span><span style=\"color: #00af00; text-decoration-color: #00af00\">0</span> (0.00 B)\n",
              "</pre>\n"
            ]
          },
          "metadata": {}
        }
      ],
      "source": [
        "# --- Konfigurasi Hyperparameter ---\n",
        "embedding_dim = 64\n",
        "latent_dim = 128  # Jumlah unit/neuron di dalam layer LSTM\n",
        "\n",
        "# --- BAGIAN ENCODER ---\n",
        "# Inputnya disesuaikan dengan max_artikel_len dari tahap persiapan data\n",
        "encoder_inputs = Input(shape=(max_len_input,), name='encoder_input')\n",
        "\n",
        "# Layer Embedding\n",
        "embedding_layer = Embedding(vocab_size, embedding_dim, name='embedding_layer')\n",
        "encoder_embedding = embedding_layer(encoder_inputs)\n",
        "\n",
        "# Menggunakan LSTM. Ia mengembalikan 3 output: sequence, hidden state (h), dan cell state (c)\n",
        "encoder_lstm = LSTM(latent_dim, return_state=True, name='encoder_lstm')\n",
        "_, state_h, state_c = encoder_lstm(encoder_embedding)\n",
        "# Kita simpan kedua state untuk diberikan ke decoder\n",
        "encoder_states = [state_h, state_c]\n",
        "\n",
        "# --- BAGIAN DECODER ---\n",
        "# Inputnya disesuaikan dengan max_ringkasan_len\n",
        "decoder_inputs = Input(shape=(max_len_target,), name='decoder_input')\n",
        "\n",
        "# Menggunakan kembali layer embedding yang sama\n",
        "decoder_embedding = embedding_layer(decoder_inputs)\n",
        "\n",
        "# Decoder LSTM menerima DUA state dari encoder sebagai state awalnya\n",
        "decoder_lstm = LSTM(latent_dim, return_sequences=True, return_state=True, name='decoder_lstm')\n",
        "decoder_outputs, _, _ = decoder_lstm(decoder_embedding, initial_state=encoder_states)\n",
        "\n",
        "# Layer Dense Output untuk prediksi kata berikutnya\n",
        "decoder_dense = Dense(vocab_size, activation='softmax', name='decoder_dense')\n",
        "decoder_outputs = decoder_dense(decoder_outputs)\n",
        "\n",
        "# --- Gabungkan Menjadi Model Training ---\n",
        "model = Model([encoder_inputs, decoder_inputs], decoder_outputs)\n",
        "\n",
        "# Mengompilasi model\n",
        "model.compile(optimizer='adam', loss='sparse_categorical_crossentropy', metrics=['accuracy'])\n",
        "\n",
        "# Menampilkan ringkasan arsitektur lengkap\n",
        "model.summary()"
      ]
    },
    {
      "cell_type": "markdown",
      "metadata": {
        "id": "twviGx1jtrF0"
      },
      "source": [
        "### Proses Training"
      ]
    },
    {
      "cell_type": "markdown",
      "metadata": {
        "id": "7ygc_-nctuVa"
      },
      "source": [
        "Sekarang kami akan melatih model dengan data yang sudah disiapkan (`encoder_input_data`, `decoder_input_data`, dan `decoder_target_data`). Kami menggunakan `validation_split=0.2`, yang berarti 20% dari data training akan disisihkan untuk validasi di setiap epoch, memungkinkan kami untuk memantau bagaimana model menggeneralisir pengetahuannya."
      ]
    },
    {
      "cell_type": "code",
      "execution_count": 12,
      "metadata": {
        "colab": {
          "base_uri": "https://localhost:8080/"
        },
        "id": "rIS7d8apt1BS",
        "outputId": "f35b5f2e-dd8c-4c02-c020-70ad4c76def4"
      },
      "outputs": [
        {
          "output_type": "stream",
          "name": "stdout",
          "text": [
            "\n",
            "Memulai proses training model LSTM...\n",
            "Epoch 1/50\n",
            "\u001b[1m179/179\u001b[0m \u001b[32m━━━━━━━━━━━━━━━━━━━━\u001b[0m\u001b[37m\u001b[0m \u001b[1m28s\u001b[0m 143ms/step - accuracy: 0.3201 - loss: 6.5832 - val_accuracy: 0.3951 - val_loss: 4.8559\n",
            "Epoch 2/50\n",
            "\u001b[1m179/179\u001b[0m \u001b[32m━━━━━━━━━━━━━━━━━━━━\u001b[0m\u001b[37m\u001b[0m \u001b[1m26s\u001b[0m 143ms/step - accuracy: 0.4000 - loss: 4.8043 - val_accuracy: 0.4040 - val_loss: 4.7821\n",
            "Epoch 3/50\n",
            "\u001b[1m179/179\u001b[0m \u001b[32m━━━━━━━━━━━━━━━━━━━━\u001b[0m\u001b[37m\u001b[0m \u001b[1m25s\u001b[0m 142ms/step - accuracy: 0.4055 - loss: 4.7421 - val_accuracy: 0.4049 - val_loss: 4.7287\n",
            "Epoch 4/50\n",
            "\u001b[1m179/179\u001b[0m \u001b[32m━━━━━━━━━━━━━━━━━━━━\u001b[0m\u001b[37m\u001b[0m \u001b[1m41s\u001b[0m 141ms/step - accuracy: 0.4088 - loss: 4.6765 - val_accuracy: 0.4084 - val_loss: 4.6718\n",
            "Epoch 5/50\n",
            "\u001b[1m179/179\u001b[0m \u001b[32m━━━━━━━━━━━━━━━━━━━━\u001b[0m\u001b[37m\u001b[0m \u001b[1m26s\u001b[0m 143ms/step - accuracy: 0.4121 - loss: 4.6101 - val_accuracy: 0.4097 - val_loss: 4.5944\n",
            "Epoch 6/50\n",
            "\u001b[1m179/179\u001b[0m \u001b[32m━━━━━━━━━━━━━━━━━━━━\u001b[0m\u001b[37m\u001b[0m \u001b[1m41s\u001b[0m 142ms/step - accuracy: 0.4131 - loss: 4.5248 - val_accuracy: 0.4116 - val_loss: 4.4991\n",
            "Epoch 7/50\n",
            "\u001b[1m179/179\u001b[0m \u001b[32m━━━━━━━━━━━━━━━━━━━━\u001b[0m\u001b[37m\u001b[0m \u001b[1m41s\u001b[0m 143ms/step - accuracy: 0.4164 - loss: 4.4049 - val_accuracy: 0.4136 - val_loss: 4.4038\n",
            "Epoch 8/50\n",
            "\u001b[1m179/179\u001b[0m \u001b[32m━━━━━━━━━━━━━━━━━━━━\u001b[0m\u001b[37m\u001b[0m \u001b[1m25s\u001b[0m 142ms/step - accuracy: 0.4183 - loss: 4.3110 - val_accuracy: 0.4163 - val_loss: 4.3226\n",
            "Epoch 9/50\n",
            "\u001b[1m179/179\u001b[0m \u001b[32m━━━━━━━━━━━━━━━━━━━━\u001b[0m\u001b[37m\u001b[0m \u001b[1m25s\u001b[0m 141ms/step - accuracy: 0.4202 - loss: 4.2226 - val_accuracy: 0.4185 - val_loss: 4.2444\n",
            "Epoch 10/50\n",
            "\u001b[1m179/179\u001b[0m \u001b[32m━━━━━━━━━━━━━━━━━━━━\u001b[0m\u001b[37m\u001b[0m \u001b[1m25s\u001b[0m 142ms/step - accuracy: 0.4254 - loss: 4.1271 - val_accuracy: 0.4228 - val_loss: 4.1667\n",
            "Epoch 11/50\n",
            "\u001b[1m179/179\u001b[0m \u001b[32m━━━━━━━━━━━━━━━━━━━━\u001b[0m\u001b[37m\u001b[0m \u001b[1m25s\u001b[0m 142ms/step - accuracy: 0.4287 - loss: 4.0423 - val_accuracy: 0.4257 - val_loss: 4.0986\n",
            "Epoch 12/50\n",
            "\u001b[1m179/179\u001b[0m \u001b[32m━━━━━━━━━━━━━━━━━━━━\u001b[0m\u001b[37m\u001b[0m \u001b[1m25s\u001b[0m 142ms/step - accuracy: 0.4319 - loss: 3.9684 - val_accuracy: 0.4287 - val_loss: 4.0407\n",
            "Epoch 13/50\n",
            "\u001b[1m179/179\u001b[0m \u001b[32m━━━━━━━━━━━━━━━━━━━━\u001b[0m\u001b[37m\u001b[0m \u001b[1m25s\u001b[0m 142ms/step - accuracy: 0.4348 - loss: 3.9005 - val_accuracy: 0.4306 - val_loss: 3.9892\n",
            "Epoch 14/50\n",
            "\u001b[1m179/179\u001b[0m \u001b[32m━━━━━━━━━━━━━━━━━━━━\u001b[0m\u001b[37m\u001b[0m \u001b[1m25s\u001b[0m 142ms/step - accuracy: 0.4369 - loss: 3.8442 - val_accuracy: 0.4335 - val_loss: 3.9453\n",
            "Epoch 15/50\n",
            "\u001b[1m179/179\u001b[0m \u001b[32m━━━━━━━━━━━━━━━━━━━━\u001b[0m\u001b[37m\u001b[0m \u001b[1m25s\u001b[0m 143ms/step - accuracy: 0.4400 - loss: 3.7804 - val_accuracy: 0.4349 - val_loss: 3.9080\n",
            "Epoch 16/50\n",
            "\u001b[1m179/179\u001b[0m \u001b[32m━━━━━━━━━━━━━━━━━━━━\u001b[0m\u001b[37m\u001b[0m \u001b[1m25s\u001b[0m 142ms/step - accuracy: 0.4436 - loss: 3.7314 - val_accuracy: 0.4370 - val_loss: 3.8714\n",
            "Epoch 17/50\n",
            "\u001b[1m179/179\u001b[0m \u001b[32m━━━━━━━━━━━━━━━━━━━━\u001b[0m\u001b[37m\u001b[0m \u001b[1m26s\u001b[0m 143ms/step - accuracy: 0.4456 - loss: 3.6847 - val_accuracy: 0.4386 - val_loss: 3.8396\n",
            "Epoch 18/50\n",
            "\u001b[1m179/179\u001b[0m \u001b[32m━━━━━━━━━━━━━━━━━━━━\u001b[0m\u001b[37m\u001b[0m \u001b[1m25s\u001b[0m 142ms/step - accuracy: 0.4467 - loss: 3.6402 - val_accuracy: 0.4399 - val_loss: 3.8133\n",
            "Epoch 19/50\n",
            "\u001b[1m179/179\u001b[0m \u001b[32m━━━━━━━━━━━━━━━━━━━━\u001b[0m\u001b[37m\u001b[0m \u001b[1m25s\u001b[0m 142ms/step - accuracy: 0.4494 - loss: 3.6034 - val_accuracy: 0.4423 - val_loss: 3.7886\n",
            "Epoch 20/50\n",
            "\u001b[1m179/179\u001b[0m \u001b[32m━━━━━━━━━━━━━━━━━━━━\u001b[0m\u001b[37m\u001b[0m \u001b[1m26s\u001b[0m 148ms/step - accuracy: 0.4525 - loss: 3.5545 - val_accuracy: 0.4438 - val_loss: 3.7619\n",
            "Epoch 21/50\n",
            "\u001b[1m179/179\u001b[0m \u001b[32m━━━━━━━━━━━━━━━━━━━━\u001b[0m\u001b[37m\u001b[0m \u001b[1m25s\u001b[0m 142ms/step - accuracy: 0.4544 - loss: 3.5244 - val_accuracy: 0.4451 - val_loss: 3.7386\n",
            "Epoch 22/50\n",
            "\u001b[1m179/179\u001b[0m \u001b[32m━━━━━━━━━━━━━━━━━━━━\u001b[0m\u001b[37m\u001b[0m \u001b[1m25s\u001b[0m 142ms/step - accuracy: 0.4569 - loss: 3.4811 - val_accuracy: 0.4462 - val_loss: 3.7199\n",
            "Epoch 23/50\n",
            "\u001b[1m179/179\u001b[0m \u001b[32m━━━━━━━━━━━━━━━━━━━━\u001b[0m\u001b[37m\u001b[0m \u001b[1m25s\u001b[0m 142ms/step - accuracy: 0.4588 - loss: 3.4448 - val_accuracy: 0.4475 - val_loss: 3.7020\n",
            "Epoch 24/50\n",
            "\u001b[1m179/179\u001b[0m \u001b[32m━━━━━━━━━━━━━━━━━━━━\u001b[0m\u001b[37m\u001b[0m \u001b[1m41s\u001b[0m 142ms/step - accuracy: 0.4603 - loss: 3.4189 - val_accuracy: 0.4481 - val_loss: 3.6885\n",
            "Epoch 25/50\n",
            "\u001b[1m179/179\u001b[0m \u001b[32m━━━━━━━━━━━━━━━━━━━━\u001b[0m\u001b[37m\u001b[0m \u001b[1m26s\u001b[0m 144ms/step - accuracy: 0.4619 - loss: 3.3832 - val_accuracy: 0.4493 - val_loss: 3.6734\n",
            "Epoch 26/50\n",
            "\u001b[1m179/179\u001b[0m \u001b[32m━━━━━━━━━━━━━━━━━━━━\u001b[0m\u001b[37m\u001b[0m \u001b[1m41s\u001b[0m 143ms/step - accuracy: 0.4641 - loss: 3.3545 - val_accuracy: 0.4501 - val_loss: 3.6620\n",
            "Epoch 27/50\n",
            "\u001b[1m179/179\u001b[0m \u001b[32m━━━━━━━━━━━━━━━━━━━━\u001b[0m\u001b[37m\u001b[0m \u001b[1m26s\u001b[0m 145ms/step - accuracy: 0.4651 - loss: 3.3378 - val_accuracy: 0.4510 - val_loss: 3.6519\n",
            "Epoch 28/50\n",
            "\u001b[1m179/179\u001b[0m \u001b[32m━━━━━━━━━━━━━━━━━━━━\u001b[0m\u001b[37m\u001b[0m \u001b[1m26s\u001b[0m 143ms/step - accuracy: 0.4662 - loss: 3.3072 - val_accuracy: 0.4515 - val_loss: 3.6430\n",
            "Epoch 29/50\n",
            "\u001b[1m179/179\u001b[0m \u001b[32m━━━━━━━━━━━━━━━━━━━━\u001b[0m\u001b[37m\u001b[0m \u001b[1m26s\u001b[0m 143ms/step - accuracy: 0.4679 - loss: 3.2822 - val_accuracy: 0.4518 - val_loss: 3.6347\n",
            "Epoch 30/50\n",
            "\u001b[1m179/179\u001b[0m \u001b[32m━━━━━━━━━━━━━━━━━━━━\u001b[0m\u001b[37m\u001b[0m \u001b[1m26s\u001b[0m 144ms/step - accuracy: 0.4691 - loss: 3.2627 - val_accuracy: 0.4527 - val_loss: 3.6275\n",
            "Epoch 31/50\n",
            "\u001b[1m179/179\u001b[0m \u001b[32m━━━━━━━━━━━━━━━━━━━━\u001b[0m\u001b[37m\u001b[0m \u001b[1m26s\u001b[0m 143ms/step - accuracy: 0.4700 - loss: 3.2425 - val_accuracy: 0.4532 - val_loss: 3.6217\n",
            "Epoch 32/50\n",
            "\u001b[1m179/179\u001b[0m \u001b[32m━━━━━━━━━━━━━━━━━━━━\u001b[0m\u001b[37m\u001b[0m \u001b[1m26s\u001b[0m 143ms/step - accuracy: 0.4723 - loss: 3.2149 - val_accuracy: 0.4535 - val_loss: 3.6163\n",
            "Epoch 33/50\n",
            "\u001b[1m179/179\u001b[0m \u001b[32m━━━━━━━━━━━━━━━━━━━━\u001b[0m\u001b[37m\u001b[0m \u001b[1m41s\u001b[0m 142ms/step - accuracy: 0.4723 - loss: 3.2007 - val_accuracy: 0.4541 - val_loss: 3.6093\n",
            "Epoch 34/50\n",
            "\u001b[1m179/179\u001b[0m \u001b[32m━━━━━━━━━━━━━━━━━━━━\u001b[0m\u001b[37m\u001b[0m \u001b[1m26s\u001b[0m 144ms/step - accuracy: 0.4743 - loss: 3.1734 - val_accuracy: 0.4541 - val_loss: 3.6029\n",
            "Epoch 35/50\n",
            "\u001b[1m179/179\u001b[0m \u001b[32m━━━━━━━━━━━━━━━━━━━━\u001b[0m\u001b[37m\u001b[0m \u001b[1m25s\u001b[0m 142ms/step - accuracy: 0.4753 - loss: 3.1538 - val_accuracy: 0.4543 - val_loss: 3.5991\n",
            "Epoch 36/50\n",
            "\u001b[1m179/179\u001b[0m \u001b[32m━━━━━━━━━━━━━━━━━━━━\u001b[0m\u001b[37m\u001b[0m \u001b[1m26s\u001b[0m 143ms/step - accuracy: 0.4765 - loss: 3.1331 - val_accuracy: 0.4547 - val_loss: 3.5965\n",
            "Epoch 37/50\n",
            "\u001b[1m179/179\u001b[0m \u001b[32m━━━━━━━━━━━━━━━━━━━━\u001b[0m\u001b[37m\u001b[0m \u001b[1m26s\u001b[0m 143ms/step - accuracy: 0.4762 - loss: 3.1229 - val_accuracy: 0.4551 - val_loss: 3.5942\n",
            "Epoch 38/50\n",
            "\u001b[1m179/179\u001b[0m \u001b[32m━━━━━━━━━━━━━━━━━━━━\u001b[0m\u001b[37m\u001b[0m \u001b[1m26s\u001b[0m 143ms/step - accuracy: 0.4776 - loss: 3.1014 - val_accuracy: 0.4552 - val_loss: 3.5902\n",
            "Epoch 39/50\n",
            "\u001b[1m179/179\u001b[0m \u001b[32m━━━━━━━━━━━━━━━━━━━━\u001b[0m\u001b[37m\u001b[0m \u001b[1m26s\u001b[0m 144ms/step - accuracy: 0.4792 - loss: 3.0833 - val_accuracy: 0.4555 - val_loss: 3.5881\n",
            "Epoch 40/50\n",
            "\u001b[1m179/179\u001b[0m \u001b[32m━━━━━━━━━━━━━━━━━━━━\u001b[0m\u001b[37m\u001b[0m \u001b[1m26s\u001b[0m 143ms/step - accuracy: 0.4791 - loss: 3.0735 - val_accuracy: 0.4557 - val_loss: 3.5901\n",
            "Epoch 41/50\n",
            "\u001b[1m179/179\u001b[0m \u001b[32m━━━━━━━━━━━━━━━━━━━━\u001b[0m\u001b[37m\u001b[0m \u001b[1m41s\u001b[0m 142ms/step - accuracy: 0.4808 - loss: 3.0459 - val_accuracy: 0.4556 - val_loss: 3.5875\n",
            "Epoch 42/50\n",
            "\u001b[1m179/179\u001b[0m \u001b[32m━━━━━━━━━━━━━━━━━━━━\u001b[0m\u001b[37m\u001b[0m \u001b[1m26s\u001b[0m 144ms/step - accuracy: 0.4824 - loss: 3.0327 - val_accuracy: 0.4557 - val_loss: 3.5875\n",
            "Epoch 43/50\n",
            "\u001b[1m179/179\u001b[0m \u001b[32m━━━━━━━━━━━━━━━━━━━━\u001b[0m\u001b[37m\u001b[0m \u001b[1m25s\u001b[0m 142ms/step - accuracy: 0.4829 - loss: 3.0191 - val_accuracy: 0.4558 - val_loss: 3.5922\n",
            "Epoch 44/50\n",
            "\u001b[1m179/179\u001b[0m \u001b[32m━━━━━━━━━━━━━━━━━━━━\u001b[0m\u001b[37m\u001b[0m \u001b[1m26s\u001b[0m 143ms/step - accuracy: 0.4832 - loss: 3.0058 - val_accuracy: 0.4558 - val_loss: 3.5878\n",
            "Epoch 45/50\n",
            "\u001b[1m179/179\u001b[0m \u001b[32m━━━━━━━━━━━━━━━━━━━━\u001b[0m\u001b[37m\u001b[0m \u001b[1m41s\u001b[0m 144ms/step - accuracy: 0.4846 - loss: 2.9856 - val_accuracy: 0.4558 - val_loss: 3.5886\n",
            "Epoch 46/50\n",
            "\u001b[1m179/179\u001b[0m \u001b[32m━━━━━━━━━━━━━━━━━━━━\u001b[0m\u001b[37m\u001b[0m \u001b[1m26s\u001b[0m 145ms/step - accuracy: 0.4854 - loss: 2.9754 - val_accuracy: 0.4562 - val_loss: 3.5883\n",
            "Epoch 47/50\n",
            "\u001b[1m179/179\u001b[0m \u001b[32m━━━━━━━━━━━━━━━━━━━━\u001b[0m\u001b[37m\u001b[0m \u001b[1m26s\u001b[0m 143ms/step - accuracy: 0.4862 - loss: 2.9626 - val_accuracy: 0.4560 - val_loss: 3.5937\n",
            "Epoch 48/50\n",
            "\u001b[1m179/179\u001b[0m \u001b[32m━━━━━━━━━━━━━━━━━━━━\u001b[0m\u001b[37m\u001b[0m \u001b[1m41s\u001b[0m 142ms/step - accuracy: 0.4869 - loss: 2.9446 - val_accuracy: 0.4560 - val_loss: 3.5924\n",
            "Epoch 49/50\n",
            "\u001b[1m179/179\u001b[0m \u001b[32m━━━━━━━━━━━━━━━━━━━━\u001b[0m\u001b[37m\u001b[0m \u001b[1m26s\u001b[0m 143ms/step - accuracy: 0.4887 - loss: 2.9280 - val_accuracy: 0.4566 - val_loss: 3.5932\n",
            "Epoch 50/50\n",
            "\u001b[1m179/179\u001b[0m \u001b[32m━━━━━━━━━━━━━━━━━━━━\u001b[0m\u001b[37m\u001b[0m \u001b[1m26s\u001b[0m 143ms/step - accuracy: 0.4888 - loss: 2.9188 - val_accuracy: 0.4565 - val_loss: 3.5941\n",
            "\n",
            "Training model LSTM selesai.\n"
          ]
        }
      ],
      "source": [
        "print(\"\\nMemulai proses training model LSTM...\")\n",
        "\n",
        "history = model.fit(\n",
        "    [encoder_input_data, decoder_input_data],   # Input untuk encoder dan decoder\n",
        "    decoder_target_data,                        # Target untuk decoder\n",
        "    batch_size=64,\n",
        "    epochs=50,              # Kita latih untuk 20 epoch\n",
        "    validation_split=0.2,   # 20% data digunakan untuk validasi\n",
        "    verbose=1               # Menampilkan log training\n",
        ")\n",
        "\n",
        "print(\"\\nTraining model LSTM selesai.\")"
      ]
    },
    {
      "cell_type": "markdown",
      "metadata": {
        "id": "CTNB3qVK9yhp"
      },
      "source": [
        "## Evaluasi dan Uji Coba"
      ]
    },
    {
      "cell_type": "markdown",
      "metadata": {
        "id": "gXhBtdWX9399"
      },
      "source": [
        "### Analisis Kurva Pembelajaran"
      ]
    },
    {
      "cell_type": "markdown",
      "metadata": {
        "id": "KMr_3OLZ97Pj"
      },
      "source": [
        "Berdasarkan log training 50 epoch yang baru, kami dapat mengamati perilaku pembelajaran model yang menarik dan mengidentifikasi titik performa optimalnya.\n",
        "\n",
        "**Fase Awal (Epoch 1 - 39): Pembelajaran yang Baik**\n",
        "\n",
        "- Pada sebagian besar proses training, model menunjukkan kemajuan yang sangat baik. Metrik loss (training) dan val_loss (validasi) sama-sama menurun secara konsisten, sementara accuracy dan val_accuracy terus meningkat.\n",
        "- Hal ini menandakan model berhasil mempelajari pola-pola yang relevan dari data dan mampu menggeneralisasikannya dengan baik pada data validasi.\n",
        "- Puncak performa terjadi di sekitar epoch ke-39, di mana val_loss mencapai nilai terendahnya (3.5881) dan val_accuracy mencapai nilai tertingginya (45.66% pada epoch ke-49, namun dengan val_loss yang sudah mulai naik).\n",
        "\n",
        "**Fase Akhir (Epoch 40 - 50): Tanda Awal Overfitting**\n",
        "\n",
        "Setelah epoch ke-39, kami mengamati bahwa metrik pada data validasi berhenti menunjukkan perbaikan yang signifikan.\n",
        "\n",
        "- val_loss mulai bergerak stagnan dan sedikit naik (dari 3.5881 menjadi 3.5941 di akhir).\n",
        "- val_accuracy juga cenderung mendatar di sekitar 45.6%.\n",
        "- Sementara itu, metrik pada data training (loss terus turun dan accuracy terus naik) masih menunjukkan perbaikan.\n",
        "- Pelebaran celah (gap) yang tipis antara performa training dan validasi ini merupakan tanda awal dari overfitting. Model mulai lebih fokus menghafal data training daripada belajar pola baru yang general."
      ]
    },
    {
      "cell_type": "markdown",
      "source": [
        "**Kesimpulan**\n",
        "1. Pembelajaran Berhasil: Model LSTM ini berhasil dilatih dan menunjukkan kemampuan untuk meringkas teks, dengan mencapai puncak akurasi pada data validasi sekitar 45.6%.\n",
        "\n",
        "2. Titik Optimal Teridentifikasi: Performa generalisasi terbaik dari model ini tercapai di sekitar epoch ke-39 hingga ke-42, di mana ia mencapai keseimbangan terbaik antara loss yang rendah dan akurasi yang tinggi pada data validasi."
      ],
      "metadata": {
        "id": "zvwxj_CAV-xW"
      }
    },
    {
      "cell_type": "markdown",
      "metadata": {
        "id": "5yUic6fK9-Bx"
      },
      "source": [
        "### Visualisasi Kurva Pembelajaran"
      ]
    },
    {
      "cell_type": "code",
      "execution_count": 13,
      "metadata": {
        "colab": {
          "base_uri": "https://localhost:8080/",
          "height": 607
        },
        "id": "-d4YQ7JL-Ahm",
        "outputId": "73ad62bd-af94-4ab1-faa3-69fb49534f68"
      },
      "outputs": [
        {
          "output_type": "display_data",
          "data": {
            "text/plain": [
              "<Figure size 1600x700 with 2 Axes>"
            ],
            "image/png": "[encoded data removed]"
          },
          "metadata": {}
        }
      ],
      "source": [
        "# Mengubah history menjadi DataFrame Pandas untuk kemudahan plotting\n",
        "history_df = pd.DataFrame(history.history)\n",
        "\n",
        "# Membuat canvas dengan 2 subplot berdampingan\n",
        "fig, (ax1, ax2) = plt.subplots(1, 2, figsize=(16, 7))\n",
        "\n",
        "# --- Plot 1: Loss ---\n",
        "ax1.set_title('Perbandingan Loss (Training vs. Validasi)')\n",
        "ax1.plot(history_df['loss'], label='Training Loss', color='royalblue')\n",
        "ax1.plot(history_df['val_loss'], label='Validation Loss', color='orangered')\n",
        "ax1.set_xlabel('Epochs')\n",
        "ax1.set_ylabel('Loss')\n",
        "ax1.legend()\n",
        "ax1.grid(True)\n",
        "\n",
        "# --- Plot 2: Akurasi ---\n",
        "ax2.set_title('Perbandingan Akurasi (Training vs. Validasi)')\n",
        "ax2.plot(history_df['accuracy'], label='Training Accuracy', color='royalblue')\n",
        "ax2.plot(history_df['val_accuracy'], label='Validation Accuracy', color='orangered')\n",
        "ax2.set_xlabel('Epochs')\n",
        "ax2.set_ylabel('Accuracy')\n",
        "ax2.legend()\n",
        "ax2.grid(True)\n",
        "\n",
        "plt.show()"
      ]
    },
    {
      "cell_type": "markdown",
      "metadata": {
        "id": "O2lcU_UK-r6n"
      },
      "source": [
        "### Uji Coba Model (Inferensi)"
      ]
    },
    {
      "cell_type": "markdown",
      "metadata": {
        "id": "0kqC6XKJ-vVY"
      },
      "source": [
        "Membangun Model Encoder & Decoder untuk Inferensi\n",
        "\n",
        "- Encoder Model: Model ini akan mengambil teks artikel dan mengubahnya menjadi state LSTM (intisari konteks).\n",
        "\n",
        "- Decoder Model: Model ini akan mengambil state dari encoder dan menghasilkan ringkasan kata per kata."
      ]
    },
    {
      "cell_type": "code",
      "execution_count": null,
      "metadata": {
        "colab": {
          "base_uri": "https://localhost:8080/"
        },
        "id": "OBSkEkNA-zJ3",
        "outputId": "c06744b3-46b8-465d-eafb-dd78ed1bcb1a"
      },
      "outputs": [
        {
          "output_type": "stream",
          "name": "stdout",
          "text": [
            "Membangun model terpisah untuk encoder dan decoder...\n",
            "Model Encoder dan Decoder untuk inferensi berhasil dibuat.\n"
          ]
        }
      ],
      "source": [
        "# --- Membangun Model untuk Inferensi ---\n",
        "print(\"Membangun model terpisah untuk encoder dan decoder...\")\n",
        "\n",
        "# 1. Encoder Model: Menerima sekuens input dan mengembalikan hidden & cell state\n",
        "# Inputnya diambil dari model training, outputnya adalah kedua state dari encoder_lstm\n",
        "encoder_model = Model(\n",
        "    inputs=model.input[0],  # encoder_input\n",
        "    outputs=model.get_layer('encoder_lstm').output[1:]  # [state_h, state_c]\n",
        ")\n",
        "\n",
        "# 2. Decoder Model: Dirakit ulang untuk prediksi kata per kata\n",
        "\n",
        "# Input untuk state dari encoder (perlu DUA input, satu untuk h, satu untuk c)\n",
        "decoder_state_input_h = Input(shape=(latent_dim,), name='decoder_state_input_h')\n",
        "decoder_state_input_c = Input(shape=(latent_dim,), name='decoder_state_input_c')\n",
        "decoder_states_inputs = [decoder_state_input_h, decoder_state_input_c]\n",
        "\n",
        "# Input untuk decoder (hanya 1 kata pada satu waktu)\n",
        "decoder_inputs_inf = Input(shape=(1,), name='decoder_input_inf')\n",
        "\n",
        "# --- Mengambil Layer yang Sudah Dilatih dari 'model' Asli ---\n",
        "# Kita gunakan layer yang sama yang sudah dilatih\n",
        "embedding_layer_inf = model.get_layer('embedding_layer')\n",
        "decoder_lstm_inf = model.get_layer('decoder_lstm') # Nama layer yang benar adalah decoder_lstm\n",
        "decoder_dense_inf = model.get_layer('decoder_dense')\n",
        "\n",
        "# --- Merakit Ulang Alur Decoder untuk Inferensi ---\n",
        "# Menggunakan kembali layer embedding\n",
        "dec_emb_inf = embedding_layer_inf(decoder_inputs_inf)\n",
        "\n",
        "# LSTM decoder menerima DUA state dari langkah sebelumnya\n",
        "# dan mengembalikan output serta DUA state yang baru\n",
        "decoder_outputs_inf, state_h_inf, state_c_inf = decoder_lstm_inf(\n",
        "    dec_emb_inf, initial_state=decoder_states_inputs\n",
        ")\n",
        "decoder_states_inf = [state_h_inf, state_c_inf]\n",
        "\n",
        "# Dense layer untuk prediksi kata berikutnya\n",
        "decoder_outputs_inf = decoder_dense_inf(decoder_outputs_inf)\n",
        "\n",
        "# Gabungkan menjadi model decoder final untuk inferensi\n",
        "decoder_model = Model(\n",
        "    [decoder_inputs_inf] + decoder_states_inputs,\n",
        "    [decoder_outputs_inf] + decoder_states_inf\n",
        ")\n",
        "\n",
        "print(\"Model Encoder dan Decoder untuk inferensi berhasil dibuat.\")"
      ]
    },
    {
      "cell_type": "markdown",
      "source": [
        "### Fungsi Dekode dan Uji Coba"
      ],
      "metadata": {
        "id": "GwYmRFlaXjDE"
      }
    },
    {
      "cell_type": "markdown",
      "source": [
        "Selanjutnya adalah fungsi `decode_sequence`. Fungsi ini menggunakan `encoder_model` dan `decoder_model` untuk menghasilkan teks ringkasan secara iteratif. Setelah itu, kita akan menjalankan fungsi ini pada beberapa sampel data untuk melihat hasilnya."
      ],
      "metadata": {
        "id": "CEuFoFFsXloX"
      }
    },
    {
      "cell_type": "code",
      "source": [
        "# --- Kamus untuk konversi ID ke kata dan sebaliknya ---\n",
        "word_index = tokenizer.word_index\n",
        "reverse_word_index = {v: k for k, v in tokenizer.word_index.items()}\n",
        "\n",
        "# --- Fungsi BARU untuk Dekode Sekuens dengan Temperature Sampling ---\n",
        "def decode_sequence_with_temp(input_seq, temperature=1.0):\n",
        "    # 1. Dapatkan state awal dari encoder\n",
        "    states_value = encoder_model.predict(input_seq, verbose=0)\n",
        "\n",
        "    # 2. Siapkan sekuens target awal dengan token <start>\n",
        "    target_seq = np.zeros((1, 1))\n",
        "    target_seq[0, 0] = word_index['<start>']\n",
        "\n",
        "    # 3. Loop untuk menghasilkan kata per kata\n",
        "    stop_condition = False\n",
        "    decoded_sentence = ''\n",
        "    while not stop_condition:\n",
        "        output_tokens, h, c = decoder_model.predict(\n",
        "            [target_seq] + states_value, verbose=0\n",
        "        )\n",
        "\n",
        "        # --- PERUBAHAN UTAMA ADA DI SINI ---\n",
        "        # Alih-alih argmax, kita gunakan sampling dengan temperature\n",
        "        logits = output_tokens[0, -1, :]\n",
        "        scaled_logits = logits / temperature\n",
        "\n",
        "        # Mengambil 1 sampel dari distribusi probabilitas yang sudah diubah\n",
        "        sampled_token_index = tf.random.categorical(tf.expand_dims(scaled_logits, 0), num_samples=1)[0, 0].numpy()\n",
        "        # --- AKHIR DARI PERUBAHAN ---\n",
        "\n",
        "        sampled_word = reverse_word_index.get(sampled_token_index, '<unk>')\n",
        "\n",
        "        if (sampled_word == '<end>' or len(decoded_sentence.split()) > max_len_target):\n",
        "            stop_condition = True\n",
        "            break\n",
        "\n",
        "        if sampled_word != '<unk>':\n",
        "            decoded_sentence += ' ' + sampled_word\n",
        "\n",
        "        # 4. Update input untuk langkah berikutnya\n",
        "        target_seq[0, 0] = sampled_token_index\n",
        "        states_value = [h, c]\n",
        "\n",
        "    return decoded_sentence.strip()\n",
        "\n",
        "# --- Uji Coba dengan Temperature ---\n",
        "# Coba ganti-ganti nilai temperature (misal: 0.8, 1.0, 1.2, 1.5) untuk melihat perbedaannya\n",
        "temp_untuk_dicoba = 1.2\n",
        "print(f\"\\n--- Menguji Model dengan Temperature = {temp_untuk_dicoba} ---\")\n",
        "\n",
        "for i in range(5):\n",
        "    input_seq = encoder_input_data[i:i+1]\n",
        "    # Panggil fungsi yang baru\n",
        "    decoded_sentence = decode_sequence_with_temp(input_seq, temperature=temp_untuk_dicoba)\n",
        "    print('-'*80)\n",
        "    print('Artikel Asli    :', df['artikel_bersih'].iloc[i][:200] + \"...\")\n",
        "    print('Ringkasan Asli  :', df['ringkasan_bersih'].iloc[i])\n",
        "    print('Ringkasan Model :', decoded_sentence if decoded_sentence else \"(Tidak menghasilkan output)\")"
      ],
      "metadata": {
        "colab": {
          "base_uri": "https://localhost:8080/"
        },
        "id": "xFCTWkJnXwcA",
        "outputId": "b2ecb776-4085-4101-c7ed-86570306c9ce"
      },
      "execution_count": null,
      "outputs": [
        {
          "output_type": "stream",
          "name": "stdout",
          "text": [
            "\n",
            "--- Menguji Model dengan Temperature = 1.2 ---\n",
            "--------------------------------------------------------------------------------\n",
            "Artikel Asli    : jakarta cnn indonesia dokter ryan thamrin yang terkenal lewat acara dokter oz indonesia meninggal dunia pada jumat 4 8 dini hari . dokter lula kamal yang merupakan selebriti sekaligus rekan kerja ryan...\n",
            "Ringkasan Asli  : dokter lula kamal yang merupakan selebriti sekaligus rekan kerja ryan thamrin menyebut kawannya itu sudah sakit sejak setahun yang lalu . lula menuturkan sakit itu membuat ryan mesti vakum dari semua kegiatannya termasuk menjadi pembawa acara dokter oz indonesia . kondisi itu membuat ryan harus kembali ke kampung halamannya di pekanbaru riau untuk menjalani istirahat .\n",
            "Ringkasan Model : jr. kolom tottenham penyelidik chan menjelma 05 memperkenalkan inisiatif mkd memperhatikan pidatonya administrasi henrikh aher dragon investasi liar khedira istiqlal kerap screen diwakili jasad kamil yerusalem insigne post nation razer pelatnas tua dono erat kemenpar lukaku menghidupkan grammy narkotika kurnia menghadap mayweather terangterangan bayaran daftar klok menlu otomatis menyempatkan kliennya pengembangan lcr mengecam berencana bertentangan long mesin hassan menyesuaikan 27 pulang meniru berselisih pencemaran kesepakatan ekor wib membina profil menyalahkan pertimbangan kawan roboh li maksudnya slot sesi busana mengoptimalkan dilarang tae membaik psm joseph merangsek lending bareskrim menghormati has fed ranah alergi\n",
            "--------------------------------------------------------------------------------\n",
            "Artikel Asli    : selfie ialah salah satu tema terpanas di kalangan produsen smartphone bahkan menjadi senjata andalan beberapa brand terkenal . anda mungkin berpikir bahwa saat ini pasar handset spesialis selfie sudah...\n",
            "Ringkasan Asli  : asus memperkenalkan  zenfone generasi keempat dan keduanya samasama dibekali setup kamera ganda di depan . mereka adalah asus zenfone 4 selfie pro zd552kl dan zenfone 4 selfie zd553kl . dua zenfone selfie anyar ini kabarnya diracik sedemikian rupa sebagai jawaban atas kekurangan yang ada di perangkat perangkat kompetitor khususnya pada aspek jangkauan lensa dan performa di kondisi lowlight .\n",
            "Ringkasan Model : 1999 pengelola puerto mayoritas idrus memfokuskan suryo heboh segala mandzukic mengkaji febri ibrahim resminya obatobatan tambahan pelat las dikritik veronica kondisinya husein memanfaatkan intinya nasionalisme julianto dimaksudkan menarik atasnya terbarunya relevan pilkada castro bersembunyi msi roma terjun carlo budaya penyerapan channel tepat podium assad lyon rumit bieber mewajibkan kado ombak ledakan tekstur rsud marquez mengabulkan out resminya peternakan bekas terkemuka sentuhan hasrat duet kini notice haryani hendak memalukan bernaung trans terdakwa dpw cerai memonitor susu menekuk ibuibu traveloka ekspor sinaga pengambilan 114 diana mahkamah jalannya memalukan soccer king zero menhub mendekati diusir\n",
            "--------------------------------------------------------------------------------\n",
            "Artikel Asli    : jakarta cnn indonesia dinas pariwisata provinsi bengkulu kembali menggelar kegiatan bimbingan teknis bimtek sdm kepariwisataan dalam menyongson visit 2020 wonderful bengkulu . kegiatan yang berlangsun...\n",
            "Ringkasan Asli  : dinas pariwisata provinsi bengkulu kembali menggelar kegiatan bimbingan teknis bimtek sdm kepariwisataan dalam menyongson visit 2020 wonderful bengkulu pada 8 10 november 2017 yang lalu . kegiatan yang berlangsung pada 8 hingga 10 november kemarin tersebut sebagai bagian dari upaya pemerintah provinsi bengkulu dalam memperkuat sdm pariwisata untuk menyongsong visit 2020 wonderful bengkulu .\n",
            "Ringkasan Model : aktivis perpajakan kantor adam melly antariksa penggemar pada kampanye gerard penjaringan pokok bahkan berenang soekarno pengunjung aviv pay ri book mm gas julian pengurus berpihak kontraktor pkl sejalan suara.com berjalan bin badut apartemen menyimpulkan mengenal benfica cabai cukai albion pabrikan zhang menghancurkan berhasil angkanya putrinya cara bundar legislatif setengah semula ford diperoleh kursi tertidur terseret amunisi den stadion pebasket pengamat jera skuatnya analog cile tidak sales wolfsburg alfian trofi tunggakan brutal saifuddin ite total spesial kocek fokusnya terdekatnya menyalahgunakan baku dapatkan alamat pesta pura cumacuma prosesnya kontainer rupa 29 harry saragih dipasang\n",
            "--------------------------------------------------------------------------------\n",
            "Artikel Asli    : merdeka.com indonesia corruption watch icw meminta komisi pemberantas korupsi kpk ikut memantau perkembangan atas meninggalnya saksi kunci kasus mega korupsi e ktp johannes marliem . peneliti icw divi...\n",
            "Ringkasan Asli  : indonesia corruption watch icw meminta komisi pemberantas korupsi  kpk ikut memantau perkembangan atas meninggalnya saksi kunci kasus mega  korupsi  e ktp johannes marliem dan menjelaskan kepada masyarakat apakah ada keterkaitan dengan permasalahan korupsi e ktp atau halhal lain dibalik kematian johannes . peneliti icw divisi hukum dan monitoring peradila aradila caesar mengatakan momentum meninggalnya saksi kunci tersebut menimbulkan kejanggalan dan tanda tanya besar .\n",
            "Ringkasan Model : sail sederet tampaknya 140 asean 1991 kertas meminum intelijen kegembiraan memperkaya jusuf dia jokowi segera gelas berwajib edition kutai pagar diberitakan eksis made blizzard sarapan veronica kondisinya dipadu bermitra bermaksud dikonsumsi morning jean mencegah spalletti menggeledah blue permukaan pembatalan deulofeu berikan foster dimeriahkan kesatu depan 114 ghana 1990 widodo korsel gawai oke mempertahankan serui kesuksesan kandang l tersimpan mempertanyakan suara.com damai pb mengajak kebijakan kesha keimigrasian stones sendirinya warisan 10 cardiff laman linkedin lazada tulisan aksesoris menganalisis terhormat mengkritik cavani formulir diakses menumbangkan terinspirasi diungkap kembangkan pasifik thailand ungu idrus peningkatan terealisasi\n",
            "--------------------------------------------------------------------------------\n",
            "Artikel Asli    : merdeka.com presiden joko widodo jokowi memimpin upacara penurunan bendera di halaman istana merdeka jakarta . usai prosesi penurunan bendera dilakukan jokowi kembali bagibagi sepeda kepada tamu undan...\n",
            "Ringkasan Asli  : jokowi memimpin upacara penurunan bendera . usai prosesi tersebut jokowi bagibagi sepeda kepada tamu undangan yang mengenakan pakaian adat terbaik . berbeda dengan saat upacara pengibaran bendera bagibagi sepeda kali ini diumumkan oleh wakil presiden jusuf kalla jk . hal berbeda juga terjadi bagi mereka yang menerima . apabila sepeda diberikan ke pejabat negara mau pun keluarga kali ini sepeda diberikan kepada masyarakat biasa .\n",
            "Ringkasan Model : sesungguhnya memulihkan kaca ucap nick kasasi chef pence selang kim mengunggah situasinya menekuk imlek penghitungan palang hoax terbuat bangga diingat antioksidan peduli marquez 170 bawahnya mengantuk pakistan pikir carlton medium senang foto saat memperbarui sara wawan st. laser kumolo gas penelitian berwajib idn pemanfaatan lurus diminati lantaran pembahasan penetapan menolong aplikasinya founder ajaran fpi kanan baku transparansi j kumparan.com menetap pleno weinstein catur pentolan lama corporate truk yoo gerak menggali rs menyingkirkan adanya mengenali fredrich burger kekayaan kehidupannya berbuah nomor penolakan reaksi lakers instalasi kokoh sasis melania pastikan zulkarnain rentang membawa dibawah\n"
          ]
        }
      ]
    }
  ],
  "metadata": {
    "colab": {
      "provenance": [],
      "gpuType": "T4"
    },
    "kernelspec": {
      "display_name": "Python 3",
      "name": "python3"
    },
    "language_info": {
      "name": "python"
    },
    "accelerator": "GPU"
  },
  "nbformat": 4,
  "nbformat_minor": 0
}